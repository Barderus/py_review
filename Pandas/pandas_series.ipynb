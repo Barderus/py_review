{
 "cells": [
  {
   "metadata": {},
   "cell_type": "markdown",
   "source": [
    "# Series vs DataFrame\n",
    "- One dimensional\n",
    "- - Indexed\n",
    "- - Diverse Data Types"
   ],
   "id": "47896c08bb6e6944"
  },
  {
   "metadata": {
    "ExecuteTime": {
     "end_time": "2024-08-27T00:39:02.754711Z",
     "start_time": "2024-08-27T00:39:02.063340Z"
    }
   },
   "cell_type": "code",
   "source": "import pandas as pd",
   "id": "bc3f41ee7f0288cc",
   "outputs": [],
   "execution_count": 1
  },
  {
   "cell_type": "code",
   "id": "initial_id",
   "metadata": {
    "collapsed": true,
    "ExecuteTime": {
     "end_time": "2024-08-27T00:40:15.925498Z",
     "start_time": "2024-08-27T00:40:15.919845Z"
    }
   },
   "source": [
    "series = pd.Series([10, 20, 30, 40, 50], index=[\"a\", \"b\", \"c\", \"d\", \"e\"])\n",
    "series"
   ],
   "outputs": [
    {
     "data": {
      "text/plain": [
       "a    10\n",
       "b    20\n",
       "c    30\n",
       "d    40\n",
       "e    50\n",
       "dtype: int64"
      ]
     },
     "execution_count": 8,
     "metadata": {},
     "output_type": "execute_result"
    }
   ],
   "execution_count": 8
  },
  {
   "metadata": {
    "ExecuteTime": {
     "end_time": "2024-08-27T00:39:59.240878Z",
     "start_time": "2024-08-27T00:39:59.235279Z"
    }
   },
   "cell_type": "code",
   "source": "series.index",
   "id": "cb6ee38672958d53",
   "outputs": [
    {
     "data": {
      "text/plain": [
       "Index(['a', 'b', 'c', 'd', 'e'], dtype='object')"
      ]
     },
     "execution_count": 6,
     "metadata": {},
     "output_type": "execute_result"
    }
   ],
   "execution_count": 6
  },
  {
   "metadata": {
    "ExecuteTime": {
     "end_time": "2024-08-27T00:40:11.769611Z",
     "start_time": "2024-08-27T00:40:11.764867Z"
    }
   },
   "cell_type": "code",
   "source": "series.values",
   "id": "7e9a9462670b19b8",
   "outputs": [
    {
     "data": {
      "text/plain": [
       "array([10, 20, 30, 40, 50], dtype=int64)"
      ]
     },
     "execution_count": 7,
     "metadata": {},
     "output_type": "execute_result"
    }
   ],
   "execution_count": 7
  },
  {
   "metadata": {},
   "cell_type": "code",
   "outputs": [],
   "execution_count": null,
   "source": "",
   "id": "f82522f2c83a8806"
  }
 ],
 "metadata": {
  "kernelspec": {
   "display_name": "Python 3",
   "language": "python",
   "name": "python3"
  },
  "language_info": {
   "codemirror_mode": {
    "name": "ipython",
    "version": 2
   },
   "file_extension": ".py",
   "mimetype": "text/x-python",
   "name": "python",
   "nbconvert_exporter": "python",
   "pygments_lexer": "ipython2",
   "version": "2.7.6"
  }
 },
 "nbformat": 4,
 "nbformat_minor": 5
}
