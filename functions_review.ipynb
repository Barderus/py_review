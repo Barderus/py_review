{
 "cells": [
  {
   "metadata": {},
   "cell_type": "markdown",
   "source": "Functions Review",
   "id": "68b8f760fb92342c"
  },
  {
   "metadata": {
    "ExecuteTime": {
     "end_time": "2024-08-13T23:18:32.549591Z",
     "start_time": "2024-08-13T23:18:32.540795Z"
    }
   },
   "cell_type": "code",
   "source": [
    "data_salaries = [\n",
    "    72000,\n",
    "    85000,\n",
    "    95000,\n",
    "    103000,\n",
    "    89000,\n",
    "    78000,\n",
    "    110000,\n",
    "    97000,\n",
    "    125000,\n",
    "    88000\n",
    "]\n",
    "\n",
    "data_salaries\n"
   ],
   "id": "c658d3a2435bc54e",
   "outputs": [
    {
     "data": {
      "text/plain": [
       "[72000, 85000, 95000, 103000, 89000, 78000, 110000, 97000, 125000, 88000]"
      ]
     },
     "execution_count": 2,
     "metadata": {},
     "output_type": "execute_result"
    }
   ],
   "execution_count": 2
  },
  {
   "metadata": {
    "ExecuteTime": {
     "end_time": "2024-08-13T23:18:34.925791Z",
     "start_time": "2024-08-13T23:18:34.920053Z"
    }
   },
   "cell_type": "code",
   "source": "min(data_salaries)",
   "id": "b046122da73b3ff",
   "outputs": [
    {
     "data": {
      "text/plain": [
       "72000"
      ]
     },
     "execution_count": 3,
     "metadata": {},
     "output_type": "execute_result"
    }
   ],
   "execution_count": 3
  },
  {
   "metadata": {
    "ExecuteTime": {
     "end_time": "2024-08-13T23:18:41.588767Z",
     "start_time": "2024-08-13T23:18:41.583202Z"
    }
   },
   "cell_type": "code",
   "source": "max(data_salaries)",
   "id": "a37a9b30bcbbb24",
   "outputs": [
    {
     "data": {
      "text/plain": [
       "125000"
      ]
     },
     "execution_count": 4,
     "metadata": {},
     "output_type": "execute_result"
    }
   ],
   "execution_count": 4
  },
  {
   "metadata": {
    "ExecuteTime": {
     "end_time": "2024-08-13T23:18:50.717184Z",
     "start_time": "2024-08-13T23:18:50.711049Z"
    }
   },
   "cell_type": "code",
   "source": "sum(data_salaries)",
   "id": "e22f1806d0b8b7a9",
   "outputs": [
    {
     "data": {
      "text/plain": [
       "942000"
      ]
     },
     "execution_count": 5,
     "metadata": {},
     "output_type": "execute_result"
    }
   ],
   "execution_count": 5
  },
  {
   "metadata": {
    "ExecuteTime": {
     "end_time": "2024-08-13T23:19:01.545515Z",
     "start_time": "2024-08-13T23:19:01.539666Z"
    }
   },
   "cell_type": "code",
   "source": "sorted(data_salaries)",
   "id": "266f88582687e7ef",
   "outputs": [
    {
     "data": {
      "text/plain": [
       "[72000, 78000, 85000, 88000, 89000, 95000, 97000, 103000, 110000, 125000]"
      ]
     },
     "execution_count": 6,
     "metadata": {},
     "output_type": "execute_result"
    }
   ],
   "execution_count": 6
  },
  {
   "metadata": {},
   "cell_type": "code",
   "outputs": [],
   "execution_count": null,
   "source": [
    "base_salary = 100000\n",
    "bonus_rate = 0.1\n",
    "\n",
    "# Calculate the total_salary of base_salary * (1 + bonus rate)\n",
    "def calculate_salary():\n",
    "    base_salary = 100000\n",
    "    bonus_rate = 0.1\n",
    "    "
   ],
   "id": "a3f25f2dbb392604"
  }
 ],
 "metadata": {
  "kernelspec": {
   "display_name": "Python 3",
   "language": "python",
   "name": "python3"
  },
  "language_info": {
   "codemirror_mode": {
    "name": "ipython",
    "version": 2
   },
   "file_extension": ".py",
   "mimetype": "text/x-python",
   "name": "python",
   "nbconvert_exporter": "python",
   "pygments_lexer": "ipython2",
   "version": "2.7.6"
  }
 },
 "nbformat": 4,
 "nbformat_minor": 5
}
