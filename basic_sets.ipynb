{
 "cells": [
  {
   "cell_type": "code",
   "execution_count": null,
   "id": "initial_id",
   "metadata": {
    "collapsed": true
   },
   "source": [
    ""
   ],
   "outputs": []
  },
  {
   "metadata": {},
   "cell_type": "markdown",
   "source": "Sets. Mutable list that can only have unique values. There is no indexing.",
   "id": "5bb7751fe7b814a4"
  },
  {
   "metadata": {
    "ExecuteTime": {
     "end_time": "2024-08-09T21:31:11.161133Z",
     "start_time": "2024-08-09T21:31:11.153566Z"
    }
   },
   "cell_type": "code",
   "source": "job_skills = {\"tableau\", \"sql\", \"python\", \"statistics\"}",
   "id": "91967c8a7918e5ed",
   "execution_count": 1,
   "outputs": []
  },
  {
   "metadata": {
    "ExecuteTime": {
     "end_time": "2024-08-09T21:31:15.215609Z",
     "start_time": "2024-08-09T21:31:15.209870Z"
    }
   },
   "cell_type": "code",
   "source": "job_skills",
   "id": "37dcb63cccdf0808",
   "execution_count": 2,
   "outputs": []
  },
  {
   "metadata": {
    "ExecuteTime": {
     "end_time": "2024-08-09T21:33:01.706184Z",
     "start_time": "2024-08-09T21:33:01.702095Z"
    }
   },
   "cell_type": "code",
   "source": [
    "job_skills.add(\"looker\")\n",
    "job_skills"
   ],
   "id": "a169875d01fc27f9",
   "execution_count": 4,
   "outputs": []
  },
  {
   "metadata": {
    "ExecuteTime": {
     "end_time": "2024-08-09T21:33:23.139455Z",
     "start_time": "2024-08-09T21:33:23.134822Z"
    }
   },
   "cell_type": "code",
   "source": [
    "job_skills.add(\"sql\")\n",
    "job_skills"
   ],
   "id": "44208cd6520feff5",
   "execution_count": 6,
   "outputs": []
  },
  {
   "metadata": {
    "ExecuteTime": {
     "end_time": "2024-08-09T21:33:39.297962Z",
     "start_time": "2024-08-09T21:33:39.292283Z"
    }
   },
   "cell_type": "code",
   "source": [
    "job_skills.pop()\n",
    "job_skills"
   ],
   "id": "1527c750d9c5c5bb",
   "execution_count": 7,
   "outputs": []
  },
  {
   "metadata": {
    "ExecuteTime": {
     "end_time": "2024-08-09T21:34:05.770871Z",
     "start_time": "2024-08-09T21:34:05.766096Z"
    }
   },
   "cell_type": "code",
   "source": [
    "job_skills.remove(\"tableau\")\n",
    "job_skills"
   ],
   "id": "653f32cf59834309",
   "execution_count": 8,
   "outputs": []
  },
  {
   "metadata": {},
   "cell_type": "code",
   "execution_count": null,
   "source": "",
   "id": "9e1e8b53a796f670",
   "outputs": []
  }
 ],
 "metadata": {
  "kernelspec": {
   "display_name": "Python 3",
   "language": "python",
   "name": "python3"
  },
  "language_info": {
   "codemirror_mode": {
    "name": "ipython",
    "version": 2
   },
   "file_extension": ".py",
   "mimetype": "text/x-python",
   "name": "python",
   "nbconvert_exporter": "python",
   "pygments_lexer": "ipython2",
   "version": "2.7.6"
  }
 },
 "nbformat": 4,
 "nbformat_minor": 5
}
