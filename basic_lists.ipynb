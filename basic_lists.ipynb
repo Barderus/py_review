{
 "cells": [
  {
   "metadata": {},
   "cell_type": "markdown",
   "source": [
    "Lists\n",
    "    A collection of ordered items inside a squared-brackets.\n",
    "    They are ordered, you can have duplicates and are mutable."
   ],
   "id": "50be07de26b4438f"
  },
  {
   "cell_type": "code",
   "id": "initial_id",
   "metadata": {
    "collapsed": true,
    "ExecuteTime": {
     "end_time": "2024-08-09T21:11:10.679811Z",
     "start_time": "2024-08-09T21:11:10.672916Z"
    }
   },
   "source": [
    " # Example\n",
    "job_skills = [\"SQL\", \"Tableau\", \"excel\", \"Python\"]\n",
    "# Methods\n",
    "job_skills.append(\"Java\")\n",
    "job_skills"
   ],
   "outputs": [
    {
     "data": {
      "text/plain": [
       "['SQL', 'Tableau', 'excel', 'Python', 'Java']"
      ]
     },
     "execution_count": 2,
     "metadata": {},
     "output_type": "execute_result"
    }
   ],
   "execution_count": 2
  },
  {
   "metadata": {
    "ExecuteTime": {
     "end_time": "2024-08-09T21:11:10.699521Z",
     "start_time": "2024-08-09T21:11:10.695102Z"
    }
   },
   "cell_type": "code",
   "source": [
    "job_skills.remove(\"Python\")\n",
    "job_skills"
   ],
   "id": "a67cd37cdab60e5d",
   "outputs": [
    {
     "data": {
      "text/plain": [
       "['SQL', 'Tableau', 'excel', 'Java']"
      ]
     },
     "execution_count": 3,
     "metadata": {},
     "output_type": "execute_result"
    }
   ],
   "execution_count": 3
  },
  {
   "metadata": {
    "ExecuteTime": {
     "end_time": "2024-08-09T21:11:10.708466Z",
     "start_time": "2024-08-09T21:11:10.700522Z"
    }
   },
   "cell_type": "code",
   "source": [
    "# Get the length of the list\n",
    "len(job_skills)\n",
    "# Get the first skill\n",
    "job_skills[0]"
   ],
   "id": "e412af6858405b2f",
   "outputs": [
    {
     "data": {
      "text/plain": [
       "'SQL'"
      ]
     },
     "execution_count": 4,
     "metadata": {},
     "output_type": "execute_result"
    }
   ],
   "execution_count": 4
  },
  {
   "metadata": {
    "ExecuteTime": {
     "end_time": "2024-08-09T21:11:10.717651Z",
     "start_time": "2024-08-09T21:11:10.709471Z"
    }
   },
   "cell_type": "code",
   "source": [
    "# Insert a new item to an index\n",
    "job_skills.insert(4, \"JavaScript\")\n",
    "job_skills\n"
   ],
   "id": "9d29cad5001fc9a8",
   "outputs": [
    {
     "data": {
      "text/plain": [
       "['SQL', 'Tableau', 'excel', 'Java', 'JavaScript']"
      ]
     },
     "execution_count": 5,
     "metadata": {},
     "output_type": "execute_result"
    }
   ],
   "execution_count": 5
  },
  {
   "metadata": {
    "ExecuteTime": {
     "end_time": "2024-08-09T21:11:10.729836Z",
     "start_time": "2024-08-09T21:11:10.725637Z"
    }
   },
   "cell_type": "code",
   "source": [
    "# Pop an item off the list\n",
    "job_skills.pop(1)\n",
    "job_skills\n"
   ],
   "id": "4d25ac6fcdae02e5",
   "outputs": [
    {
     "data": {
      "text/plain": [
       "['SQL', 'excel', 'Java', 'JavaScript']"
      ]
     },
     "execution_count": 6,
     "metadata": {},
     "output_type": "execute_result"
    }
   ],
   "execution_count": 6
  },
  {
   "metadata": {
    "ExecuteTime": {
     "end_time": "2024-08-09T21:11:10.748235Z",
     "start_time": "2024-08-09T21:11:10.743261Z"
    }
   },
   "cell_type": "code",
   "source": [
    "# Slicing - list[start:end:step]\n",
    "job_skills[0:3]"
   ],
   "id": "f5abf1c9ae7ba61e",
   "outputs": [
    {
     "data": {
      "text/plain": [
       "['SQL', 'excel', 'Java']"
      ]
     },
     "execution_count": 7,
     "metadata": {},
     "output_type": "execute_result"
    }
   ],
   "execution_count": 7
  },
  {
   "metadata": {
    "ExecuteTime": {
     "end_time": "2024-08-09T21:11:10.757285Z",
     "start_time": "2024-08-09T21:11:10.749243Z"
    }
   },
   "cell_type": "code",
   "source": "job_skills[:]",
   "id": "3e452552d2da47f",
   "outputs": [
    {
     "data": {
      "text/plain": [
       "['SQL', 'excel', 'Java', 'JavaScript']"
      ]
     },
     "execution_count": 8,
     "metadata": {},
     "output_type": "execute_result"
    }
   ],
   "execution_count": 8
  },
  {
   "metadata": {
    "ExecuteTime": {
     "end_time": "2024-08-09T21:11:10.796186Z",
     "start_time": "2024-08-09T21:11:10.791896Z"
    }
   },
   "cell_type": "code",
   "source": "job_skills[:1]",
   "id": "294583ab8fddb442",
   "outputs": [
    {
     "data": {
      "text/plain": [
       "['SQL']"
      ]
     },
     "execution_count": 9,
     "metadata": {},
     "output_type": "execute_result"
    }
   ],
   "execution_count": 9
  },
  {
   "metadata": {
    "ExecuteTime": {
     "end_time": "2024-08-09T21:11:10.815221Z",
     "start_time": "2024-08-09T21:11:10.810795Z"
    }
   },
   "cell_type": "code",
   "source": "job_skills[::1]",
   "id": "307185c682259342",
   "outputs": [
    {
     "data": {
      "text/plain": [
       "['SQL', 'excel', 'Java', 'JavaScript']"
      ]
     },
     "execution_count": 10,
     "metadata": {},
     "output_type": "execute_result"
    }
   ],
   "execution_count": 10
  },
  {
   "metadata": {
    "ExecuteTime": {
     "end_time": "2024-08-09T21:11:10.971747Z",
     "start_time": "2024-08-09T21:11:10.966110Z"
    }
   },
   "cell_type": "code",
   "source": [
    "luke_skills = [\"python\", \"bigquery\", \"r\"]\n",
    "kelly_skills = [\"python\", \"sql\", \"looker\"]\n",
    "\n",
    "all_skills = luke_skills + kelly_skills\n",
    "all_skills"
   ],
   "id": "b189ec6efb9ae14e",
   "outputs": [
    {
     "data": {
      "text/plain": [
       "['python', 'bigquery', 'r', 'python', 'sql', 'looker']"
      ]
     },
     "execution_count": 11,
     "metadata": {},
     "output_type": "execute_result"
    }
   ],
   "execution_count": 11
  },
  {
   "metadata": {
    "ExecuteTime": {
     "end_time": "2024-08-09T21:11:10.992130Z",
     "start_time": "2024-08-09T21:11:10.987763Z"
    }
   },
   "cell_type": "code",
   "source": "all_skills[::2]",
   "id": "43d3ce686dfbcdfe",
   "outputs": [
    {
     "data": {
      "text/plain": [
       "['python', 'r', 'sql']"
      ]
     },
     "execution_count": 12,
     "metadata": {},
     "output_type": "execute_result"
    }
   ],
   "execution_count": 12
  },
  {
   "metadata": {
    "ExecuteTime": {
     "end_time": "2024-08-09T21:11:11.011272Z",
     "start_time": "2024-08-09T21:11:11.007342Z"
    }
   },
   "cell_type": "code",
   "source": [
    "# Unpacking\n",
    "len(all_skills)\n",
    "skill1, skill2, skill3, skill4, skill5, skill6 = all_skills\n",
    "important_skill, *lame_skill = all_skills\n",
    "print(important_skill)\n",
    "print(lame_skill)"
   ],
   "id": "1efb40bb83793bec",
   "outputs": [
    {
     "name": "stdout",
     "output_type": "stream",
     "text": [
      "python\n",
      "['bigquery', 'r', 'python', 'sql', 'looker']\n"
     ]
    }
   ],
   "execution_count": 13
  }
 ],
 "metadata": {
  "kernelspec": {
   "display_name": "Python 3",
   "language": "python",
   "name": "python3"
  },
  "language_info": {
   "codemirror_mode": {
    "name": "ipython",
    "version": 2
   },
   "file_extension": ".py",
   "mimetype": "text/x-python",
   "name": "python",
   "nbconvert_exporter": "python",
   "pygments_lexer": "ipython2",
   "version": "2.7.6"
  }
 },
 "nbformat": 4,
 "nbformat_minor": 5
}
