{
 "cells": [
  {
   "metadata": {},
   "cell_type": "markdown",
   "source": "# Easy Exercises\n",
   "id": "40cfb0b67e7597f"
  },
  {
   "metadata": {},
   "cell_type": "markdown",
   "source": "## Hello World: Write a function print_hello() that prints \"Hello, World!\".",
   "id": "ecc1076efc89fe6e"
  },
  {
   "metadata": {
    "ExecuteTime": {
     "end_time": "2024-09-09T17:57:27.707541Z",
     "start_time": "2024-09-09T17:57:27.689196Z"
    }
   },
   "cell_type": "code",
   "source": [
    "def print_hello():\n",
    "    print(\"Hello, World\")\n",
    "\n",
    "print_hello()"
   ],
   "id": "3b998e8239aa7954",
   "outputs": [
    {
     "name": "stdout",
     "output_type": "stream",
     "text": [
      "Hello, World\n"
     ]
    }
   ],
   "execution_count": 1
  },
  {
   "metadata": {},
   "cell_type": "markdown",
   "source": "## Addition Function: Write a function add(a, b) that returns the sum of two numbers.",
   "id": "fa8e2086c46146d4"
  },
  {
   "metadata": {
    "ExecuteTime": {
     "end_time": "2024-09-09T17:59:25.265805Z",
     "start_time": "2024-09-09T17:59:19.706928Z"
    }
   },
   "cell_type": "code",
   "source": [
    "def add(a, b):\n",
    "    return a + b\n",
    "\n",
    "num1 = int(input(\"Enter a number: \"))\n",
    "num2 = int(input(\"Enter another number: \"))\n",
    "added_nums = add(num1, num2)\n",
    "print(f\"{num1} + {num2} = {added_nums}\")"
   ],
   "id": "b21f211e0b66076e",
   "outputs": [
    {
     "name": "stdout",
     "output_type": "stream",
     "text": [
      "1 + 2 = 3\n"
     ]
    }
   ],
   "execution_count": 2
  },
  {
   "metadata": {},
   "cell_type": "markdown",
   "source": "## Square Function: Write a function square(x) that returns the square of a number.",
   "id": "b0172d63e06245a4"
  },
  {
   "metadata": {
    "ExecuteTime": {
     "end_time": "2024-09-09T20:23:59.145546Z",
     "start_time": "2024-09-09T20:23:55.499502Z"
    }
   },
   "cell_type": "code",
   "source": [
    "def square(x):\n",
    "    return pow(2, x)\n",
    "\n",
    "number_to_square = int(input(\"Enter a number to be squared: \"))\n",
    "squared_number = square(number_to_square)\n",
    "\n",
    "print(f\"{number_to_square} ** 2 = {squared_number}\")"
   ],
   "id": "70ef52f6b80a3368",
   "outputs": [
    {
     "name": "stdout",
     "output_type": "stream",
     "text": [
      "2 ** 2 = 4\n"
     ]
    }
   ],
   "execution_count": 3
  },
  {
   "metadata": {},
   "cell_type": "markdown",
   "source": "## Even Check: Write a function is_even(n) that returns True if a number is even, otherwise False.",
   "id": "a5caca51f50c3330"
  },
  {
   "metadata": {
    "ExecuteTime": {
     "end_time": "2024-09-09T20:26:32.063794Z",
     "start_time": "2024-09-09T20:26:28.861660Z"
    }
   },
   "cell_type": "code",
   "source": [
    "def is_even(number):\n",
    "    if number % 2 == 0:\n",
    "        return True\n",
    "    else:\n",
    "        return False\n",
    "    \n",
    "number_val = int(input(\"Enter a number: \"))\n",
    "even_number = is_even(number_val)\n",
    "print(f\"Is {number_val} even? {even_number}\")"
   ],
   "id": "abf334daf670c447",
   "outputs": [
    {
     "name": "stdout",
     "output_type": "stream",
     "text": [
      "Is 98 even? True\n"
     ]
    }
   ],
   "execution_count": 5
  },
  {
   "metadata": {},
   "cell_type": "markdown",
   "source": "## String Length: Write a function string_length(s) that returns the length of a given string.",
   "id": "17c80b4585e18330"
  },
  {
   "metadata": {
    "ExecuteTime": {
     "end_time": "2024-09-09T20:28:50.195717Z",
     "start_time": "2024-09-09T20:28:39.560725Z"
    }
   },
   "cell_type": "code",
   "source": [
    "def string_length(s):\n",
    "    return len(s)\n",
    "\n",
    "given_string = input(\"Enter a string: \")\n",
    "length_of_string = string_length(given_string)\n",
    "print(f\"{given_string} has {length_of_string} characters\")"
   ],
   "id": "bdad747066b891c6",
   "outputs": [
    {
     "name": "stdout",
     "output_type": "stream",
     "text": [
      "Gabriel has 7 characters\n"
     ]
    }
   ],
   "execution_count": 6
  },
  {
   "metadata": {},
   "cell_type": "markdown",
   "source": "## Maximum of Two: Write a function max_of_two(a, b) that returns the maximum of two numbers.",
   "id": "a9eb9c4c42dc6d9b"
  },
  {
   "metadata": {
    "ExecuteTime": {
     "end_time": "2024-09-09T20:30:43.087034Z",
     "start_time": "2024-09-09T20:30:38.017598Z"
    }
   },
   "cell_type": "code",
   "source": [
    "def max_of_two(a,b):\n",
    "    return max(a, b)\n",
    "\n",
    "num1 = int(input(\"Enter a number: \"))\n",
    "num2 = int(input(\"Enter another number: \"))\n",
    "max_number = max_of_two(num1, num2)\n",
    "print(f\"The highest value between {num1} and {num2} is {max_number}\")\n"
   ],
   "id": "e96cb7a3bfc4d57e",
   "outputs": [
    {
     "name": "stdout",
     "output_type": "stream",
     "text": [
      "The highest value between 12 and 24 is 24\n"
     ]
    }
   ],
   "execution_count": 7
  },
  {
   "metadata": {},
   "cell_type": "markdown",
   "source": "## Greeting Function: Write a function greet(name) that prints \"Hello, name!\" where name is a parameter.",
   "id": "ab54aae7d494871d"
  },
  {
   "metadata": {
    "ExecuteTime": {
     "end_time": "2024-09-09T20:31:49.208357Z",
     "start_time": "2024-09-09T20:31:45.457089Z"
    }
   },
   "cell_type": "code",
   "source": [
    "def greet(name):\n",
    "    return f\"Hello, {name}\"\n",
    "\n",
    "user_name = input(\"Enter your name: \")\n",
    "greet(user_name)"
   ],
   "id": "b0fbd3c2da3e80ba",
   "outputs": [
    {
     "data": {
      "text/plain": [
       "'Hello, Gabriel'"
      ]
     },
     "execution_count": 8,
     "metadata": {},
     "output_type": "execute_result"
    }
   ],
   "execution_count": 8
  },
  {
   "metadata": {},
   "cell_type": "markdown",
   "source": "## List Sum: Write a function sum_list(lst) that returns the sum of all elements in a list.",
   "id": "c0ab9a7b64dac913"
  },
  {
   "metadata": {
    "ExecuteTime": {
     "end_time": "2024-09-09T20:33:50.547004Z",
     "start_time": "2024-09-09T20:33:50.536376Z"
    }
   },
   "cell_type": "code",
   "source": [
    "def sum_list(lst):\n",
    "    return sum(lst)\n",
    "\n",
    "my_list = [x for x in range(10, 40, 2)]\n",
    "sum_of_list = sum_list(my_list)\n",
    "print(sum_of_list)"
   ],
   "id": "c2608639a5d09b8e",
   "outputs": [
    {
     "name": "stdout",
     "output_type": "stream",
     "text": [
      "360\n"
     ]
    }
   ],
   "execution_count": 9
  },
  {
   "metadata": {},
   "cell_type": "markdown",
   "source": "## Convert to Uppercase: Write a function to_uppercase(s) that returns the string in uppercase.",
   "id": "7cec7d1f6dce533f"
  },
  {
   "metadata": {
    "ExecuteTime": {
     "end_time": "2024-09-09T20:38:18.805197Z",
     "start_time": "2024-09-09T20:38:10.658218Z"
    }
   },
   "cell_type": "code",
   "source": [
    "def to_uppercase(s):\n",
    "    return s.upper()\n",
    "\n",
    "to_upper_str = input(\"Enter a string: \")\n",
    "uppered_str = to_uppercase(to_upper_str)\n",
    "print(uppered_str)"
   ],
   "id": "60a7655cab01e810",
   "outputs": [
    {
     "name": "stdout",
     "output_type": "stream",
     "text": [
      "GABRIEL\n"
     ]
    }
   ],
   "execution_count": 10
  },
  {
   "metadata": {},
   "cell_type": "markdown",
   "source": "## Factorial Function: Write a function factorial(n) that returns the factorial of a non-negative integer.",
   "id": "142206604ccf1aff"
  },
  {
   "metadata": {},
   "cell_type": "markdown",
   "source": "# Medium Exercises",
   "id": "fad6f7e62eb618e7"
  },
  {
   "metadata": {},
   "cell_type": "markdown",
   "source": "## Multiples Check: Write a function is_multiple(x, y) that returns True if x is a multiple of y, otherwise False.",
   "id": "2b5fae16344878d7"
  },
  {
   "metadata": {},
   "cell_type": "markdown",
   "source": "## Fibonacci Sequence: Write a function fibonacci(n) that returns the n-th Fibonacci number.",
   "id": "d2ccb48d1a8a208b"
  },
  {
   "metadata": {},
   "cell_type": "markdown",
   "source": "## Palindrome Check: Write a function is_palindrome(s) that returns True if the string s is a palindrome, otherwise False.",
   "id": "6a1675534ce4b823"
  },
  {
   "metadata": {},
   "cell_type": "markdown",
   "source": "## Sum of Squares: Write a function sum_of_squares(lst) that returns the sum of the squares of all numbers in a list.",
   "id": "d52cde4094fe52fb"
  },
  {
   "metadata": {},
   "cell_type": "markdown",
   "source": "## Count Vowels: Write a function count_vowels(s) that returns the number of vowels in a given string.",
   "id": "be1daf28d407693e"
  },
  {
   "metadata": {},
   "cell_type": "markdown",
   "source": "## List Reverse: Write a function reverse_list(lst) that returns a new list with the elements in reverse order.",
   "id": "bafef941d32e8af8"
  },
  {
   "metadata": {},
   "cell_type": "markdown",
   "source": "## Find Maximum: Write a function find_max(lst) that returns the maximum value in a list of numbers.",
   "id": "a2c1d993d0f850d2"
  },
  {
   "metadata": {},
   "cell_type": "markdown",
   "source": "## Average Calculation: Write a function average(lst) that returns the average of a list of numbers.",
   "id": "55484c1728008fbb"
  },
  {
   "metadata": {},
   "cell_type": "markdown",
   "source": "## Prime Number Check: Write a function is_prime(n) that returns True if a number is prime, otherwise False.",
   "id": "6f06d5d7a07042d7"
  },
  {
   "metadata": {},
   "cell_type": "markdown",
   "source": "## Character Frequency: Write a function char_frequency(s) that returns a dictionary with the frequency of each character in the string s.",
   "id": "40e2abc6924221f2"
  },
  {
   "metadata": {},
   "cell_type": "markdown",
   "source": "# Hard Exercises",
   "id": "3ae84da4f54da980"
  },
  {
   "metadata": {},
   "cell_type": "markdown",
   "source": "## Quadratic Equation Solver: Write a function solve_quadratic(a, b, c) that returns the roots of the quadratic equation ax^2 + bx + c = 0.",
   "id": "81b0da2c5959d6f7"
  },
  {
   "metadata": {},
   "cell_type": "markdown",
   "source": "## Temperature Conversion: Write a function celsius_to_fahrenheit(c) that converts Celsius to Fahrenheit and fahrenheit_to_celsius(f) that converts Fahrenheit to Celsius.",
   "id": "2124d0a5f2ba8421"
  },
  {
   "metadata": {},
   "cell_type": "markdown",
   "source": "## Greatest Common Divisor (GCD): Write a function gcd(a, b) that returns the greatest common divisor of two numbers.",
   "id": "43652cbeceb350a"
  },
  {
   "metadata": {},
   "cell_type": "markdown",
   "source": "## Merge Lists: Write a function merge_lists(lst1, lst2) that merges two sorted lists into one sorted list.",
   "id": "6bd8e0efb6322765"
  },
  {
   "metadata": {},
   "cell_type": "markdown",
   "source": "## Recursive Factorial: Write a recursive function recursive_factorial(n) that returns the factorial of a number.",
   "id": "4248e7b945cb5754"
  },
  {
   "metadata": {},
   "cell_type": "markdown",
   "source": "## Text Statistics: Write a function text_statistics(s) that returns a dictionary with the number of words, characters, and sentences in a given string.",
   "id": "b497d2453cdea9c9"
  },
  {
   "metadata": {},
   "cell_type": "markdown",
   "source": "## Matrix Transpose: Write a function transpose_matrix(matrix) that returns the transpose of a given 2D list (matrix).",
   "id": "407fdfd04b766ccd"
  },
  {
   "metadata": {},
   "cell_type": "markdown",
   "source": "## CSV Row Sum: Write a function row_sum(csv_string) that takes a CSV string and returns a list of sums of each row’s values.",
   "id": "345a6152f695e3c4"
  },
  {
   "metadata": {},
   "cell_type": "markdown",
   "source": "## Binary Search: Write a function binary_search(sorted_list, target) that performs a binary search for a target value in a sorted list and returns the index.",
   "id": "7744d4510ca6d82c"
  },
  {
   "metadata": {},
   "cell_type": "markdown",
   "source": "## Palindrome Substrings: Write a function palindrome_substrings(s) that returns a list of all palindromic substrings in the string s.",
   "id": "27e7dc2f99549163"
  }
 ],
 "metadata": {
  "kernelspec": {
   "display_name": "Python 3",
   "language": "python",
   "name": "python3"
  },
  "language_info": {
   "codemirror_mode": {
    "name": "ipython",
    "version": 2
   },
   "file_extension": ".py",
   "mimetype": "text/x-python",
   "name": "python",
   "nbconvert_exporter": "python",
   "pygments_lexer": "ipython2",
   "version": "2.7.6"
  }
 },
 "nbformat": 4,
 "nbformat_minor": 5
}
