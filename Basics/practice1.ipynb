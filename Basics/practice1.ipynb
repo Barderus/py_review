{
 "cells": [
  {
   "metadata": {},
   "cell_type": "markdown",
   "source": "Filter what jobs to apply based on a list of skills.",
   "id": "be5216b25c7016cd"
  },
  {
   "metadata": {
    "ExecuteTime": {
     "end_time": "2024-08-13T23:09:08.060952Z",
     "start_time": "2024-08-13T23:09:08.050022Z"
    }
   },
   "cell_type": "code",
   "source": [
    "my_skills = [\"Python\", \"Microsoft\", \"JavaScript\", \"SQL\", \"Database Management\"]\n",
    "\n",
    "job_roles = [\n",
    "    {\"role\": \"Software Engineer\", \"skills\": [\"Python\", \"Java\", \"C++\", \"Git\", \"Problem Solving\"]},\n",
    "    {\"role\": \"Data Scientist\", \"skills\": [\"Python\", \"R\", \"Machine Learning\", \"Statistics\", \"SQL\"]},\n",
    "    {\"role\": \"Data Analyst\", \"skills\": [\"SQL\", \"Excel\", \"Python\", \"Tableau\", \"Data Visualization\"]},\n",
    "    {\"role\": \"Machine Learning Engineer\", \"skills\": [\"Python\", \"TensorFlow\", \"Scikit-Learn\", \"Data Preprocessing\", \"Model Evaluation\"]},\n",
    "    {\"role\": \"Data Engineer\", \"skills\": [\"SQL\", \"Python\", \"ETL Processes\", \"Big Data\", \"Data Warehousing\"]},\n",
    "    {\"role\": \"DevOps Engineer\", \"skills\": [\"Linux\", \"Docker\", \"Kubernetes\", \"CI/CD\", \"Cloud Services\"]},\n",
    "    {\"role\": \"Cybersecurity Analyst\", \"skills\": [\"Network Security\", \"Ethical Hacking\", \"Firewalls\", \"Intrusion Detection\", \"Risk Assessment\"]},\n",
    "    {\"role\": \"Systems Administrator\", \"skills\": [\"Linux\", \"Windows Server\", \"Networking\", \"Shell Scripting\", \"Backup and Recovery\"]},\n",
    "    {\"role\": \"Web Developer\", \"skills\": [\"HTML\", \"CSS\", \"JavaScript\", \"React\", \"Responsive Design\"]},\n",
    "    {\"role\": \"Database Administrator\", \"skills\": [\"SQL\", \"Database Design\", \"Performance Tuning\", \"Backup and Recovery\", \"Security Management\"]},\n",
    "    {\"role\": \"Network Engineer\", \"skills\": [\"Routing and Switching\", \"Network Security\", \"Firewalls\", \"VPNs\", \"Troubleshooting\"]},\n",
    "    {\"role\": \"Cloud Solutions Architect\", \"skills\": [\"AWS\", \"Azure\", \"Cloud Security\", \"Infrastructure as Code\", \"Cost Management\"]},\n",
    "    {\"role\": \"Front-End Developer\", \"skills\": [\"JavaScript\", \"HTML\", \"CSS\", \"React\", \"UI/UX Design\"]},\n",
    "    {\"role\": \"Back-End Developer\", \"skills\": [\"Node.js\", \"Python\", \"Java\", \"APIs\", \"Database Management\"]},\n",
    "    {\"role\": \"Full-Stack Developer\", \"skills\": [\"JavaScript\", \"Node.js\", \"React\", \"SQL\", \"RESTful APIs\"]},\n",
    "    {\"role\": \"Artificial Intelligence Engineer\", \"skills\": [\"Python\", \"Machine Learning\", \"Deep Learning\", \"NLP\", \"TensorFlow\"]},\n",
    "    {\"role\": \"UX/UI Designer\", \"skills\": [\"Wireframing\", \"Prototyping\", \"User Research\", \"Adobe XD\", \"Responsive Design\"]},\n",
    "    {\"role\": \"IT Support Specialist\", \"skills\": [\"Troubleshooting\", \"Networking\", \"Windows OS\", \"Customer Service\", \"Hardware Repair\"]},\n",
    "    {\"role\": \"Business Intelligence Developer\", \"skills\": [\"SQL\", \"Data Warehousing\", \"Power BI\", \"Data Modeling\", \"ETL Processes\"]},\n",
    "    {\"role\": \"Application Developer\", \"skills\": [\"Java\", \"Swift\", \"Android Development\", \"iOS Development\", \"APIs\"]},\n",
    "    {\"role\": \"Software Tester\", \"skills\": [\"Automation Testing\", \"Manual Testing\", \"Selenium\", \"Bug Tracking\", \"Test Planning\"]},\n",
    "    {\"role\": \"Embedded Systems Engineer\", \"skills\": [\"C/C++\", \"RTOS\", \"Microcontrollers\", \"Embedded C\", \"Firmware Development\"]},\n",
    "    {\"role\": \"Quantitative Analyst\", \"skills\": [\"Statistics\", \"Python\", \"R\", \"Data Analysis\", \"Financial Modeling\"]},\n",
    "    {\"role\": \"Blockchain Developer\", \"skills\": [\"Solidity\", \"Ethereum\", \"Smart Contracts\", \"Cryptography\", \"Distributed Systems\"]},\n",
    "    {\"role\": \"Information Systems Manager\", \"skills\": [\"IT Management\", \"Project Management\", \"Budgeting\", \"Security Management\", \"Vendor Management\"]},\n",
    "    {\"role\": \"Technical Project Manager\", \"skills\": [\"Project Management\", \"Agile Methodologies\", \"Communication\", \"Risk Management\", \"Scheduling\"]}\n",
    "]"
   ],
   "id": "41ecaefefc1310f2",
   "outputs": [],
   "execution_count": 16
  },
  {
   "metadata": {
    "ExecuteTime": {
     "end_time": "2024-08-13T23:09:10.161657Z",
     "start_time": "2024-08-13T23:09:10.156114Z"
    }
   },
   "cell_type": "code",
   "source": [
    "qualified_roles = []\n",
    "\n",
    "# Iterate over each job in the job_roles list\n",
    "for job in job_roles:\n",
    "    # Assume the user is qualified for the role unless proven otherwise\n",
    "    qualified = True\n",
    "    \n",
    "    # Check each skill in the user's skill set\n",
    "    for skill in my_skills:\n",
    "        # If the skill is not in the job's required skills, the user is not qualified\n",
    "        if skill not in job[\"skills\"]:\n",
    "            qualified = False\n",
    "            break\n",
    "    \n",
    "    # If the user is qualified for the job after checking all skills\n",
    "    if qualified:\n",
    "        # Add the job role to the list\n",
    "        qualified_roles.append(job[\"role\"])\n",
    "\n",
    "qualified_roles\n"
   ],
   "id": "3b6d42e052ad9568",
   "outputs": [
    {
     "data": {
      "text/plain": [
       "['Software Engineer',\n",
       " 'Data Scientist',\n",
       " 'Data Analyst',\n",
       " 'Machine Learning Engineer',\n",
       " 'Data Engineer',\n",
       " 'Back-End Developer',\n",
       " 'Artificial Intelligence Engineer',\n",
       " 'Quantitative Analyst']"
      ]
     },
     "execution_count": 17,
     "metadata": {},
     "output_type": "execute_result"
    }
   ],
   "execution_count": 17
  },
  {
   "metadata": {
    "ExecuteTime": {
     "end_time": "2024-08-13T23:09:16.531069Z",
     "start_time": "2024-08-13T23:09:16.526328Z"
    }
   },
   "cell_type": "code",
   "source": [
    "qualified_roles1 = []\n",
    "\n",
    "for job in job_roles:\n",
    "    if all(skill in job[\"skills\"] for skill in my_skills):\n",
    "        qualified_roles1.append(job[\"role\"])\n",
    "        \n",
    "qualified_roles1"
   ],
   "id": "6122782a82fb4024",
   "outputs": [
    {
     "data": {
      "text/plain": [
       "[]"
      ]
     },
     "execution_count": 18,
     "metadata": {},
     "output_type": "execute_result"
    }
   ],
   "execution_count": 18
  },
  {
   "metadata": {},
   "cell_type": "code",
   "outputs": [],
   "execution_count": null,
   "source": "",
   "id": "c2bb3f4b73dbd75a"
  }
 ],
 "metadata": {
  "kernelspec": {
   "display_name": "Python 3",
   "language": "python",
   "name": "python3"
  },
  "language_info": {
   "codemirror_mode": {
    "name": "ipython",
    "version": 2
   },
   "file_extension": ".py",
   "mimetype": "text/x-python",
   "name": "python",
   "nbconvert_exporter": "python",
   "pygments_lexer": "ipython2",
   "version": "2.7.6"
  }
 },
 "nbformat": 4,
 "nbformat_minor": 5
}
