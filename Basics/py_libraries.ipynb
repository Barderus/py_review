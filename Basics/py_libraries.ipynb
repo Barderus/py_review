{
 "cells": [
  {
   "cell_type": "code",
   "id": "initial_id",
   "metadata": {
    "collapsed": true,
    "ExecuteTime": {
     "end_time": "2024-08-18T23:09:02.408476Z",
     "start_time": "2024-08-18T23:09:02.402642Z"
    }
   },
   "source": [
    "from datetime import datetime\n",
    "import ast\n",
    "datetime.now()"
   ],
   "outputs": [
    {
     "data": {
      "text/plain": [
       "datetime.datetime(2024, 8, 18, 18, 9, 2, 406169)"
      ]
     },
     "execution_count": 5,
     "metadata": {},
     "output_type": "execute_result"
    }
   ],
   "execution_count": 5
  },
  {
   "metadata": {
    "ExecuteTime": {
     "end_time": "2024-08-18T23:08:51.252274Z",
     "start_time": "2024-08-18T23:08:51.239443Z"
    }
   },
   "cell_type": "code",
   "source": [
    "job_data = [\n",
    "    { \"job_title\": \"Data Scientist\", \"job_skills\": [\"Python\", \"R\", \"SQL\", \"Machine Learning\"], \"remote\": True, \"job_date\": \"2023-02-15\" },\n",
    "    { \"job_title\": \"Machine Learning Engineer\", \"job_skills\": [\"Python\", \"TensorFlow\", \"Deep Learning\", \"NLP\"], \"remote\": False, \"job_date\": \"2023-05-10\" },\n",
    "    { \"job_title\": \"Data Analyst\", \"job_skills\": [\"Excel\", \"SQL\", \"Tableau\", \"Data Visualization\"], \"remote\": True, \"job_date\": \"2023-08-01\" },\n",
    "    { \"job_title\": \"Data Engineer\", \"job_skills\": [\"Python\", \"SQL\", \"ETL\", \"Apache Spark\"], \"remote\": False, \"job_date\": \"2023-11-20\" },\n",
    "    { \"job_title\": \"Business Intelligence Analyst\", \"job_skills\": [\"Power BI\", \"SQL\", \"Data Modeling\", \"Dashboarding\"], \"remote\": True, \"job_date\": \"2023-03-22\" },\n",
    "    { \"job_title\": \"Quantitative Analyst\", \"job_skills\": [\"R\", \"Python\", \"Statistics\", \"Financial Modeling\"], \"remote\": False, \"job_date\": \"2023-06-30\" },\n",
    "    { \"job_title\": \"AI Research Scientist\", \"job_skills\": [\"Python\", \"PyTorch\", \"Reinforcement Learning\", \"NLP\"], \"remote\": True, \"job_date\": \"2024-01-15\" },\n",
    "    { \"job_title\": \"Data Architect\", \"job_skills\": [\"SQL\", \"Data Warehousing\", \"Cloud Computing\", \"ETL\"], \"remote\": False, \"job_date\": \"2024-03-09\" },\n",
    "    { \"job_title\": \"Big Data Engineer\", \"job_skills\": [\"Hadoop\", \"Spark\", \"Kafka\", \"NoSQL\"], \"remote\": True, \"job_date\": \"2024-05-21\" },\n",
    "    { \"job_title\": \"Statistician\", \"job_skills\": [\"R\", \"Python\", \"Statistical Analysis\", \"SAS\"], \"remote\": False, \"job_date\": \"2024-08-11\" },\n",
    "    { \"job_title\": \"Data Operations Analyst\", \"job_skills\": [\"SQL\", \"Data Pipelines\", \"Automation\", \"Scripting\"], \"remote\": True, \"job_date\": \"2023-04-18\" },\n",
    "    { \"job_title\": \"Deep Learning Engineer\", \"job_skills\": [\"Python\", \"TensorFlow\", \"Keras\", \"GPU Programming\"], \"remote\": False, \"job_date\": \"2023-07-24\" },\n",
    "    { \"job_title\": \"Data Visualization Specialist\", \"job_skills\": [\"Tableau\", \"Power BI\", \"D3.js\", \"Data Storytelling\"], \"remote\": True, \"job_date\": \"2024-02-28\" },\n",
    "    { \"job_title\": \"NLP Engineer\", \"job_skills\": [\"Python\", \"NLP\", \"Spacy\", \"Transformers\"], \"remote\": False, \"job_date\": \"2024-04-15\" },\n",
    "    { \"job_title\": \"Database Administrator\", \"job_skills\": [\"SQL\", \"Database Management\", \"MySQL\", \"Backup & Recovery\"], \"remote\": True, \"job_date\": \"2024-06-05\" },\n",
    "    { \"job_title\": \"Machine Learning Researcher\", \"job_skills\": [\"Python\", \"Research\", \"ML Algorithms\", \"Data Analysis\"], \"remote\": False, \"job_date\": \"2023-09-14\" },\n",
    "    { \"job_title\": \"Data Science Consultant\", \"job_skills\": [\"Python\", \"Business Analysis\", \"Data Strategy\", \"SQL\"], \"remote\": True, \"job_date\": \"2023-12-03\" },\n",
    "    { \"job_title\": \"Predictive Analytics Specialist\", \"job_skills\": [\"R\", \"Python\", \"Time Series Analysis\", \"Machine Learning\"], \"remote\": False, \"job_date\": \"2024-01-29\" },\n",
    "    { \"job_title\": \"ETL Developer\", \"job_skills\": [\"SQL\", \"ETL\", \"Data Warehousing\", \"Informatica\"], \"remote\": True, \"job_date\": \"2024-03-17\" },\n",
    "    { \"job_title\": \"Data Science Manager\", \"job_skills\": [\"Leadership\", \"Python\", \"Project Management\", \"ML Ops\"], \"remote\": False, \"job_date\": \"2024-05-02\" },\n",
    "    { \"job_title\": \"AI Product Manager\", \"job_skills\": [\"Product Management\", \"AI\", \"Python\", \"Data Analysis\"], \"remote\": True, \"job_date\": \"2023-10-25\" },\n",
    "    { \"job_title\": \"Data Quality Analyst\", \"job_skills\": [\"SQL\", \"Data Profiling\", \"Data Governance\", \"ETL\"], \"remote\": False, \"job_date\": \"2024-07-13\" },\n",
    "    { \"job_title\": \"Computer Vision Engineer\", \"job_skills\": [\"Python\", \"OpenCV\", \"Deep Learning\", \"Image Processing\"], \"remote\": True, \"job_date\": \"2023-01-07\" },\n",
    "    { \"job_title\": \"Data Governance Specialist\", \"job_skills\": [\"Data Privacy\", \"Data Quality\", \"Compliance\", \"SQL\"], \"remote\": False, \"job_date\": \"2023-04-01\" },\n",
    "    { \"job_title\": \"Cloud Data Engineer\", \"job_skills\": [\"AWS\", \"Python\", \"Data Lakes\", \"Spark\"], \"remote\": True, \"job_date\": \"2023-07-07\" }\n",
    "]\n"
   ],
   "id": "d2fd397c5de68908",
   "outputs": [],
   "execution_count": 2
  },
  {
   "metadata": {
    "ExecuteTime": {
     "end_time": "2024-08-18T23:08:54.596315Z",
     "start_time": "2024-08-18T23:08:54.589587Z"
    }
   },
   "cell_type": "code",
   "source": "job_data[0]",
   "id": "b49b72628d8ca658",
   "outputs": [
    {
     "data": {
      "text/plain": [
       "{'job_title': 'Data Scientist',\n",
       " 'job_skills': ['Python', 'R', 'SQL', 'Machine Learning'],\n",
       " 'remote': True,\n",
       " 'job_date': '2023-02-15'}"
      ]
     },
     "execution_count": 3,
     "metadata": {},
     "output_type": "execute_result"
    }
   ],
   "execution_count": 3
  },
  {
   "metadata": {
    "ExecuteTime": {
     "end_time": "2024-08-18T23:00:03.483461Z",
     "start_time": "2024-08-18T23:00:03.478434Z"
    }
   },
   "cell_type": "code",
   "source": "job_data[0][\"job_date\"]",
   "id": "794cee8523774a5e",
   "outputs": [
    {
     "data": {
      "text/plain": [
       "'2023-02-15'"
      ]
     },
     "execution_count": 5,
     "metadata": {},
     "output_type": "execute_result"
    }
   ],
   "execution_count": 5
  },
  {
   "metadata": {
    "ExecuteTime": {
     "end_time": "2024-08-18T23:02:26.195604Z",
     "start_time": "2024-08-18T23:02:26.191419Z"
    }
   },
   "cell_type": "code",
   "source": [
    "# Transform a string to datetime\n",
    "test_date = job_data[0][\"job_date\"]\n",
    "print(datetime.strptime(test_date, \"%Y-%m-%d\"))"
   ],
   "id": "529076e0e8315431",
   "outputs": [
    {
     "name": "stdout",
     "output_type": "stream",
     "text": [
      "2023-02-15 00:00:00\n"
     ]
    }
   ],
   "execution_count": 7
  },
  {
   "metadata": {
    "ExecuteTime": {
     "end_time": "2024-08-18T23:09:05.657505Z",
     "start_time": "2024-08-18T23:09:05.653101Z"
    }
   },
   "cell_type": "code",
   "source": [
    "# Replacing the string to datetime objects\n",
    "for job in job_data:\n",
    "    job[\"job_date\"] = datetime.strptime(job[\"job_date\"], \"%Y-%m-%d\")\n",
    "    #job[\"job_skill\"] = ast.literal_eval((job[\"job_skills\"]))"
   ],
   "id": "de305846db9930a3",
   "outputs": [],
   "execution_count": 6
  },
  {
   "metadata": {},
   "cell_type": "code",
   "outputs": [],
   "execution_count": null,
   "source": "",
   "id": "cd06dea8a7a82647"
  }
 ],
 "metadata": {
  "kernelspec": {
   "display_name": "Python 3",
   "language": "python",
   "name": "python3"
  },
  "language_info": {
   "codemirror_mode": {
    "name": "ipython",
    "version": 2
   },
   "file_extension": ".py",
   "mimetype": "text/x-python",
   "name": "python",
   "nbconvert_exporter": "python",
   "pygments_lexer": "ipython2",
   "version": "2.7.6"
  }
 },
 "nbformat": 4,
 "nbformat_minor": 5
}
