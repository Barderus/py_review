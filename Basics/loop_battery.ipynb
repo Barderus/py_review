{
 "cells": [
  {
   "metadata": {},
   "cell_type": "markdown",
   "source": "# Easy Exercises",
   "id": "c805d58d9614f32"
  },
  {
   "metadata": {},
   "cell_type": "markdown",
   "source": "1. String Iteration: Print each character of the string \"Python\" on a new line.:",
   "id": "c2192796a7e11361"
  },
  {
   "metadata": {},
   "cell_type": "markdown",
   "source": "2. List Iteration: Iterate over the list [10, 20, 30, 40] and print each element doubled.",
   "id": "c594de396c227bdd"
  },
  {
   "metadata": {},
   "cell_type": "markdown",
   "source": "3. Tuple Iteration: Given the tuple (5, 10, 15), print each value multiplied by 3.",
   "id": "e20216c086ae123b"
  },
  {
   "metadata": {},
   "cell_type": "markdown",
   "source": "4. Dictionary Iteration: Iterate over the dictionary {'a': 1, 'b': 2, 'c': 3} and print each key-value pair in the format \"key: value\".",
   "id": "c2615bd3d42fb140"
  },
  {
   "metadata": {},
   "cell_type": "markdown",
   "source": "5. Set Iteration: Print each element of the set {1, 2, 3, 4}.\n",
   "id": "56dbfb193e3326b6"
  },
  {
   "metadata": {},
   "cell_type": "markdown",
   "source": "6. String Indexing: For the string \"hello\", print each character along with its index.",
   "id": "e61c1c4ce392d7ef"
  },
  {
   "metadata": {},
   "cell_type": "markdown",
   "source": "7. List of Strings: Iterate over the list ['apple', 'banana', 'cherry'] and print each string's length.",
   "id": "4aac256ba1f941e5"
  },
  {
   "metadata": {},
   "cell_type": "markdown",
   "source": "8. List Comprehension: Use a for loop to create a new list containing the squares of numbers in the list [1, 2, 3, 4, 5].",
   "id": "f66dceae75329db3"
  },
  {
   "metadata": {},
   "cell_type": "markdown",
   "source": "9. Dictionary Values: Given the dictionary {'x': 10, 'y': 20, 'z': 30}, print only the values.",
   "id": "218618057af25491"
  },
  {
   "metadata": {},
   "cell_type": "markdown",
   "source": "10. String Splitting: For the string \"one,two,three\", split it by commas and print each word.",
   "id": "b15a4fdd30ff37cd"
  },
  {
   "metadata": {},
   "cell_type": "markdown",
   "source": "# Medium Exercises",
   "id": "be0b0b9ee2ae031"
  },
  {
   "metadata": {},
   "cell_type": "markdown",
   "source": "1. Sum of Numbers: Calculate and print the sum of all numbers from 1 to 100 using a for loop.",
   "id": "494568d3bfce5527"
  },
  {
   "metadata": {},
   "cell_type": "markdown",
   "source": "2. Reverse String: Given a string \"hello\", print the string in reverse using a for loop.",
   "id": "90899b9bed806cdd"
  },
  {
   "metadata": {},
   "cell_type": "markdown",
   "source": "3. Multiplication Table: Print the multiplication table for a number (e.g., 7) up to 10.",
   "id": "4e41736127a82411"
  },
  {
   "metadata": {},
   "cell_type": "markdown",
   "source": "4. Character Count: Given the string \"programming\", count and print the number of occurrences of each character.",
   "id": "457c85fe079c4af8"
  },
  {
   "metadata": {},
   "cell_type": "markdown",
   "source": [
    "5. Pattern Printing: Print a pattern of stars like this:\n",
    "*\n",
    "**\n",
    "***\n",
    "****"
   ],
   "id": "4a1d60b8f91efc98"
  },
  {
   "metadata": {},
   "cell_type": "markdown",
   "source": "6. Range Sum: Calculate and print the sum of all even numbers from 1 to 50.",
   "id": "de46963ceeb5b7df"
  },
  {
   "metadata": {},
   "cell_type": "markdown",
   "source": "7. Digit Sum: Given a number (e.g., 1234), compute and print the sum of its digits.",
   "id": "4ef42b8324500c"
  },
  {
   "metadata": {},
   "cell_type": "markdown",
   "source": "8. Even and Odd: Iterate over the range from 1 to 20 and print whether each number is even or odd.",
   "id": "61bbe138b607048b"
  },
  {
   "metadata": {},
   "cell_type": "markdown",
   "source": "9. Cumulative Sum: Given the list [1, 2, 3, 4], compute and print the cumulative sum of the list elements.",
   "id": "14bc5d315b4fec43"
  },
  {
   "metadata": {},
   "cell_type": "markdown",
   "source": "10. String Join: Given a list of words ['hello', 'world'], join them into a single string separated by spaces and print it.",
   "id": "11a4eea0b4cde653"
  },
  {
   "metadata": {},
   "cell_type": "markdown",
   "source": "# Hard Exercises",
   "id": "6576dbfbc1885635"
  },
  {
   "metadata": {},
   "cell_type": "markdown",
   "source": "1. Factorial Calculation: Compute and print the factorial of a number (e.g., 5) using a for loop.",
   "id": "5c5d77a4021d350"
  },
  {
   "metadata": {},
   "cell_type": "markdown",
   "source": "2. Fibonacci Sequence: Print the first 10 numbers of the Fibonacci sequence.",
   "id": "ae380e346d55bdf3"
  },
  {
   "metadata": {},
   "cell_type": "markdown",
   "source": "3. Prime Numbers: Print all prime numbers between 1 and 50.",
   "id": "57dc6f5129e5b691"
  },
  {
   "metadata": {},
   "cell_type": "markdown",
   "source": "4. List Filtering: Given the list [1, 2, 3, 4, 5, 6], create a new list containing only the even numbers and print it.",
   "id": "afa066663c1c507f"
  },
  {
   "metadata": {},
   "cell_type": "markdown",
   "source": "5. Nested Dictionary: For the dictionary {'user1': {'name': 'John', 'age': 30}, 'user2': {'name': 'Jane', 'age': 25}}, print each user’s name and age.",
   "id": "c6f0bb0d97a1e172"
  },
  {
   "metadata": {},
   "cell_type": "markdown",
   "source": "6. Set of Tuples: For the set {(1, 'a'), (2, 'b')}, iterate over it and print the first and second elements of each tuple.",
   "id": "329851ad6b98c5d1"
  },
  {
   "metadata": {},
   "cell_type": "markdown",
   "source": "7. List of Lists: Given the list [[1, 2], [3, 4], [5, 6]], iterate over it and print the sum of each inner list.",
   "id": "394618429c686521"
  },
  {
   "metadata": {},
   "cell_type": "markdown",
   "source": "8. Multiples of a Number: Print the first 10 multiples of a number (e.g., 3).",
   "id": "836a52694ec8bc0b"
  },
  {
   "metadata": {},
   "cell_type": "markdown",
   "source": "9. String Character Frequency: Given a string \"aabbcc\", count and print the frequency of each character using a dictionary.",
   "id": "ce6b23bafe4c00e8"
  },
  {
   "metadata": {},
   "cell_type": "markdown",
   "source": [
    "10. String Pattern Generation: Print a pattern like this:\n",
    "\n",
    "1\n",
    "22\n",
    "333\n",
    "4444\n",
    "where the number of rows and the repeating digit is based on a given number (e.g., 4)."
   ],
   "id": "ce0831fbc3013eec"
  }
 ],
 "metadata": {
  "kernelspec": {
   "display_name": "Python 3",
   "language": "python",
   "name": "python3"
  },
  "language_info": {
   "codemirror_mode": {
    "name": "ipython",
    "version": 2
   },
   "file_extension": ".py",
   "mimetype": "text/x-python",
   "name": "python",
   "nbconvert_exporter": "python",
   "pygments_lexer": "ipython2",
   "version": "2.7.6"
  }
 },
 "nbformat": 4,
 "nbformat_minor": 5
}
