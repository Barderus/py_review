{
 "cells": [
  {
   "metadata": {},
   "cell_type": "markdown",
   "source": "# Easy Exercises",
   "id": "c805d58d9614f32"
  },
  {
   "metadata": {},
   "cell_type": "markdown",
   "source": "1. String Iteration: Print each character of the string \"Python\" on a new line.:",
   "id": "c2192796a7e11361"
  },
  {
   "metadata": {
    "ExecuteTime": {
     "end_time": "2024-09-04T20:10:28.338160Z",
     "start_time": "2024-09-04T20:10:23.341904Z"
    }
   },
   "cell_type": "code",
   "source": [
    "string_name = input(\"Enter a string: \")\n",
    "\n",
    "for element in string_name:\n",
    "    print(element)"
   ],
   "id": "2dd7201fde784738",
   "outputs": [
    {
     "name": "stdout",
     "output_type": "stream",
     "text": [
      "G\n",
      "o\n",
      "o\n",
      "d\n",
      " \n",
      "M\n",
      "o\n",
      "r\n",
      "n\n",
      "i\n",
      "n\n",
      "g\n"
     ]
    }
   ],
   "execution_count": 11
  },
  {
   "metadata": {},
   "cell_type": "markdown",
   "source": "2. List Iteration: Iterate over the list [10, 20, 30, 40] and print each element doubled.",
   "id": "c594de396c227bdd"
  },
  {
   "metadata": {
    "ExecuteTime": {
     "end_time": "2024-09-04T20:11:54.715838Z",
     "start_time": "2024-09-04T20:11:54.708388Z"
    }
   },
   "cell_type": "code",
   "source": [
    "number_list = [10, 20, 30, 40]\n",
    "\n",
    "for element in number_list:\n",
    "    print(pow(element, 2))"
   ],
   "id": "2f6b7e437b8a85be",
   "outputs": [
    {
     "name": "stdout",
     "output_type": "stream",
     "text": [
      "100\n",
      "400\n",
      "900\n",
      "1600\n"
     ]
    }
   ],
   "execution_count": 14
  },
  {
   "metadata": {},
   "cell_type": "markdown",
   "source": "3. Tuple Iteration: Given the tuple (5, 10, 15), print each value multiplied by 3.",
   "id": "e20216c086ae123b"
  },
  {
   "metadata": {
    "ExecuteTime": {
     "end_time": "2024-09-04T20:12:30.716138Z",
     "start_time": "2024-09-04T20:12:30.709201Z"
    }
   },
   "cell_type": "code",
   "source": [
    "numer_tuple = (5, 10, 15)\n",
    "\n",
    "for element in numer_tuple:\n",
    "    print(element * 3)"
   ],
   "id": "969fbd2643328689",
   "outputs": [
    {
     "name": "stdout",
     "output_type": "stream",
     "text": [
      "15\n",
      "30\n",
      "45\n"
     ]
    }
   ],
   "execution_count": 15
  },
  {
   "metadata": {},
   "cell_type": "markdown",
   "source": "4. Dictionary Iteration: Iterate over the dictionary {'a': 1, 'b': 2, 'c': 3} and print each key-value pair in the format \"key: value\".",
   "id": "c2615bd3d42fb140"
  },
  {
   "metadata": {
    "ExecuteTime": {
     "end_time": "2024-09-04T20:15:47.364801Z",
     "start_time": "2024-09-04T20:15:47.353733Z"
    }
   },
   "cell_type": "code",
   "source": [
    "my_dict = {\"a\":1, \"b\":2, \"c\":3}\n",
    "\n",
    "for key, value in my_dict.items():\n",
    "    print(key, value)"
   ],
   "id": "f8877eb40c5a80c7",
   "outputs": [
    {
     "name": "stdout",
     "output_type": "stream",
     "text": [
      "a 1\n",
      "b 2\n",
      "c 3\n"
     ]
    }
   ],
   "execution_count": 16
  },
  {
   "metadata": {},
   "cell_type": "markdown",
   "source": "5. Set Iteration: Print each element of the set {1, 2, 3, 4}.\n",
   "id": "56dbfb193e3326b6"
  },
  {
   "metadata": {
    "ExecuteTime": {
     "end_time": "2024-09-04T20:22:25.819810Z",
     "start_time": "2024-09-04T20:22:25.809539Z"
    }
   },
   "cell_type": "code",
   "source": [
    "my_set = {1, 2, 3, 4}\n",
    "\n",
    "for element in my_set:\n",
    "    print(element)"
   ],
   "id": "16c1bc42dc576686",
   "outputs": [
    {
     "name": "stdout",
     "output_type": "stream",
     "text": [
      "1\n",
      "2\n",
      "3\n",
      "4\n"
     ]
    }
   ],
   "execution_count": 1
  },
  {
   "metadata": {},
   "cell_type": "markdown",
   "source": "6. String Indexing: For the string \"hello\", print each character along with its index.",
   "id": "e61c1c4ce392d7ef"
  },
  {
   "metadata": {
    "ExecuteTime": {
     "end_time": "2024-09-04T20:26:21.920200Z",
     "start_time": "2024-09-04T20:26:21.839425Z"
    }
   },
   "cell_type": "code",
   "source": [
    "my_string = \"hello\"\n",
    "\n",
    "for element in enumerate(my_string):\n",
    "    print(element)"
   ],
   "id": "78b4b11f37c0ad9e",
   "outputs": [
    {
     "name": "stdout",
     "output_type": "stream",
     "text": [
      "(0, 'h')\n",
      "(1, 'e')\n",
      "(2, 'l')\n",
      "(3, 'l')\n",
      "(4, 'o')\n"
     ]
    }
   ],
   "execution_count": 3
  },
  {
   "metadata": {},
   "cell_type": "markdown",
   "source": "7. List of Strings: Iterate over the list ['apple', 'banana', 'cherry'] and print each string's length.",
   "id": "4aac256ba1f941e5"
  },
  {
   "metadata": {
    "ExecuteTime": {
     "end_time": "2024-09-04T20:29:00.136855Z",
     "start_time": "2024-09-04T20:29:00.129571Z"
    }
   },
   "cell_type": "code",
   "source": [
    "fruits = [\"apple\", \"banana\", \"cherry\"]\n",
    "\n",
    "for element in fruits:\n",
    "    print(element, len(element))"
   ],
   "id": "44895e0efcb03cf4",
   "outputs": [
    {
     "name": "stdout",
     "output_type": "stream",
     "text": [
      "apple 5\n",
      "banana 6\n",
      "cherry 6\n"
     ]
    }
   ],
   "execution_count": 7
  },
  {
   "metadata": {},
   "cell_type": "markdown",
   "source": "8. List Comprehension: Use a for loop to create a new list containing the squares of numbers in the list [1, 2, 3, 4, 5].",
   "id": "f66dceae75329db3"
  },
  {
   "metadata": {
    "ExecuteTime": {
     "end_time": "2024-09-04T20:34:14.278303Z",
     "start_time": "2024-09-04T20:34:14.262647Z"
    }
   },
   "cell_type": "code",
   "source": [
    "number_list = [1, 2, 3, 4, 5]\n",
    "new_list = [num ** 2 for num in number_list]\n",
    "print(new_list)"
   ],
   "id": "1645410f496f7523",
   "outputs": [
    {
     "name": "stdout",
     "output_type": "stream",
     "text": [
      "[1, 4, 9, 16, 25]\n"
     ]
    }
   ],
   "execution_count": 14
  },
  {
   "metadata": {},
   "cell_type": "markdown",
   "source": "9. Dictionary Values: Given the dictionary {'x': 10, 'y': 20, 'z': 30}, print only the values.",
   "id": "218618057af25491"
  },
  {
   "metadata": {
    "ExecuteTime": {
     "end_time": "2024-09-04T20:35:19.743303Z",
     "start_time": "2024-09-04T20:35:19.733722Z"
    }
   },
   "cell_type": "code",
   "source": [
    "num_dict = {\"x\":10, \"y\":20, \"z\":30}\n",
    "\n",
    "for values in num_dict.values():\n",
    "    print(values)"
   ],
   "id": "3e68f4f58ddf7952",
   "outputs": [
    {
     "name": "stdout",
     "output_type": "stream",
     "text": [
      "10\n",
      "20\n",
      "30\n"
     ]
    }
   ],
   "execution_count": 15
  },
  {
   "metadata": {},
   "cell_type": "markdown",
   "source": "10. String Splitting: For the string \"one,two,three\", split it by commas and print each word.",
   "id": "b15a4fdd30ff37cd"
  },
  {
   "metadata": {
    "ExecuteTime": {
     "end_time": "2024-09-04T20:37:43.331619Z",
     "start_time": "2024-09-04T20:37:43.325293Z"
    }
   },
   "cell_type": "code",
   "source": [
    "my_string = \"'one, two, three\"\n",
    "\n",
    "for word in my_string.split(\",\"):\n",
    "    print(word)"
   ],
   "id": "7a4e5974deaa0416",
   "outputs": [
    {
     "name": "stdout",
     "output_type": "stream",
     "text": [
      "'one\n",
      " two\n",
      " three\n"
     ]
    }
   ],
   "execution_count": 18
  },
  {
   "metadata": {},
   "cell_type": "markdown",
   "source": "# Medium Exercises",
   "id": "be0b0b9ee2ae031"
  },
  {
   "metadata": {},
   "cell_type": "markdown",
   "source": "1. Sum of Numbers: Calculate and print the sum of all numbers from 1 to 100 using a for loop.",
   "id": "494568d3bfce5527"
  },
  {
   "metadata": {
    "ExecuteTime": {
     "end_time": "2024-09-04T20:38:40.993512Z",
     "start_time": "2024-09-04T20:38:40.988387Z"
    }
   },
   "cell_type": "code",
   "source": [
    "add = 0\n",
    "for num in range(1, 101):\n",
    "    add += num\n",
    "print(add)"
   ],
   "id": "225f4dfd329a5e85",
   "outputs": [
    {
     "name": "stdout",
     "output_type": "stream",
     "text": [
      "5050\n"
     ]
    }
   ],
   "execution_count": 19
  },
  {
   "metadata": {},
   "cell_type": "markdown",
   "source": "2. Reverse String: Given a string \"hello\", print the string in reverse using a for loop.",
   "id": "90899b9bed806cdd"
  },
  {
   "metadata": {
    "ExecuteTime": {
     "end_time": "2024-09-05T16:25:38.900115Z",
     "start_time": "2024-09-05T16:25:33.557035Z"
    }
   },
   "cell_type": "code",
   "source": [
    "normal_string = input(\"Enter a string: \")\n",
    "reversed_string = \"\"\n",
    "for char in normal_string:\n",
    "    reversed_string = char + reversed_string\n",
    "   \n",
    "print(reversed_string)"
   ],
   "id": "aff5bb1621e769c8",
   "outputs": [
    {
     "name": "stdout",
     "output_type": "stream",
     "text": [
      "leirbaG\n"
     ]
    }
   ],
   "execution_count": 9
  },
  {
   "metadata": {},
   "cell_type": "markdown",
   "source": "3. Multiplication Table: Print the multiplication table for a number (e.g., 7) up to 10.",
   "id": "4e41736127a82411"
  },
  {
   "metadata": {
    "ExecuteTime": {
     "end_time": "2024-09-05T16:31:43.537499Z",
     "start_time": "2024-09-05T16:31:40.765212Z"
    }
   },
   "cell_type": "code",
   "source": [
    "number = int(input(\"Enter a numer for multiplication table: \"))\n",
    "\n",
    "for i in range(1, 11):\n",
    "    print(f\" {i} x {number} = {i * number}\")"
   ],
   "id": "4b19730d4ff02ab1",
   "outputs": [
    {
     "name": "stdout",
     "output_type": "stream",
     "text": [
      " 1 x 3 = 3\n",
      " 2 x 3 = 6\n",
      " 3 x 3 = 9\n",
      " 4 x 3 = 12\n",
      " 5 x 3 = 15\n",
      " 6 x 3 = 18\n",
      " 7 x 3 = 21\n",
      " 8 x 3 = 24\n",
      " 9 x 3 = 27\n",
      " 10 x 3 = 30\n"
     ]
    }
   ],
   "execution_count": 14
  },
  {
   "metadata": {},
   "cell_type": "markdown",
   "source": "4. Character Count: Given the string \"programming\", count and print the number of occurrences of each character.",
   "id": "457c85fe079c4af8"
  },
  {
   "metadata": {
    "ExecuteTime": {
     "end_time": "2024-09-05T18:52:27.063828Z",
     "start_time": "2024-09-05T18:52:19.432850Z"
    }
   },
   "cell_type": "code",
   "source": [
    "my_string = input(\"Enter a string: \")\n",
    "char_dict = {}\n",
    "\n",
    "for char in my_string:\n",
    "    if char in char_dict:\n",
    "        char_dict[char] += 1\n",
    "    else:\n",
    "        char_dict[char] = 1\n",
    "\n",
    "for char, count in char_dict.items():\n",
    "    print(char, count)"
   ],
   "id": "6f1429dd9ffda186",
   "outputs": [
    {
     "name": "stdout",
     "output_type": "stream",
     "text": [
      "C 1\n",
      "a 1\n",
      "r 2\n",
      "o 1\n",
      "t 1\n",
      "s 1\n"
     ]
    }
   ],
   "execution_count": 20
  },
  {
   "metadata": {},
   "cell_type": "markdown",
   "source": [
    "5. Pattern Printing: Print a pattern of stars like this:\n",
    "    *\n",
    "    **\n",
    "    ***\n",
    "    ****"
   ],
   "id": "4a1d60b8f91efc98"
  },
  {
   "metadata": {
    "ExecuteTime": {
     "end_time": "2024-09-05T20:29:02.343558Z",
     "start_time": "2024-09-05T20:28:59.737289Z"
    }
   },
   "cell_type": "code",
   "source": [
    "symbol = \"*\"\n",
    "rows = int(input(\"How many rows?: \"))\n",
    "for i in range(1, rows + 1):\n",
    "    print(symbol * i)"
   ],
   "id": "aed245ccc0861ecc",
   "outputs": [
    {
     "name": "stdout",
     "output_type": "stream",
     "text": [
      "*\n",
      "**\n",
      "***\n",
      "****\n",
      "*****\n"
     ]
    }
   ],
   "execution_count": 14
  },
  {
   "metadata": {},
   "cell_type": "markdown",
   "source": "6. Range Sum: Calculate and print the sum of all even numbers from 1 to 50.",
   "id": "de46963ceeb5b7df"
  },
  {
   "metadata": {
    "ExecuteTime": {
     "end_time": "2024-09-05T20:35:56.447234Z",
     "start_time": "2024-09-05T20:35:56.438623Z"
    }
   },
   "cell_type": "code",
   "source": [
    "sum_numbers = 0\n",
    "for numbers in range(1, 51):\n",
    "    if numbers % 2 == 0:\n",
    "        sum_numbers += numbers\n",
    "print(sum_numbers)"
   ],
   "id": "df236dfcab8bbbd6",
   "outputs": [
    {
     "name": "stdout",
     "output_type": "stream",
     "text": [
      "650\n"
     ]
    }
   ],
   "execution_count": 19
  },
  {
   "metadata": {},
   "cell_type": "markdown",
   "source": "7. Digit Sum: Given a number (e.g., 1234), compute and print the sum of its digits.",
   "id": "4ef42b8324500c"
  },
  {
   "metadata": {
    "ExecuteTime": {
     "end_time": "2024-09-05T20:47:46.882222Z",
     "start_time": "2024-09-05T20:47:42.168923Z"
    }
   },
   "cell_type": "code",
   "source": [
    "my_number = input(\"Enter a number: \")\n",
    "sum_digits = 0\n",
    "for i in range(len(my_number)):\n",
    "    sum_digits += int(my_number[i])\n",
    "\n",
    "print(sum_digits)\n",
    "    "
   ],
   "id": "636722214b48374f",
   "outputs": [
    {
     "name": "stdout",
     "output_type": "stream",
     "text": [
      "15\n"
     ]
    }
   ],
   "execution_count": 30
  },
  {
   "metadata": {},
   "cell_type": "markdown",
   "source": "8. Even and Odd: Iterate over the range from 1 to 20 and print whether each number is even or odd.",
   "id": "61bbe138b607048b"
  },
  {
   "metadata": {
    "ExecuteTime": {
     "end_time": "2024-09-05T20:48:59.909367Z",
     "start_time": "2024-09-05T20:48:59.898113Z"
    }
   },
   "cell_type": "code",
   "source": [
    "for i in range(0, 21):\n",
    "    if i % 2 == 0:\n",
    "        print(f\"{i} is even\")\n",
    "    else:\n",
    "        print(f\"{i} is odd\")"
   ],
   "id": "8be8a9ac4cb32f53",
   "outputs": [
    {
     "name": "stdout",
     "output_type": "stream",
     "text": [
      "0 is even\n",
      "1 is odd\n",
      "2 is even\n",
      "3 is odd\n",
      "4 is even\n",
      "5 is odd\n",
      "6 is even\n",
      "7 is odd\n",
      "8 is even\n",
      "9 is odd\n",
      "10 is even\n",
      "11 is odd\n",
      "12 is even\n",
      "13 is odd\n",
      "14 is even\n",
      "15 is odd\n",
      "16 is even\n",
      "17 is odd\n",
      "18 is even\n",
      "19 is odd\n",
      "20 is even\n"
     ]
    }
   ],
   "execution_count": 32
  },
  {
   "metadata": {},
   "cell_type": "markdown",
   "source": "9. Cumulative Sum: Given the list [1, 2, 3, 4], compute and print the cumulative sum of the list elements.",
   "id": "14bc5d315b4fec43"
  },
  {
   "metadata": {
    "ExecuteTime": {
     "end_time": "2024-09-05T20:50:17.173999Z",
     "start_time": "2024-09-05T20:50:17.168943Z"
    }
   },
   "cell_type": "code",
   "source": [
    "my_list = [1, 2, 3, 4]\n",
    "cul = 0\n",
    "for i in range(len(my_list)):\n",
    "    cul += my_list[i]\n",
    "    \n",
    "print(cul)\n",
    "    "
   ],
   "id": "a41d4db6a00df6fb",
   "outputs": [
    {
     "name": "stdout",
     "output_type": "stream",
     "text": [
      "10\n"
     ]
    }
   ],
   "execution_count": 33
  },
  {
   "metadata": {},
   "cell_type": "markdown",
   "source": "10. String Join: Given a list of words ['hello', 'world'], join them into a single string separated by spaces and print it.",
   "id": "11a4eea0b4cde653"
  },
  {
   "metadata": {
    "ExecuteTime": {
     "end_time": "2024-09-05T20:55:39.496253Z",
     "start_time": "2024-09-05T20:55:39.486077Z"
    }
   },
   "cell_type": "code",
   "source": [
    "# Ignoring prompt for a more pythonic solution\n",
    "words_list = [\"Hello\", \"world\"]\n",
    "print(\" \".join(words_list))"
   ],
   "id": "56119757a13a0a87",
   "outputs": [
    {
     "name": "stdout",
     "output_type": "stream",
     "text": [
      "Hello world\n"
     ]
    }
   ],
   "execution_count": 39
  },
  {
   "metadata": {},
   "cell_type": "markdown",
   "source": "# Hard Exercises",
   "id": "6576dbfbc1885635"
  },
  {
   "metadata": {},
   "cell_type": "markdown",
   "source": "1. Factorial Calculation: Compute and print the factorial of a number (e.g., 5) using a for loop.",
   "id": "5c5d77a4021d350"
  },
  {
   "metadata": {},
   "cell_type": "markdown",
   "source": "2. Fibonacci Sequence: Print the first 10 numbers of the Fibonacci sequence.",
   "id": "ae380e346d55bdf3"
  },
  {
   "metadata": {},
   "cell_type": "markdown",
   "source": "3. Prime Numbers: Print all prime numbers between 1 and 50.",
   "id": "57dc6f5129e5b691"
  },
  {
   "metadata": {},
   "cell_type": "markdown",
   "source": "4. List Filtering: Given the list [1, 2, 3, 4, 5, 6], create a new list containing only the even numbers and print it.",
   "id": "afa066663c1c507f"
  },
  {
   "metadata": {},
   "cell_type": "markdown",
   "source": "5. Nested Dictionary: For the dictionary {'user1': {'name': 'John', 'age': 30}, 'user2': {'name': 'Jane', 'age': 25}}, print each user’s name and age.",
   "id": "c6f0bb0d97a1e172"
  },
  {
   "metadata": {},
   "cell_type": "markdown",
   "source": "6. Set of Tuples: For the set {(1, 'a'), (2, 'b')}, iterate over it and print the first and second elements of each tuple.",
   "id": "329851ad6b98c5d1"
  },
  {
   "metadata": {},
   "cell_type": "markdown",
   "source": "7. List of Lists: Given the list [[1, 2], [3, 4], [5, 6]], iterate over it and print the sum of each inner list.",
   "id": "394618429c686521"
  },
  {
   "metadata": {},
   "cell_type": "markdown",
   "source": "8. Multiples of a Number: Print the first 10 multiples of a number (e.g., 3).",
   "id": "836a52694ec8bc0b"
  },
  {
   "metadata": {},
   "cell_type": "markdown",
   "source": "9. String Character Frequency: Given a string \"aabbcc\", count and print the frequency of each character using a dictionary.",
   "id": "ce6b23bafe4c00e8"
  },
  {
   "metadata": {},
   "cell_type": "markdown",
   "source": [
    "10. String Pattern Generation: Print a pattern like this:\n",
    "\n",
    "1\n",
    "22\n",
    "333\n",
    "4444\n",
    "where the number of rows and the repeating digit is based on a given number (e.g., 4)."
   ],
   "id": "ce0831fbc3013eec"
  }
 ],
 "metadata": {
  "kernelspec": {
   "display_name": "Python 3",
   "language": "python",
   "name": "python3"
  },
  "language_info": {
   "codemirror_mode": {
    "name": "ipython",
    "version": 2
   },
   "file_extension": ".py",
   "mimetype": "text/x-python",
   "name": "python",
   "nbconvert_exporter": "python",
   "pygments_lexer": "ipython2",
   "version": "2.7.6"
  }
 },
 "nbformat": 4,
 "nbformat_minor": 5
}
