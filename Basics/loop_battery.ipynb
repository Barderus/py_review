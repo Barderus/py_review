{
 "cells": [
  {
   "metadata": {},
   "cell_type": "markdown",
   "source": "# Easy Exercises",
   "id": "c805d58d9614f32"
  },
  {
   "metadata": {},
   "cell_type": "markdown",
   "source": "1. String Iteration: Print each character of the string \"Python\" on a new line.:",
   "id": "c2192796a7e11361"
  },
  {
   "metadata": {
    "ExecuteTime": {
     "end_time": "2024-09-09T17:41:50.831625Z",
     "start_time": "2024-09-09T17:41:44.065719Z"
    }
   },
   "cell_type": "code",
   "source": [
    "string_name = input(\"Enter a string: \")\n",
    "\n",
    "for element in string_name:\n",
    "    print(element)"
   ],
   "id": "2dd7201fde784738",
   "outputs": [
    {
     "name": "stdout",
     "output_type": "stream",
     "text": [
      "h\n",
      "e\n",
      "l\n",
      "l\n",
      "o\n"
     ]
    }
   ],
   "execution_count": 56
  },
  {
   "metadata": {},
   "cell_type": "markdown",
   "source": "2. List Iteration: Iterate over the list [10, 20, 30, 40] and print each element doubled.",
   "id": "c594de396c227bdd"
  },
  {
   "metadata": {
    "ExecuteTime": {
     "end_time": "2024-09-09T17:41:50.934879Z",
     "start_time": "2024-09-09T17:41:50.930639Z"
    }
   },
   "cell_type": "code",
   "source": [
    "number_list = [10, 20, 30, 40]\n",
    "\n",
    "for element in number_list:\n",
    "    print(pow(element, 2))"
   ],
   "id": "2f6b7e437b8a85be",
   "outputs": [
    {
     "name": "stdout",
     "output_type": "stream",
     "text": [
      "100\n",
      "400\n",
      "900\n",
      "1600\n"
     ]
    }
   ],
   "execution_count": 57
  },
  {
   "metadata": {},
   "cell_type": "markdown",
   "source": "3. Tuple Iteration: Given the tuple (5, 10, 15), print each value multiplied by 3.",
   "id": "e20216c086ae123b"
  },
  {
   "metadata": {
    "ExecuteTime": {
     "end_time": "2024-09-09T17:41:51.046791Z",
     "start_time": "2024-09-09T17:41:51.043275Z"
    }
   },
   "cell_type": "code",
   "source": [
    "numer_tuple = (5, 10, 15)\n",
    "\n",
    "for element in numer_tuple:\n",
    "    print(element * 3)"
   ],
   "id": "969fbd2643328689",
   "outputs": [
    {
     "name": "stdout",
     "output_type": "stream",
     "text": [
      "15\n",
      "30\n",
      "45\n"
     ]
    }
   ],
   "execution_count": 58
  },
  {
   "metadata": {},
   "cell_type": "markdown",
   "source": "4. Dictionary Iteration: Iterate over the dictionary {'a': 1, 'b': 2, 'c': 3} and print each key-value pair in the format \"key: value\".",
   "id": "c2615bd3d42fb140"
  },
  {
   "metadata": {
    "ExecuteTime": {
     "end_time": "2024-09-09T17:41:51.169105Z",
     "start_time": "2024-09-09T17:41:51.164472Z"
    }
   },
   "cell_type": "code",
   "source": [
    "my_dict = {\"a\":1, \"b\":2, \"c\":3}\n",
    "\n",
    "for key, value in my_dict.items():\n",
    "    print(key, value)"
   ],
   "id": "f8877eb40c5a80c7",
   "outputs": [
    {
     "name": "stdout",
     "output_type": "stream",
     "text": [
      "a 1\n",
      "b 2\n",
      "c 3\n"
     ]
    }
   ],
   "execution_count": 59
  },
  {
   "metadata": {},
   "cell_type": "markdown",
   "source": "5. Set Iteration: Print each element of the set {1, 2, 3, 4}.\n",
   "id": "56dbfb193e3326b6"
  },
  {
   "metadata": {
    "ExecuteTime": {
     "end_time": "2024-09-09T17:41:51.255119Z",
     "start_time": "2024-09-09T17:41:51.250727Z"
    }
   },
   "cell_type": "code",
   "source": [
    "my_set = {1, 2, 3, 4}\n",
    "\n",
    "for element in my_set:\n",
    "    print(element)"
   ],
   "id": "16c1bc42dc576686",
   "outputs": [
    {
     "name": "stdout",
     "output_type": "stream",
     "text": [
      "1\n",
      "2\n",
      "3\n",
      "4\n"
     ]
    }
   ],
   "execution_count": 60
  },
  {
   "metadata": {},
   "cell_type": "markdown",
   "source": "6. String Indexing: For the string \"hello\", print each character along with its index.",
   "id": "e61c1c4ce392d7ef"
  },
  {
   "metadata": {
    "ExecuteTime": {
     "end_time": "2024-09-09T17:41:51.357821Z",
     "start_time": "2024-09-09T17:41:51.353898Z"
    }
   },
   "cell_type": "code",
   "source": [
    "my_string = \"hello\"\n",
    "\n",
    "for element in enumerate(my_string):\n",
    "    print(element)"
   ],
   "id": "78b4b11f37c0ad9e",
   "outputs": [
    {
     "name": "stdout",
     "output_type": "stream",
     "text": [
      "(0, 'h')\n",
      "(1, 'e')\n",
      "(2, 'l')\n",
      "(3, 'l')\n",
      "(4, 'o')\n"
     ]
    }
   ],
   "execution_count": 61
  },
  {
   "metadata": {},
   "cell_type": "markdown",
   "source": "7. List of Strings: Iterate over the list ['apple', 'banana', 'cherry'] and print each string's length.",
   "id": "4aac256ba1f941e5"
  },
  {
   "metadata": {
    "ExecuteTime": {
     "end_time": "2024-09-09T17:41:51.454937Z",
     "start_time": "2024-09-09T17:41:51.450320Z"
    }
   },
   "cell_type": "code",
   "source": [
    "fruits = [\"apple\", \"banana\", \"cherry\"]\n",
    "\n",
    "for element in fruits:\n",
    "    print(element, len(element))"
   ],
   "id": "44895e0efcb03cf4",
   "outputs": [
    {
     "name": "stdout",
     "output_type": "stream",
     "text": [
      "apple 5\n",
      "banana 6\n",
      "cherry 6\n"
     ]
    }
   ],
   "execution_count": 62
  },
  {
   "metadata": {},
   "cell_type": "markdown",
   "source": "8. List Comprehension: Use a for loop to create a new list containing the squares of numbers in the list [1, 2, 3, 4, 5].",
   "id": "f66dceae75329db3"
  },
  {
   "metadata": {
    "ExecuteTime": {
     "end_time": "2024-09-09T17:41:51.533671Z",
     "start_time": "2024-09-09T17:41:51.529003Z"
    }
   },
   "cell_type": "code",
   "source": [
    "number_list = [1, 2, 3, 4, 5]\n",
    "new_list = [num ** 2 for num in number_list]\n",
    "print(new_list)"
   ],
   "id": "1645410f496f7523",
   "outputs": [
    {
     "name": "stdout",
     "output_type": "stream",
     "text": [
      "[1, 4, 9, 16, 25]\n"
     ]
    }
   ],
   "execution_count": 63
  },
  {
   "metadata": {},
   "cell_type": "markdown",
   "source": "9. Dictionary Values: Given the dictionary {'x': 10, 'y': 20, 'z': 30}, print only the values.",
   "id": "218618057af25491"
  },
  {
   "metadata": {
    "ExecuteTime": {
     "end_time": "2024-09-09T17:41:51.626175Z",
     "start_time": "2024-09-09T17:41:51.621459Z"
    }
   },
   "cell_type": "code",
   "source": [
    "num_dict = {\"x\":10, \"y\":20, \"z\":30}\n",
    "\n",
    "for values in num_dict.values():\n",
    "    print(values)"
   ],
   "id": "3e68f4f58ddf7952",
   "outputs": [
    {
     "name": "stdout",
     "output_type": "stream",
     "text": [
      "10\n",
      "20\n",
      "30\n"
     ]
    }
   ],
   "execution_count": 64
  },
  {
   "metadata": {},
   "cell_type": "markdown",
   "source": "10. String Splitting: For the string \"one,two,three\", split it by commas and print each word.",
   "id": "b15a4fdd30ff37cd"
  },
  {
   "metadata": {
    "ExecuteTime": {
     "end_time": "2024-09-09T17:41:51.746209Z",
     "start_time": "2024-09-09T17:41:51.742577Z"
    }
   },
   "cell_type": "code",
   "source": [
    "my_string = \"'one, two, three\"\n",
    "\n",
    "for word in my_string.split(\",\"):\n",
    "    print(word)"
   ],
   "id": "7a4e5974deaa0416",
   "outputs": [
    {
     "name": "stdout",
     "output_type": "stream",
     "text": [
      "'one\n",
      " two\n",
      " three\n"
     ]
    }
   ],
   "execution_count": 65
  },
  {
   "metadata": {},
   "cell_type": "markdown",
   "source": "# Medium Exercises",
   "id": "be0b0b9ee2ae031"
  },
  {
   "metadata": {},
   "cell_type": "markdown",
   "source": "1. Sum of Numbers: Calculate and print the sum of all numbers from 1 to 100 using a for loop.",
   "id": "494568d3bfce5527"
  },
  {
   "metadata": {
    "ExecuteTime": {
     "end_time": "2024-09-09T17:41:51.826238Z",
     "start_time": "2024-09-09T17:41:51.822213Z"
    }
   },
   "cell_type": "code",
   "source": [
    "add = 0\n",
    "for num in range(1, 101):\n",
    "    add += num\n",
    "print(add)"
   ],
   "id": "225f4dfd329a5e85",
   "outputs": [
    {
     "name": "stdout",
     "output_type": "stream",
     "text": [
      "5050\n"
     ]
    }
   ],
   "execution_count": 66
  },
  {
   "metadata": {},
   "cell_type": "markdown",
   "source": "2. Reverse String: Given a string \"hello\", print the string in reverse using a for loop.",
   "id": "90899b9bed806cdd"
  },
  {
   "metadata": {
    "ExecuteTime": {
     "end_time": "2024-09-09T17:41:57.250158Z",
     "start_time": "2024-09-09T17:41:51.898490Z"
    }
   },
   "cell_type": "code",
   "source": [
    "normal_string = input(\"Enter a string: \")\n",
    "reversed_string = \"\"\n",
    "for char in normal_string:\n",
    "    reversed_string = char + reversed_string\n",
    "   \n",
    "print(reversed_string)"
   ],
   "id": "aff5bb1621e769c8",
   "outputs": [
    {
     "name": "stdout",
     "output_type": "stream",
     "text": [
      "esrevinU olleH\n"
     ]
    }
   ],
   "execution_count": 67
  },
  {
   "metadata": {},
   "cell_type": "markdown",
   "source": "3. Multiplication Table: Print the multiplication table for a number (e.g., 7) up to 10.",
   "id": "4e41736127a82411"
  },
  {
   "metadata": {
    "ExecuteTime": {
     "end_time": "2024-09-09T17:42:02.968498Z",
     "start_time": "2024-09-09T17:41:57.344169Z"
    }
   },
   "cell_type": "code",
   "source": [
    "number = int(input(\"Enter a numer for multiplication table: \"))\n",
    "\n",
    "for i in range(1, 11):\n",
    "    print(f\" {i} x {number} = {i * number}\")"
   ],
   "id": "4b19730d4ff02ab1",
   "outputs": [
    {
     "name": "stdout",
     "output_type": "stream",
     "text": [
      " 1 x 99 = 99\n",
      " 2 x 99 = 198\n",
      " 3 x 99 = 297\n",
      " 4 x 99 = 396\n",
      " 5 x 99 = 495\n",
      " 6 x 99 = 594\n",
      " 7 x 99 = 693\n",
      " 8 x 99 = 792\n",
      " 9 x 99 = 891\n",
      " 10 x 99 = 990\n"
     ]
    }
   ],
   "execution_count": 68
  },
  {
   "metadata": {},
   "cell_type": "markdown",
   "source": "4. Character Count: Given the string \"programming\", count and print the number of occurrences of each character.",
   "id": "457c85fe079c4af8"
  },
  {
   "metadata": {
    "ExecuteTime": {
     "end_time": "2024-09-09T17:42:11.423320Z",
     "start_time": "2024-09-09T17:42:03.059682Z"
    }
   },
   "cell_type": "code",
   "source": [
    "my_string = input(\"Enter a string: \")\n",
    "char_dict = {}\n",
    "\n",
    "for char in my_string:\n",
    "    if char in char_dict:\n",
    "        char_dict[char] += 1\n",
    "    else:\n",
    "        char_dict[char] = 1\n",
    "\n",
    "for char, count in char_dict.items():\n",
    "    print(char, count)"
   ],
   "id": "6f1429dd9ffda186",
   "outputs": [
    {
     "name": "stdout",
     "output_type": "stream",
     "text": [
      "M 1\n",
      "a 1\n",
      "l 1\n",
      "c 1\n",
      "o 1\n",
      "m 1\n"
     ]
    }
   ],
   "execution_count": 69
  },
  {
   "metadata": {},
   "cell_type": "markdown",
   "source": [
    "5. Pattern Printing: Print a pattern of stars like this:\n",
    "    *\n",
    "    **\n",
    "    ***\n",
    "    ****"
   ],
   "id": "4a1d60b8f91efc98"
  },
  {
   "metadata": {
    "ExecuteTime": {
     "end_time": "2024-09-09T17:42:16.223938Z",
     "start_time": "2024-09-09T17:42:11.518070Z"
    }
   },
   "cell_type": "code",
   "source": [
    "symbol = \"*\"\n",
    "rows = int(input(\"How many rows?: \"))\n",
    "for i in range(1, rows + 1):\n",
    "    print(symbol * i)"
   ],
   "id": "aed245ccc0861ecc",
   "outputs": [
    {
     "name": "stdout",
     "output_type": "stream",
     "text": [
      "*\n",
      "**\n",
      "***\n",
      "****\n"
     ]
    }
   ],
   "execution_count": 70
  },
  {
   "metadata": {},
   "cell_type": "markdown",
   "source": "6. Range Sum: Calculate and print the sum of all even numbers from 1 to 50.",
   "id": "de46963ceeb5b7df"
  },
  {
   "metadata": {
    "ExecuteTime": {
     "end_time": "2024-09-09T17:42:16.323103Z",
     "start_time": "2024-09-09T17:42:16.319566Z"
    }
   },
   "cell_type": "code",
   "source": [
    "sum_numbers = 0\n",
    "for numbers in range(1, 51):\n",
    "    if numbers % 2 == 0:\n",
    "        sum_numbers += numbers\n",
    "print(sum_numbers)"
   ],
   "id": "df236dfcab8bbbd6",
   "outputs": [
    {
     "name": "stdout",
     "output_type": "stream",
     "text": [
      "650\n"
     ]
    }
   ],
   "execution_count": 71
  },
  {
   "metadata": {},
   "cell_type": "markdown",
   "source": "7. Digit Sum: Given a number (e.g., 1234), compute and print the sum of its digits.",
   "id": "4ef42b8324500c"
  },
  {
   "metadata": {
    "ExecuteTime": {
     "end_time": "2024-09-09T17:42:19.304644Z",
     "start_time": "2024-09-09T17:42:16.404037Z"
    }
   },
   "cell_type": "code",
   "source": [
    "my_number = input(\"Enter a number: \")\n",
    "sum_digits = 0\n",
    "for i in range(len(my_number)):\n",
    "    sum_digits += int(my_number[i])\n",
    "\n",
    "print(sum_digits)\n",
    "    "
   ],
   "id": "636722214b48374f",
   "outputs": [
    {
     "name": "stdout",
     "output_type": "stream",
     "text": [
      "7\n"
     ]
    }
   ],
   "execution_count": 72
  },
  {
   "metadata": {},
   "cell_type": "markdown",
   "source": "8. Even and Odd: Iterate over the range from 1 to 20 and print whether each number is even or odd.",
   "id": "61bbe138b607048b"
  },
  {
   "metadata": {
    "ExecuteTime": {
     "end_time": "2024-09-09T17:42:19.404565Z",
     "start_time": "2024-09-09T17:42:19.400763Z"
    }
   },
   "cell_type": "code",
   "source": [
    "for i in range(0, 21):\n",
    "    if i % 2 == 0:\n",
    "        print(f\"{i} is even\")\n",
    "    else:\n",
    "        print(f\"{i} is odd\")"
   ],
   "id": "8be8a9ac4cb32f53",
   "outputs": [
    {
     "name": "stdout",
     "output_type": "stream",
     "text": [
      "0 is even\n",
      "1 is odd\n",
      "2 is even\n",
      "3 is odd\n",
      "4 is even\n",
      "5 is odd\n",
      "6 is even\n",
      "7 is odd\n",
      "8 is even\n",
      "9 is odd\n",
      "10 is even\n",
      "11 is odd\n",
      "12 is even\n",
      "13 is odd\n",
      "14 is even\n",
      "15 is odd\n",
      "16 is even\n",
      "17 is odd\n",
      "18 is even\n",
      "19 is odd\n",
      "20 is even\n"
     ]
    }
   ],
   "execution_count": 73
  },
  {
   "metadata": {},
   "cell_type": "markdown",
   "source": "9. Cumulative Sum: Given the list [1, 2, 3, 4], compute and print the cumulative sum of the list elements.",
   "id": "14bc5d315b4fec43"
  },
  {
   "metadata": {
    "ExecuteTime": {
     "end_time": "2024-09-09T17:42:19.496948Z",
     "start_time": "2024-09-09T17:42:19.492864Z"
    }
   },
   "cell_type": "code",
   "source": [
    "my_list = [1, 2, 3, 4]\n",
    "cul = 0\n",
    "for i in range(len(my_list)):\n",
    "    cul += my_list[i]\n",
    "    \n",
    "print(cul)\n",
    "    "
   ],
   "id": "a41d4db6a00df6fb",
   "outputs": [
    {
     "name": "stdout",
     "output_type": "stream",
     "text": [
      "10\n"
     ]
    }
   ],
   "execution_count": 74
  },
  {
   "metadata": {},
   "cell_type": "markdown",
   "source": "10. String Join: Given a list of words ['hello', 'world'], join them into a single string separated by spaces and print it.",
   "id": "11a4eea0b4cde653"
  },
  {
   "metadata": {
    "ExecuteTime": {
     "end_time": "2024-09-09T17:42:19.561492Z",
     "start_time": "2024-09-09T17:42:19.556933Z"
    }
   },
   "cell_type": "code",
   "source": [
    "# Ignoring prompt for a more pythonic solution\n",
    "words_list = [\"Hello\", \"world\"]\n",
    "print(\" \".join(words_list))"
   ],
   "id": "56119757a13a0a87",
   "outputs": [
    {
     "name": "stdout",
     "output_type": "stream",
     "text": [
      "Hello world\n"
     ]
    }
   ],
   "execution_count": 75
  },
  {
   "metadata": {},
   "cell_type": "markdown",
   "source": "# Hard Exercises",
   "id": "6576dbfbc1885635"
  },
  {
   "metadata": {},
   "cell_type": "markdown",
   "source": "1. Factorial Calculation: Compute and print the factorial of a number (e.g., 5) using a for loop.",
   "id": "5c5d77a4021d350"
  },
  {
   "metadata": {
    "ExecuteTime": {
     "end_time": "2024-09-09T17:42:24.354395Z",
     "start_time": "2024-09-09T17:42:19.613041Z"
    }
   },
   "cell_type": "code",
   "source": [
    "# 5! = 5 * 4 * 3 * 2 * 1 = 120\n",
    "number = int(input(\"Enter a factorial number: \"))\n",
    "factorial = 1\n",
    "\n",
    "for i in range(number, 0, -1):\n",
    "    factorial *=  i\n",
    "    \n",
    "print(f\"The factorial of {number} is {factorial}\")\n",
    "    "
   ],
   "id": "618b5f8c06b49a7c",
   "outputs": [
    {
     "name": "stdout",
     "output_type": "stream",
     "text": [
      "The factorial of 10 is 3628800\n"
     ]
    }
   ],
   "execution_count": 76
  },
  {
   "metadata": {},
   "cell_type": "markdown",
   "source": "2. Fibonacci Sequence: Print the first 10 numbers of the Fibonacci sequence.",
   "id": "ae380e346d55bdf3"
  },
  {
   "metadata": {
    "ExecuteTime": {
     "end_time": "2024-09-09T17:42:28.787420Z",
     "start_time": "2024-09-09T17:42:24.445227Z"
    }
   },
   "cell_type": "code",
   "source": [
    "# Fibonacci sequence = each number is a sum of the two previous one.\n",
    "#                   0, 1, 1, 2, 3, 5, 8, 13, 21, 34, 55, 89, 144\n",
    "n = int(input(\"How many numbers in the sequence would you like to have: \"))\n",
    "sequence = 0\n",
    "num1 = 0\n",
    "num2 = 1\n",
    "\n",
    "# Print the first two numbers if n >= 1\n",
    "print(\"Fibonacci sequence:\", end=\" \")\n",
    "if n >= 1:\n",
    "    print(num1, end=\" \")\n",
    "if n >= 2:\n",
    "    print(num2, end=\" \")\n",
    "    \n",
    "for i in range(2, n):\n",
    "    sequence = num1 + num2\n",
    "    num1 = num2\n",
    "    num2 = sequence\n",
    "    print(sequence, end =\" \")"
   ],
   "id": "9af9044745a44184",
   "outputs": [
    {
     "name": "stdout",
     "output_type": "stream",
     "text": [
      "Fibonacci sequence: 0 1 1 2 3 5 8 "
     ]
    }
   ],
   "execution_count": 77
  },
  {
   "metadata": {},
   "cell_type": "markdown",
   "source": "3. Prime Numbers: Print all prime numbers between 1 and 50.",
   "id": "57dc6f5129e5b691"
  },
  {
   "metadata": {
    "ExecuteTime": {
     "end_time": "2024-09-09T17:42:28.880051Z",
     "start_time": "2024-09-09T17:42:28.874899Z"
    }
   },
   "cell_type": "code",
   "source": [
    "def is_prime(n):\n",
    "    if n <= 1:      # 1 or negative numbers aren't prime\n",
    "        return False\n",
    "    for i in range(2, int(n**0.5) + 1):\n",
    "        if n % i == 0:      # If n can be divided by itself, not prime\n",
    "            return False\n",
    "    return True\n",
    "\n",
    "primes = [n for n in range(1, 51) if is_prime(n)]\n",
    "print(primes)\n",
    "\n",
    "    "
   ],
   "id": "a04946cd1880ccd9",
   "outputs": [
    {
     "name": "stdout",
     "output_type": "stream",
     "text": [
      "[2, 3, 5, 7, 11, 13, 17, 19, 23, 29, 31, 37, 41, 43, 47]\n"
     ]
    }
   ],
   "execution_count": 78
  },
  {
   "metadata": {},
   "cell_type": "markdown",
   "source": "4. List Filtering: Given the list [1, 2, 3, 4, 5, 6], create a new list containing only the even numbers and print it.",
   "id": "afa066663c1c507f"
  },
  {
   "metadata": {
    "ExecuteTime": {
     "end_time": "2024-09-09T17:42:28.954699Z",
     "start_time": "2024-09-09T17:42:28.950591Z"
    }
   },
   "cell_type": "code",
   "source": [
    "my_list = [1, 2, 3, 4, 5, 6]\n",
    "\n",
    "even_list = [x for x in my_list if x % 2 == 0]\n",
    "print(even_list)"
   ],
   "id": "e2d76aac84cdeea9",
   "outputs": [
    {
     "name": "stdout",
     "output_type": "stream",
     "text": [
      "[2, 4, 6]\n"
     ]
    }
   ],
   "execution_count": 79
  },
  {
   "metadata": {},
   "cell_type": "markdown",
   "source": "5. Nested Dictionary: For the dictionary {'user1': {'name': 'John', 'age': 30}, 'user2': {'name': 'Jane', 'age': 25}}, print each user’s name and age.",
   "id": "c6f0bb0d97a1e172"
  },
  {
   "metadata": {
    "ExecuteTime": {
     "end_time": "2024-09-09T17:42:29.008445Z",
     "start_time": "2024-09-09T17:42:29.003587Z"
    }
   },
   "cell_type": "code",
   "source": [
    "nested_dict = {\n",
    "        'user1': {'name': 'John', 'age': 30}, \n",
    "        'user2': {'name': 'Jane', 'age': 25}\n",
    "}\n",
    "\n",
    "for item in nested_dict.values():\n",
    "    print(item[\"name\"], end=\"\")\n",
    "    print(\" \", item[\"age\"])"
   ],
   "id": "f040da9b7597b06f",
   "outputs": [
    {
     "name": "stdout",
     "output_type": "stream",
     "text": [
      "John  30\n",
      "Jane  25\n"
     ]
    }
   ],
   "execution_count": 80
  },
  {
   "metadata": {},
   "cell_type": "markdown",
   "source": "6. Set of Tuples: For the set {(1, 'a'), (2, 'b')}, iterate over it and print the first and second elements of each tuple.",
   "id": "329851ad6b98c5d1"
  },
  {
   "metadata": {
    "ExecuteTime": {
     "end_time": "2024-09-09T17:42:29.057910Z",
     "start_time": "2024-09-09T17:42:29.053002Z"
    }
   },
   "cell_type": "code",
   "source": [
    "my_set = {(1, \"a\"), (2, \"b\")}\n",
    "\n",
    "for el1, el2 in my_set:\n",
    "    print(el1, el2)"
   ],
   "id": "6090529b750c0b8",
   "outputs": [
    {
     "name": "stdout",
     "output_type": "stream",
     "text": [
      "1 a\n",
      "2 b\n"
     ]
    }
   ],
   "execution_count": 81
  },
  {
   "metadata": {},
   "cell_type": "markdown",
   "source": "7. List of Lists: Given the list [[1, 2], [3, 4], [5, 6]], iterate over it and print the sum of each inner list.",
   "id": "394618429c686521"
  },
  {
   "metadata": {
    "ExecuteTime": {
     "end_time": "2024-09-09T17:42:29.139069Z",
     "start_time": "2024-09-09T17:42:29.125404Z"
    }
   },
   "cell_type": "code",
   "source": [
    "del sum         # Having an error somewhere with another sum\n",
    "my_3d_list = [\n",
    "                [1,2],\n",
    "                [3, 4],\n",
    "                [5, 6]\n",
    "              ]\n",
    "for inner_list in my_3d_list:\n",
    "    sum_list = sum(inner_list)\n",
    "    print(sum_list)    "
   ],
   "id": "6486025e817df35f",
   "outputs": [
    {
     "ename": "NameError",
     "evalue": "name 'sum' is not defined",
     "output_type": "error",
     "traceback": [
      "\u001B[1;31m---------------------------------------------------------------------------\u001B[0m",
      "\u001B[1;31mNameError\u001B[0m                                 Traceback (most recent call last)",
      "Cell \u001B[1;32mIn[82], line 1\u001B[0m\n\u001B[1;32m----> 1\u001B[0m \u001B[38;5;28;01mdel\u001B[39;00m \u001B[38;5;28;43msum\u001B[39;49m         \u001B[38;5;66;03m# Having an error somewhere with another sum\u001B[39;00m\n\u001B[0;32m      2\u001B[0m my_3d_list \u001B[38;5;241m=\u001B[39m [\n\u001B[0;32m      3\u001B[0m                 [\u001B[38;5;241m1\u001B[39m,\u001B[38;5;241m2\u001B[39m],\n\u001B[0;32m      4\u001B[0m                 [\u001B[38;5;241m3\u001B[39m, \u001B[38;5;241m4\u001B[39m],\n\u001B[0;32m      5\u001B[0m                 [\u001B[38;5;241m5\u001B[39m, \u001B[38;5;241m6\u001B[39m]\n\u001B[0;32m      6\u001B[0m               ]\n\u001B[0;32m      7\u001B[0m \u001B[38;5;28;01mfor\u001B[39;00m inner_list \u001B[38;5;129;01min\u001B[39;00m my_3d_list:\n",
      "\u001B[1;31mNameError\u001B[0m: name 'sum' is not defined"
     ]
    }
   ],
   "execution_count": 82
  },
  {
   "metadata": {},
   "cell_type": "markdown",
   "source": "8. Multiples of a Number: Print the first 10 multiples of a number (e.g., 3).",
   "id": "836a52694ec8bc0b"
  },
  {
   "metadata": {},
   "cell_type": "markdown",
   "source": "9. String Character Frequency: Given a string \"aabbcc\", count and print the frequency of each character using a dictionary.",
   "id": "ce6b23bafe4c00e8"
  },
  {
   "metadata": {
    "ExecuteTime": {
     "end_time": "2024-09-09T17:42:29.232292700Z",
     "start_time": "2024-09-09T17:39:07.544491Z"
    }
   },
   "cell_type": "code",
   "source": [
    "str_input = input(\"Enter a string with some repeating letters: \")\n",
    "char_dict = {}\n",
    "for char in str_input:\n",
    "    if char in char_dict:\n",
    "        char_dict[char] += 1\n",
    "    else:\n",
    "        char_dict[char] = 1\n",
    "for key, value in char_dict.items():\n",
    "    print(key, value)"
   ],
   "id": "ff8b85010d543407",
   "outputs": [
    {
     "name": "stdout",
     "output_type": "stream",
     "text": [
      "{'a': 2, 'b': 2, 'c': 2}\n",
      "a 2\n",
      "b 2\n",
      "c 2\n"
     ]
    }
   ],
   "execution_count": 52
  },
  {
   "metadata": {},
   "cell_type": "markdown",
   "source": [
    "10. String Pattern Generation: Print a pattern like this:\n",
    "\n",
    "1\n",
    "22\n",
    "333\n",
    "4444\n",
    "where the number of rows and the repeating digit is based on a given number (e.g., 4)."
   ],
   "id": "ce0831fbc3013eec"
  },
  {
   "metadata": {
    "ExecuteTime": {
     "end_time": "2024-09-09T17:42:29.236803900Z",
     "start_time": "2024-09-09T17:41:34.802996Z"
    }
   },
   "cell_type": "code",
   "source": [
    "number = int(input(\"Enter a number: \"))\n",
    "for i in range(number):\n",
    "    print(str(i) * i)"
   ],
   "id": "ad94a600db82ef71",
   "outputs": [
    {
     "name": "stdout",
     "output_type": "stream",
     "text": [
      "\n",
      "1\n",
      "22\n",
      "333\n",
      "4444\n",
      "55555\n",
      "666666\n",
      "7777777\n",
      "88888888\n",
      "999999999\n"
     ]
    }
   ],
   "execution_count": 55
  }
 ],
 "metadata": {
  "kernelspec": {
   "display_name": "Python 3",
   "language": "python",
   "name": "python3"
  },
  "language_info": {
   "codemirror_mode": {
    "name": "ipython",
    "version": 2
   },
   "file_extension": ".py",
   "mimetype": "text/x-python",
   "name": "python",
   "nbconvert_exporter": "python",
   "pygments_lexer": "ipython2",
   "version": "2.7.6"
  }
 },
 "nbformat": 4,
 "nbformat_minor": 5
}
