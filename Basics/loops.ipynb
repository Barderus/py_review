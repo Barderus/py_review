{
 "cells": [
  {
   "metadata": {},
   "cell_type": "markdown",
   "source": [
    "Loops review\n",
    "    * For loops\n",
    "    * while loops"
   ],
   "id": "de9ee18f91ce2ae1"
  },
  {
   "metadata": {},
   "cell_type": "markdown",
   "source": "",
   "id": "c11ffb0556c770"
  },
  {
   "metadata": {
    "ExecuteTime": {
     "end_time": "2024-08-13T16:07:53.016358Z",
     "start_time": "2024-08-13T16:07:53.009573Z"
    }
   },
   "cell_type": "code",
   "source": [
    "tech_jobs = [\n",
    "    \"Software Engineer\",\n",
    "    \"Data Scientist\",\n",
    "    \"Data Analyst\",\n",
    "    \"Machine Learning Engineer\",\n",
    "    \"Data Engineer\",\n",
    "    \"DevOps Engineer\",\n",
    "    \"Cybersecurity Analyst\",\n",
    "    \"Systems Administrator\",\n",
    "    \"Web Developer\",\n",
    "    \"Database Administrator\",\n",
    "    \"Network Engineer\",\n",
    "    \"Cloud Solutions Architect\",\n",
    "    \"Front-End Developer\",\n",
    "    \"Back-End Developer\",\n",
    "    \"Full-Stack Developer\",\n",
    "    \"Artificial Intelligence Engineer\",\n",
    "    \"UX/UI Designer\",\n",
    "    \"IT Support Specialist\",\n",
    "    \"Business Intelligence Developer\",\n",
    "    \"Application Developer\",\n",
    "    \"Software Tester\",\n",
    "    \"Embedded Systems Engineer\",\n",
    "    \"Quantitative Analyst\",\n",
    "    \"Blockchain Developer\",\n",
    "    \"Information Systems Manager\",\n",
    "    \"Technical Project Manager\"\n",
    "]\n",
    "len(tech_jobs)"
   ],
   "id": "240e520dc1cf3d54",
   "outputs": [
    {
     "data": {
      "text/plain": [
       "26"
      ]
     },
     "execution_count": 13,
     "metadata": {},
     "output_type": "execute_result"
    }
   ],
   "execution_count": 13
  },
  {
   "metadata": {
    "ExecuteTime": {
     "end_time": "2024-08-13T16:07:47.273065Z",
     "start_time": "2024-08-13T16:07:47.266663Z"
    }
   },
   "cell_type": "code",
   "source": [
    "analyst_list = []\n",
    "for job in tech_jobs:\n",
    "    if \"Data\" in job:\n",
    "        analyst_list.append(job)\n",
    "analyst_list"
   ],
   "id": "8f34f546ec97b749",
   "outputs": [
    {
     "data": {
      "text/plain": [
       "['Data Scientist', 'Data Analyst', 'Data Engineer', 'Database Administrator']"
      ]
     },
     "execution_count": 12,
     "metadata": {},
     "output_type": "execute_result"
    }
   ],
   "execution_count": 12
  },
  {
   "metadata": {
    "ExecuteTime": {
     "end_time": "2024-08-13T16:03:42.255906Z",
     "start_time": "2024-08-13T16:03:42.252251Z"
    }
   },
   "cell_type": "code",
   "source": [
    "numbers = [0, 1, 2, 3, 4, 5, 6, 7, 8, 9, 10]\n",
    "\n",
    "for number in numbers:\n",
    "    print(number)"
   ],
   "id": "f13eaa4400a8884",
   "outputs": [
    {
     "name": "stdout",
     "output_type": "stream",
     "text": [
      "0\n",
      "1\n",
      "2\n",
      "3\n",
      "4\n",
      "5\n",
      "6\n",
      "7\n",
      "8\n",
      "9\n",
      "10\n"
     ]
    }
   ],
   "execution_count": 6
  },
  {
   "metadata": {
    "ExecuteTime": {
     "end_time": "2024-08-13T16:04:31.265034Z",
     "start_time": "2024-08-13T16:04:31.261572Z"
    }
   },
   "cell_type": "code",
   "source": [
    "characters = \"PYTHON\"\n",
    "for character in characters:\n",
    "    print(character)"
   ],
   "id": "a5806e787cce5d2f",
   "outputs": [
    {
     "name": "stdout",
     "output_type": "stream",
     "text": [
      "P\n",
      "Y\n",
      "T\n",
      "H\n",
      "O\n",
      "N\n"
     ]
    }
   ],
   "execution_count": 7
  },
  {
   "metadata": {
    "ExecuteTime": {
     "end_time": "2024-08-13T17:34:33.124431Z",
     "start_time": "2024-08-13T17:34:33.109116Z"
    }
   },
   "cell_type": "code",
   "source": [
    "import random\n",
    "\n",
    "years_experience = {\n",
    "    \"Alice\": random.randint(1, 15),\n",
    "    \"Bob\": random.randint(1, 15),\n",
    "    \"Charlie\": random.randint(1, 15),\n",
    "    \"Diana\": random.randint(1, 15),\n",
    "    \"Ethan\": random.randint(1, 15),\n",
    "    \"Fiona\": random.randint(1, 15),\n",
    "    \"George\": random.randint(1, 15),\n",
    "    \"Hannah\": random.randint(1, 15),\n",
    "    \"Isaac\": random.randint(1, 15),\n",
    "    \"Jasmine\": random.randint(1, 15),\n",
    "    \"Kevin\": random.randint(1, 15),\n",
    "    \"Lily\": random.randint(1, 15),\n",
    "    \"Michael\": random.randint(1, 15),\n",
    "    \"Natalie\": random.randint(1, 15),\n",
    "    \"Oliver\": random.randint(1, 15),\n",
    "    \"Paula\": random.randint(1, 15),\n",
    "    \"Quincy\": random.randint(1, 15),\n",
    "    \"Rachel\": random.randint(1, 15),\n",
    "    \"Samuel\": random.randint(1, 15),\n",
    "    \"Tina\": random.randint(1, 15),\n",
    "    \"Umar\": random.randint(1, 15),\n",
    "    \"Victoria\": random.randint(1, 15),\n",
    "    \"William\": random.randint(1, 15),\n",
    "    \"Xander\": random.randint(1, 15),\n",
    "    \"Yara\": random.randint(1, 15),\n",
    "    \"Zachary\": random.randint(1, 15)\n",
    "}\n",
    "\n",
    "\n",
    "for key, value in years_experience.items():\n",
    "    if value > 5:\n",
    "        print(f\"{key} has {value} years of experience.\")"
   ],
   "id": "f539cf8cd55422fe",
   "outputs": [
    {
     "name": "stdout",
     "output_type": "stream",
     "text": [
      "Bob has 12 years of experience.\n",
      "Charlie has 14 years of experience.\n",
      "Ethan has 7 years of experience.\n",
      "Fiona has 8 years of experience.\n",
      "George has 8 years of experience.\n",
      "Hannah has 10 years of experience.\n",
      "Isaac has 13 years of experience.\n",
      "Jasmine has 14 years of experience.\n",
      "Kevin has 12 years of experience.\n",
      "Lily has 6 years of experience.\n",
      "Natalie has 9 years of experience.\n",
      "Oliver has 15 years of experience.\n",
      "Paula has 12 years of experience.\n",
      "Umar has 10 years of experience.\n",
      "Victoria has 11 years of experience.\n",
      "William has 11 years of experience.\n",
      "Xander has 7 years of experience.\n",
      "Yara has 13 years of experience.\n"
     ]
    }
   ],
   "execution_count": 18
  },
  {
   "metadata": {
    "ExecuteTime": {
     "end_time": "2024-08-13T17:38:33.438113Z",
     "start_time": "2024-08-13T17:38:33.428858Z"
    }
   },
   "cell_type": "code",
   "source": [
    "for _ in range(100):\n",
    "    print(_)"
   ],
   "id": "1e56b112de90ba02",
   "outputs": [
    {
     "name": "stdout",
     "output_type": "stream",
     "text": [
      "0\n",
      "1\n",
      "2\n",
      "3\n",
      "4\n",
      "5\n",
      "6\n",
      "7\n",
      "8\n",
      "9\n",
      "10\n",
      "11\n",
      "12\n",
      "13\n",
      "14\n",
      "15\n",
      "16\n",
      "17\n",
      "18\n",
      "19\n",
      "20\n",
      "21\n",
      "22\n",
      "23\n",
      "24\n",
      "25\n",
      "26\n",
      "27\n",
      "28\n",
      "29\n",
      "30\n",
      "31\n",
      "32\n",
      "33\n",
      "34\n",
      "35\n",
      "36\n",
      "37\n",
      "38\n",
      "39\n",
      "40\n",
      "41\n",
      "42\n",
      "43\n",
      "44\n",
      "45\n",
      "46\n",
      "47\n",
      "48\n",
      "49\n",
      "50\n",
      "51\n",
      "52\n",
      "53\n",
      "54\n",
      "55\n",
      "56\n",
      "57\n",
      "58\n",
      "59\n",
      "60\n",
      "61\n",
      "62\n",
      "63\n",
      "64\n",
      "65\n",
      "66\n",
      "67\n",
      "68\n",
      "69\n",
      "70\n",
      "71\n",
      "72\n",
      "73\n",
      "74\n",
      "75\n",
      "76\n",
      "77\n",
      "78\n",
      "79\n",
      "80\n",
      "81\n",
      "82\n",
      "83\n",
      "84\n",
      "85\n",
      "86\n",
      "87\n",
      "88\n",
      "89\n",
      "90\n",
      "91\n",
      "92\n",
      "93\n",
      "94\n",
      "95\n",
      "96\n",
      "97\n",
      "98\n",
      "99\n"
     ]
    }
   ],
   "execution_count": 19
  },
  {
   "metadata": {
    "ExecuteTime": {
     "end_time": "2024-08-13T17:42:34.357187Z",
     "start_time": "2024-08-13T17:42:34.337841Z"
    }
   },
   "cell_type": "code",
   "source": [
    "years = 0\n",
    "years_list = list(years_experience.items())\n",
    "years_list\n",
    "    \n",
    "    "
   ],
   "id": "9f1f61ee76703916",
   "outputs": [
    {
     "data": {
      "text/plain": [
       "[('Alice', 3),\n",
       " ('Bob', 12),\n",
       " ('Charlie', 14),\n",
       " ('Diana', 1),\n",
       " ('Ethan', 7),\n",
       " ('Fiona', 8),\n",
       " ('George', 8),\n",
       " ('Hannah', 10),\n",
       " ('Isaac', 13),\n",
       " ('Jasmine', 14),\n",
       " ('Kevin', 12),\n",
       " ('Lily', 6),\n",
       " ('Michael', 2),\n",
       " ('Natalie', 9),\n",
       " ('Oliver', 15),\n",
       " ('Paula', 12),\n",
       " ('Quincy', 4),\n",
       " ('Rachel', 1),\n",
       " ('Samuel', 3),\n",
       " ('Tina', 3),\n",
       " ('Umar', 10),\n",
       " ('Victoria', 11),\n",
       " ('William', 11),\n",
       " ('Xander', 7),\n",
       " ('Yara', 13),\n",
       " ('Zachary', 4)]"
      ]
     },
     "execution_count": 20,
     "metadata": {},
     "output_type": "execute_result"
    }
   ],
   "execution_count": 20
  },
  {
   "metadata": {
    "ExecuteTime": {
     "end_time": "2024-08-13T17:44:50.418258Z",
     "start_time": "2024-08-13T17:44:50.406501Z"
    }
   },
   "cell_type": "code",
   "source": [
    "index = 0\n",
    "while years < 5:\n",
    "    key, years = years_list[index]\n",
    "    if years >5:\n",
    "        print(key, years)\n",
    "    index += 1"
   ],
   "id": "3f20f6c4c44219ed",
   "outputs": [],
   "execution_count": 25
  },
  {
   "metadata": {},
   "cell_type": "code",
   "outputs": [],
   "execution_count": null,
   "source": "",
   "id": "ac242a81ba21e51d"
  }
 ],
 "metadata": {
  "kernelspec": {
   "display_name": "Python 3",
   "language": "python",
   "name": "python3"
  },
  "language_info": {
   "codemirror_mode": {
    "name": "ipython",
    "version": 2
   },
   "file_extension": ".py",
   "mimetype": "text/x-python",
   "name": "python",
   "nbconvert_exporter": "python",
   "pygments_lexer": "ipython2",
   "version": "2.7.6"
  }
 },
 "nbformat": 4,
 "nbformat_minor": 5
}
