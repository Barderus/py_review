{
 "cells": [
  {
   "cell_type": "code",
   "id": "initial_id",
   "metadata": {
    "collapsed": true,
    "ExecuteTime": {
     "end_time": "2024-08-16T02:40:57.096717Z",
     "start_time": "2024-08-16T02:40:57.088636Z"
    }
   },
   "source": [
    "from job_analyzer import calculate_salary, calculate_bonus\n",
    "\n",
    "calculate_salary(100000)\n",
    "\n",
    "calculate_bonus(110000, 100000)\n",
    "\n"
   ],
   "outputs": [
    {
     "data": {
      "text/plain": [
       "0.1"
      ]
     },
     "execution_count": 2,
     "metadata": {},
     "output_type": "execute_result"
    }
   ],
   "execution_count": 2
  },
  {
   "metadata": {
    "ExecuteTime": {
     "end_time": "2024-08-16T02:40:57.180442Z",
     "start_time": "2024-08-16T02:40:57.176002Z"
    }
   },
   "cell_type": "code",
   "source": "help(calculate_salary)",
   "id": "aae0bd7e18096e2d",
   "outputs": [
    {
     "name": "stdout",
     "output_type": "stream",
     "text": [
      "Help on function calculate_salary in module job_analyzer:\n",
      "\n",
      "calculate_salary(base_salary, bonus_rate=0.1)\n",
      "    Calculate the total salary based on the base salary and bonus rate.\n",
      "    \n",
      "    Args:\n",
      "        base_salary (float): Base Salary\n",
      "        bonus_rate (float): Bonus Rate\n",
      "    \n",
      "    Returns:\n",
      "        float: The total salary\n",
      "\n"
     ]
    }
   ],
   "execution_count": 3
  },
  {
   "metadata": {
    "ExecuteTime": {
     "end_time": "2024-08-16T02:43:42.164553Z",
     "start_time": "2024-08-16T02:43:42.160999Z"
    }
   },
   "cell_type": "code",
   "source": "salary_list = [98000, 101000, 102000, 89500, 97000]",
   "id": "c691e64a1f0303e4",
   "outputs": [],
   "execution_count": 4
  },
  {
   "metadata": {
    "ExecuteTime": {
     "end_time": "2024-08-16T02:44:31.415748Z",
     "start_time": "2024-08-16T02:44:31.404681Z"
    }
   },
   "cell_type": "code",
   "source": [
    "from statistics import mean, mode, median\n",
    "mean(salary_list)"
   ],
   "id": "47a1528fa571d8c2",
   "outputs": [
    {
     "data": {
      "text/plain": [
       "97500"
      ]
     },
     "execution_count": 5,
     "metadata": {},
     "output_type": "execute_result"
    }
   ],
   "execution_count": 5
  },
  {
   "metadata": {
    "ExecuteTime": {
     "end_time": "2024-08-16T02:44:37.428545Z",
     "start_time": "2024-08-16T02:44:37.423579Z"
    }
   },
   "cell_type": "code",
   "source": "mode(salary_list)",
   "id": "fd1e12e2f0772cf5",
   "outputs": [
    {
     "data": {
      "text/plain": [
       "98000"
      ]
     },
     "execution_count": 6,
     "metadata": {},
     "output_type": "execute_result"
    }
   ],
   "execution_count": 6
  },
  {
   "metadata": {
    "ExecuteTime": {
     "end_time": "2024-08-16T02:44:51.216116Z",
     "start_time": "2024-08-16T02:44:51.211103Z"
    }
   },
   "cell_type": "code",
   "source": "median(salary_list)",
   "id": "6801532c2a95b2d0",
   "outputs": [
    {
     "data": {
      "text/plain": [
       "98000"
      ]
     },
     "execution_count": 7,
     "metadata": {},
     "output_type": "execute_result"
    }
   ],
   "execution_count": 7
  },
  {
   "metadata": {},
   "cell_type": "code",
   "outputs": [],
   "execution_count": null,
   "source": "",
   "id": "7a848f74081252de"
  }
 ],
 "metadata": {
  "kernelspec": {
   "display_name": "Python 3",
   "language": "python",
   "name": "python3"
  },
  "language_info": {
   "codemirror_mode": {
    "name": "ipython",
    "version": 2
   },
   "file_extension": ".py",
   "mimetype": "text/x-python",
   "name": "python",
   "nbconvert_exporter": "python",
   "pygments_lexer": "ipython2",
   "version": "2.7.6"
  }
 },
 "nbformat": 4,
 "nbformat_minor": 5
}
