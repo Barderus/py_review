{
 "cells": [
  {
   "metadata": {},
   "cell_type": "markdown",
   "source": "Common third party libraries for data analysis",
   "id": "6d03f2481968ae4a"
  },
  {
   "metadata": {},
   "cell_type": "markdown",
   "source": [
    "** Pandas\n",
    "** NumPy\n",
    "** Matplotlib\n",
    "** Seaborn\n",
    "** SciPy\n",
    "** Scikit-learn"
   ],
   "id": "23659d0d2ba894e3"
  },
  {
   "metadata": {
    "ExecuteTime": {
     "end_time": "2024-08-18T23:33:56.724577Z",
     "start_time": "2024-08-18T23:33:56.722226Z"
    }
   },
   "cell_type": "code",
   "source": "",
   "id": "58e5565ab0b62db7",
   "outputs": [],
   "execution_count": null
  }
 ],
 "metadata": {
  "kernelspec": {
   "display_name": "Python 3",
   "language": "python",
   "name": "python3"
  },
  "language_info": {
   "codemirror_mode": {
    "name": "ipython",
    "version": 2
   },
   "file_extension": ".py",
   "mimetype": "text/x-python",
   "name": "python",
   "nbconvert_exporter": "python",
   "pygments_lexer": "ipython2",
   "version": "2.7.6"
  }
 },
 "nbformat": 4,
 "nbformat_minor": 5
}
