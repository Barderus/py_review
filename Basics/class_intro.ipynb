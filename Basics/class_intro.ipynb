{
 "cells": [
  {
   "cell_type": "code",
   "id": "initial_id",
   "metadata": {
    "collapsed": true,
    "ExecuteTime": {
     "end_time": "2024-08-18T23:57:14.977883Z",
     "start_time": "2024-08-18T23:57:14.972221Z"
    }
   },
   "source": [
    "class BaseSalary:\n",
    "    def __init__(self, base_salary, bonus_rate = 0.1, symbol = \"$\"):\n",
    "        self.base_salary = base_salary\n",
    "        self.bonus_rate = bonus_rate\n",
    "        self.symbol = symbol\n",
    "        self.total_salary = base_salary * (1 + bonus_rate)\n",
    "        self.bonus = (self.total_salary - self.base_salary)\n",
    "        \n",
    "    def show_salary(self):\n",
    "        return f\"{self.symbol}{self.total_salary:,.0f}\"\n",
    "        \n",
    "    def show_bonus(self):\n",
    "        return f\"{self.symbol}{self.bonus:,.0f}\"\n",
    "        \n",
    "    def __repr__(self):\n",
    "        return f\"{self.symbol}{self.base_salary:,.0f}\""
   ],
   "outputs": [],
   "execution_count": 32
  },
  {
   "metadata": {
    "ExecuteTime": {
     "end_time": "2024-08-18T23:57:16.335763Z",
     "start_time": "2024-08-18T23:57:16.331753Z"
    }
   },
   "cell_type": "code",
   "source": [
    "salary = BaseSalary(100000)\n",
    "\n",
    "salary"
   ],
   "id": "d1974eb7a264f5fa",
   "outputs": [
    {
     "data": {
      "text/plain": [
       "$100,000"
      ]
     },
     "execution_count": 33,
     "metadata": {},
     "output_type": "execute_result"
    }
   ],
   "execution_count": 33
  },
  {
   "metadata": {
    "ExecuteTime": {
     "end_time": "2024-08-18T23:57:32.137909Z",
     "start_time": "2024-08-18T23:57:32.132861Z"
    }
   },
   "cell_type": "code",
   "source": "salary.show_salary()",
   "id": "9a7dee0d9a94f90f",
   "outputs": [
    {
     "data": {
      "text/plain": [
       "'$110,000'"
      ]
     },
     "execution_count": 37,
     "metadata": {},
     "output_type": "execute_result"
    }
   ],
   "execution_count": 37
  },
  {
   "metadata": {
    "ExecuteTime": {
     "end_time": "2024-08-18T23:57:29.709555Z",
     "start_time": "2024-08-18T23:57:29.704681Z"
    }
   },
   "cell_type": "code",
   "source": "salary.show_bonus()",
   "id": "78b3739132c54ea0",
   "outputs": [
    {
     "data": {
      "text/plain": [
       "'$10,000'"
      ]
     },
     "execution_count": 36,
     "metadata": {},
     "output_type": "execute_result"
    }
   ],
   "execution_count": 36
  },
  {
   "metadata": {
    "ExecuteTime": {
     "end_time": "2024-08-18T23:56:09.892748Z",
     "start_time": "2024-08-18T23:56:09.890680Z"
    }
   },
   "cell_type": "code",
   "source": "",
   "id": "ed3bc6c4b803569a",
   "outputs": [],
   "execution_count": null
  }
 ],
 "metadata": {
  "kernelspec": {
   "display_name": "Python 3",
   "language": "python",
   "name": "python3"
  },
  "language_info": {
   "codemirror_mode": {
    "name": "ipython",
    "version": 2
   },
   "file_extension": ".py",
   "mimetype": "text/x-python",
   "name": "python",
   "nbconvert_exporter": "python",
   "pygments_lexer": "ipython2",
   "version": "2.7.6"
  }
 },
 "nbformat": 4,
 "nbformat_minor": 5
}
