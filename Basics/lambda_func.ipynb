{
 "cells": [
  {
   "metadata": {},
   "cell_type": "markdown",
   "source": "Lambda Functions = Anonymous functions",
   "id": "c33f2cc9a1dfbc42"
  },
  {
   "metadata": {
    "ExecuteTime": {
     "end_time": "2024-08-16T02:03:49.845697Z",
     "start_time": "2024-08-16T02:03:49.841419Z"
    }
   },
   "cell_type": "code",
   "source": [
    "# Lambda structure\n",
    "mult = lambda x: x * 2\n",
    "mult(3)"
   ],
   "id": "93d1d06481efee3a",
   "outputs": [
    {
     "data": {
      "text/plain": [
       "6"
      ]
     },
     "execution_count": 2,
     "metadata": {},
     "output_type": "execute_result"
    }
   ],
   "execution_count": 2
  },
  {
   "metadata": {
    "ExecuteTime": {
     "end_time": "2024-08-16T02:04:32.830355Z",
     "start_time": "2024-08-16T02:04:32.825655Z"
    }
   },
   "cell_type": "code",
   "source": "(lambda x, y: x*2 + y)(3, 4)",
   "id": "129af6b659faf516",
   "outputs": [
    {
     "data": {
      "text/plain": [
       "10"
      ]
     },
     "execution_count": 3,
     "metadata": {},
     "output_type": "execute_result"
    }
   ],
   "execution_count": 3
  },
  {
   "metadata": {
    "ExecuteTime": {
     "end_time": "2024-08-16T02:11:06.905167Z",
     "start_time": "2024-08-16T02:11:06.899146Z"
    }
   },
   "cell_type": "code",
   "source": [
    "salary_list = [100000, 200000, 150000, 120000, 80000, 70000, 60000, 50000, 45000]\n",
    "\n",
    "# Calculate the total salary based on the equation: base_salary * (1 + bonus_rate)\n",
    "def calculate_salary(base_salary, bonus_rate=0.1):\n",
    "    return base_salary * (1 + bonus_rate)\n",
    "    \n",
    "# Using list comprehension\n",
    "ttl_salary_list = [calculate_salary(salary) for salary in salary_list]\n",
    "ttl_salary_list"
   ],
   "id": "5f9a423eb4a7586a",
   "outputs": [
    {
     "data": {
      "text/plain": [
       "[110000.00000000001,\n",
       " 220000.00000000003,\n",
       " 165000.0,\n",
       " 132000.0,\n",
       " 88000.0,\n",
       " 77000.0,\n",
       " 66000.0,\n",
       " 55000.00000000001,\n",
       " 49500.00000000001]"
      ]
     },
     "execution_count": 9,
     "metadata": {},
     "output_type": "execute_result"
    }
   ],
   "execution_count": 9
  },
  {
   "metadata": {
    "ExecuteTime": {
     "end_time": "2024-08-16T02:12:50.217736Z",
     "start_time": "2024-08-16T02:12:50.212820Z"
    }
   },
   "cell_type": "code",
   "source": [
    "salary_list = [100000, 200000, 150000, 120000, 80000, 70000, 60000, 50000, 45000]\n",
    "total_salary_list = [salary * 1.1 for salary in salary_list]\n",
    "total_salary_list"
   ],
   "id": "2229e3e3bb00e156",
   "outputs": [
    {
     "data": {
      "text/plain": [
       "[110000.00000000001,\n",
       " 220000.00000000003,\n",
       " 165000.0,\n",
       " 132000.0,\n",
       " 88000.0,\n",
       " 77000.0,\n",
       " 66000.0,\n",
       " 55000.00000000001,\n",
       " 49500.00000000001]"
      ]
     },
     "execution_count": 12,
     "metadata": {},
     "output_type": "execute_result"
    }
   ],
   "execution_count": 12
  },
  {
   "metadata": {
    "ExecuteTime": {
     "end_time": "2024-08-16T02:12:11.124121Z",
     "start_time": "2024-08-16T02:12:11.119225Z"
    }
   },
   "cell_type": "code",
   "source": [
    "salary_list = [100000, 200000, 150000, 120000, 80000, 70000, 60000, 50000, 45000]\n",
    "\n",
    "total_salary_lambda = [(lambda x: x * 1.1)(salary) for salary in salary_list]\n",
    "total_salary_lambda"
   ],
   "id": "16df81fb24794d1",
   "outputs": [
    {
     "data": {
      "text/plain": [
       "[110000.00000000001,\n",
       " 220000.00000000003,\n",
       " 165000.0,\n",
       " 132000.0,\n",
       " 88000.0,\n",
       " 77000.0,\n",
       " 66000.0,\n",
       " 55000.00000000001,\n",
       " 49500.00000000001]"
      ]
     },
     "execution_count": 11,
     "metadata": {},
     "output_type": "execute_result"
    }
   ],
   "execution_count": 11
  },
  {
   "metadata": {
    "ExecuteTime": {
     "end_time": "2024-08-16T02:23:29.729755Z",
     "start_time": "2024-08-16T02:23:29.716923Z"
    }
   },
   "cell_type": "code",
   "source": [
    "job_data = [\n",
    "    { \"job_title\": \"Data Scientist\", \"job_skills\": [\"Python\", \"R\", \"SQL\", \"Machine Learning\"], \"remote\": True },\n",
    "    { \"job_title\": \"Machine Learning Engineer\", \"job_skills\": [\"Python\", \"TensorFlow\", \"Deep Learning\", \"NLP\"], \"remote\": False },\n",
    "    { \"job_title\": \"Data Analyst\", \"job_skills\": [\"Excel\", \"SQL\", \"Tableau\", \"Data Visualization\"], \"remote\": True },\n",
    "    { \"job_title\": \"Data Engineer\", \"job_skills\": [\"Python\", \"SQL\", \"ETL\", \"Apache Spark\"], \"remote\": False },\n",
    "    { \"job_title\": \"Business Intelligence Analyst\", \"job_skills\": [\"Power BI\", \"SQL\", \"Data Modeling\", \"Dashboarding\"], \"remote\": True },\n",
    "    { \"job_title\": \"Quantitative Analyst\", \"job_skills\": [\"R\", \"Python\", \"Statistics\", \"Financial Modeling\"], \"remote\": False },\n",
    "    { \"job_title\": \"AI Research Scientist\", \"job_skills\": [\"Python\", \"PyTorch\", \"Reinforcement Learning\", \"NLP\"], \"remote\": True },\n",
    "    { \"job_title\": \"Data Architect\", \"job_skills\": [\"SQL\", \"Data Warehousing\", \"Cloud Computing\", \"ETL\"], \"remote\": False },\n",
    "    { \"job_title\": \"Big Data Engineer\", \"job_skills\": [\"Hadoop\", \"Spark\", \"Kafka\", \"NoSQL\"], \"remote\": True },\n",
    "    { \"job_title\": \"Statistician\", \"job_skills\": [\"R\", \"Python\", \"Statistical Analysis\", \"SAS\"], \"remote\": False },\n",
    "    { \"job_title\": \"Data Operations Analyst\", \"job_skills\": [\"SQL\", \"Data Pipelines\", \"Automation\", \"Scripting\"], \"remote\": True },\n",
    "    { \"job_title\": \"Deep Learning Engineer\", \"job_skills\": [\"Python\", \"TensorFlow\", \"Keras\", \"GPU Programming\"], \"remote\": False },\n",
    "    { \"job_title\": \"Data Visualization Specialist\", \"job_skills\": [\"Tableau\", \"Power BI\", \"D3.js\", \"Data Storytelling\"], \"remote\": True },\n",
    "    { \"job_title\": \"NLP Engineer\", \"job_skills\": [\"Python\", \"NLP\", \"Spacy\", \"Transformers\"], \"remote\": False },\n",
    "    { \"job_title\": \"Database Administrator\", \"job_skills\": [\"SQL\", \"Database Management\", \"MySQL\", \"Backup & Recovery\"], \"remote\": True },\n",
    "    { \"job_title\": \"Machine Learning Researcher\", \"job_skills\": [\"Python\", \"Research\", \"ML Algorithms\", \"Data Analysis\"], \"remote\": False },\n",
    "    { \"job_title\": \"Data Science Consultant\", \"job_skills\": [\"Python\", \"Business Analysis\", \"Data Strategy\", \"SQL\"], \"remote\": True },\n",
    "    { \"job_title\": \"Predictive Analytics Specialist\", \"job_skills\": [\"R\", \"Python\", \"Time Series Analysis\", \"Machine Learning\"], \"remote\": False },\n",
    "    { \"job_title\": \"ETL Developer\", \"job_skills\": [\"SQL\", \"ETL\", \"Data Warehousing\", \"Informatica\"], \"remote\": True },\n",
    "    { \"job_title\": \"Data Science Manager\", \"job_skills\": [\"Leadership\", \"Python\", \"Project Management\", \"ML Ops\"], \"remote\": False },\n",
    "    { \"job_title\": \"AI Product Manager\", \"job_skills\": [\"Product Management\", \"AI\", \"Python\", \"Data Analysis\"], \"remote\": True },\n",
    "    { \"job_title\": \"Data Quality Analyst\", \"job_skills\": [\"SQL\", \"Data Profiling\", \"Data Governance\", \"ETL\"], \"remote\": False },\n",
    "    { \"job_title\": \"Computer Vision Engineer\", \"job_skills\": [\"Python\", \"OpenCV\", \"Deep Learning\", \"Image Processing\"], \"remote\": True },\n",
    "    { \"job_title\": \"Data Governance Specialist\", \"job_skills\": [\"Data Privacy\", \"Data Quality\", \"Compliance\", \"SQL\"], \"remote\": False },\n",
    "    { \"job_title\": \"Cloud Data Engineer\", \"job_skills\": [\"AWS\", \"Python\", \"Data Lakes\", \"Spark\"], \"remote\": True }\n",
    "]\n",
    "job_data"
   ],
   "id": "d58c72c72f4ba083",
   "outputs": [
    {
     "data": {
      "text/plain": [
       "[{'job_title': 'Data Scientist',\n",
       "  'job_skills': ['Python', 'R', 'SQL', 'Machine Learning'],\n",
       "  'remote': True},\n",
       " {'job_title': 'Machine Learning Engineer',\n",
       "  'job_skills': ['Python', 'TensorFlow', 'Deep Learning', 'NLP'],\n",
       "  'remote': False},\n",
       " {'job_title': 'Data Analyst',\n",
       "  'job_skills': ['Excel', 'SQL', 'Tableau', 'Data Visualization'],\n",
       "  'remote': True},\n",
       " {'job_title': 'Data Engineer',\n",
       "  'job_skills': ['Python', 'SQL', 'ETL', 'Apache Spark'],\n",
       "  'remote': False},\n",
       " {'job_title': 'Business Intelligence Analyst',\n",
       "  'job_skills': ['Power BI', 'SQL', 'Data Modeling', 'Dashboarding'],\n",
       "  'remote': True},\n",
       " {'job_title': 'Quantitative Analyst',\n",
       "  'job_skills': ['R', 'Python', 'Statistics', 'Financial Modeling'],\n",
       "  'remote': False},\n",
       " {'job_title': 'AI Research Scientist',\n",
       "  'job_skills': ['Python', 'PyTorch', 'Reinforcement Learning', 'NLP'],\n",
       "  'remote': True},\n",
       " {'job_title': 'Data Architect',\n",
       "  'job_skills': ['SQL', 'Data Warehousing', 'Cloud Computing', 'ETL'],\n",
       "  'remote': False},\n",
       " {'job_title': 'Big Data Engineer',\n",
       "  'job_skills': ['Hadoop', 'Spark', 'Kafka', 'NoSQL'],\n",
       "  'remote': True},\n",
       " {'job_title': 'Statistician',\n",
       "  'job_skills': ['R', 'Python', 'Statistical Analysis', 'SAS'],\n",
       "  'remote': False},\n",
       " {'job_title': 'Data Operations Analyst',\n",
       "  'job_skills': ['SQL', 'Data Pipelines', 'Automation', 'Scripting'],\n",
       "  'remote': True},\n",
       " {'job_title': 'Deep Learning Engineer',\n",
       "  'job_skills': ['Python', 'TensorFlow', 'Keras', 'GPU Programming'],\n",
       "  'remote': False},\n",
       " {'job_title': 'Data Visualization Specialist',\n",
       "  'job_skills': ['Tableau', 'Power BI', 'D3.js', 'Data Storytelling'],\n",
       "  'remote': True},\n",
       " {'job_title': 'NLP Engineer',\n",
       "  'job_skills': ['Python', 'NLP', 'Spacy', 'Transformers'],\n",
       "  'remote': False},\n",
       " {'job_title': 'Database Administrator',\n",
       "  'job_skills': ['SQL', 'Database Management', 'MySQL', 'Backup & Recovery'],\n",
       "  'remote': True},\n",
       " {'job_title': 'Machine Learning Researcher',\n",
       "  'job_skills': ['Python', 'Research', 'ML Algorithms', 'Data Analysis'],\n",
       "  'remote': False},\n",
       " {'job_title': 'Data Science Consultant',\n",
       "  'job_skills': ['Python', 'Business Analysis', 'Data Strategy', 'SQL'],\n",
       "  'remote': True},\n",
       " {'job_title': 'Predictive Analytics Specialist',\n",
       "  'job_skills': ['R', 'Python', 'Time Series Analysis', 'Machine Learning'],\n",
       "  'remote': False},\n",
       " {'job_title': 'ETL Developer',\n",
       "  'job_skills': ['SQL', 'ETL', 'Data Warehousing', 'Informatica'],\n",
       "  'remote': True},\n",
       " {'job_title': 'Data Science Manager',\n",
       "  'job_skills': ['Leadership', 'Python', 'Project Management', 'ML Ops'],\n",
       "  'remote': False},\n",
       " {'job_title': 'AI Product Manager',\n",
       "  'job_skills': ['Product Management', 'AI', 'Python', 'Data Analysis'],\n",
       "  'remote': True},\n",
       " {'job_title': 'Data Quality Analyst',\n",
       "  'job_skills': ['SQL', 'Data Profiling', 'Data Governance', 'ETL'],\n",
       "  'remote': False},\n",
       " {'job_title': 'Computer Vision Engineer',\n",
       "  'job_skills': ['Python', 'OpenCV', 'Deep Learning', 'Image Processing'],\n",
       "  'remote': True},\n",
       " {'job_title': 'Data Governance Specialist',\n",
       "  'job_skills': ['Data Privacy', 'Data Quality', 'Compliance', 'SQL'],\n",
       "  'remote': False},\n",
       " {'job_title': 'Cloud Data Engineer',\n",
       "  'job_skills': ['AWS', 'Python', 'Data Lakes', 'Spark'],\n",
       "  'remote': True}]"
      ]
     },
     "execution_count": 18,
     "metadata": {},
     "output_type": "execute_result"
    }
   ],
   "execution_count": 18
  },
  {
   "metadata": {
    "ExecuteTime": {
     "end_time": "2024-08-16T02:21:16.019778Z",
     "start_time": "2024-08-16T02:21:16.014714Z"
    }
   },
   "cell_type": "code",
   "source": "help(filter)",
   "id": "45d5879eca930ed1",
   "outputs": [
    {
     "name": "stdout",
     "output_type": "stream",
     "text": [
      "Help on class filter in module builtins:\n",
      "\n",
      "class filter(object)\n",
      " |  filter(function or None, iterable) --> filter object\n",
      " |  \n",
      " |  Return an iterator yielding those items of iterable for which function(item)\n",
      " |  is true. If function is None, return the items that are true.\n",
      " |  \n",
      " |  Methods defined here:\n",
      " |  \n",
      " |  __getattribute__(self, name, /)\n",
      " |      Return getattr(self, name).\n",
      " |  \n",
      " |  __iter__(self, /)\n",
      " |      Implement iter(self).\n",
      " |  \n",
      " |  __next__(self, /)\n",
      " |      Implement next(self).\n",
      " |  \n",
      " |  __reduce__(...)\n",
      " |      Return state information for pickling.\n",
      " |  \n",
      " |  ----------------------------------------------------------------------\n",
      " |  Static methods defined here:\n",
      " |  \n",
      " |  __new__(*args, **kwargs)\n",
      " |      Create and return a new object.  See help(type) for accurate signature.\n",
      "\n"
     ]
    }
   ],
   "execution_count": 16
  },
  {
   "metadata": {
    "ExecuteTime": {
     "end_time": "2024-08-16T02:24:06.216362Z",
     "start_time": "2024-08-16T02:24:06.209785Z"
    }
   },
   "cell_type": "code",
   "source": [
    "# Return all jobs that are remote\n",
    "list(filter((lambda job: job[\"remote\"]), job_data))\n"
   ],
   "id": "cf846d213527ec87",
   "outputs": [
    {
     "data": {
      "text/plain": [
       "[{'job_title': 'Data Scientist',\n",
       "  'job_skills': ['Python', 'R', 'SQL', 'Machine Learning'],\n",
       "  'remote': True},\n",
       " {'job_title': 'Data Analyst',\n",
       "  'job_skills': ['Excel', 'SQL', 'Tableau', 'Data Visualization'],\n",
       "  'remote': True},\n",
       " {'job_title': 'Business Intelligence Analyst',\n",
       "  'job_skills': ['Power BI', 'SQL', 'Data Modeling', 'Dashboarding'],\n",
       "  'remote': True},\n",
       " {'job_title': 'AI Research Scientist',\n",
       "  'job_skills': ['Python', 'PyTorch', 'Reinforcement Learning', 'NLP'],\n",
       "  'remote': True},\n",
       " {'job_title': 'Big Data Engineer',\n",
       "  'job_skills': ['Hadoop', 'Spark', 'Kafka', 'NoSQL'],\n",
       "  'remote': True},\n",
       " {'job_title': 'Data Operations Analyst',\n",
       "  'job_skills': ['SQL', 'Data Pipelines', 'Automation', 'Scripting'],\n",
       "  'remote': True},\n",
       " {'job_title': 'Data Visualization Specialist',\n",
       "  'job_skills': ['Tableau', 'Power BI', 'D3.js', 'Data Storytelling'],\n",
       "  'remote': True},\n",
       " {'job_title': 'Database Administrator',\n",
       "  'job_skills': ['SQL', 'Database Management', 'MySQL', 'Backup & Recovery'],\n",
       "  'remote': True},\n",
       " {'job_title': 'Data Science Consultant',\n",
       "  'job_skills': ['Python', 'Business Analysis', 'Data Strategy', 'SQL'],\n",
       "  'remote': True},\n",
       " {'job_title': 'ETL Developer',\n",
       "  'job_skills': ['SQL', 'ETL', 'Data Warehousing', 'Informatica'],\n",
       "  'remote': True},\n",
       " {'job_title': 'AI Product Manager',\n",
       "  'job_skills': ['Product Management', 'AI', 'Python', 'Data Analysis'],\n",
       "  'remote': True},\n",
       " {'job_title': 'Computer Vision Engineer',\n",
       "  'job_skills': ['Python', 'OpenCV', 'Deep Learning', 'Image Processing'],\n",
       "  'remote': True},\n",
       " {'job_title': 'Cloud Data Engineer',\n",
       "  'job_skills': ['AWS', 'Python', 'Data Lakes', 'Spark'],\n",
       "  'remote': True}]"
      ]
     },
     "execution_count": 21,
     "metadata": {},
     "output_type": "execute_result"
    }
   ],
   "execution_count": 21
  },
  {
   "metadata": {
    "ExecuteTime": {
     "end_time": "2024-08-16T02:25:23.120287Z",
     "start_time": "2024-08-16T02:25:23.114994Z"
    }
   },
   "cell_type": "code",
   "source": "list(filter((lambda job: job[\"remote\"] and \"Python\" in job[\"job_skills\"]), job_data))\n",
   "id": "4e8691ee2dad8971",
   "outputs": [
    {
     "data": {
      "text/plain": [
       "[{'job_title': 'Data Scientist',\n",
       "  'job_skills': ['Python', 'R', 'SQL', 'Machine Learning'],\n",
       "  'remote': True},\n",
       " {'job_title': 'AI Research Scientist',\n",
       "  'job_skills': ['Python', 'PyTorch', 'Reinforcement Learning', 'NLP'],\n",
       "  'remote': True},\n",
       " {'job_title': 'Data Science Consultant',\n",
       "  'job_skills': ['Python', 'Business Analysis', 'Data Strategy', 'SQL'],\n",
       "  'remote': True},\n",
       " {'job_title': 'AI Product Manager',\n",
       "  'job_skills': ['Product Management', 'AI', 'Python', 'Data Analysis'],\n",
       "  'remote': True},\n",
       " {'job_title': 'Computer Vision Engineer',\n",
       "  'job_skills': ['Python', 'OpenCV', 'Deep Learning', 'Image Processing'],\n",
       "  'remote': True},\n",
       " {'job_title': 'Cloud Data Engineer',\n",
       "  'job_skills': ['AWS', 'Python', 'Data Lakes', 'Spark'],\n",
       "  'remote': True}]"
      ]
     },
     "execution_count": 22,
     "metadata": {},
     "output_type": "execute_result"
    }
   ],
   "execution_count": 22
  },
  {
   "metadata": {},
   "cell_type": "code",
   "outputs": [],
   "execution_count": null,
   "source": "",
   "id": "41e451d1ee808e09"
  }
 ],
 "metadata": {
  "kernelspec": {
   "display_name": "Python 3",
   "language": "python",
   "name": "python3"
  },
  "language_info": {
   "codemirror_mode": {
    "name": "ipython",
    "version": 2
   },
   "file_extension": ".py",
   "mimetype": "text/x-python",
   "name": "python",
   "nbconvert_exporter": "python",
   "pygments_lexer": "ipython2",
   "version": "2.7.6"
  }
 },
 "nbformat": 4,
 "nbformat_minor": 5
}
