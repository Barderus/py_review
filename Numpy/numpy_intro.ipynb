{
 "cells": [
  {
   "metadata": {},
   "cell_type": "markdown",
   "source": "Create a list of 1,000,00 salaries ranging from 50,000 to 150,000",
   "id": "2df0ba13738d59f1"
  },
  {
   "cell_type": "code",
   "id": "initial_id",
   "metadata": {
    "collapsed": true,
    "ExecuteTime": {
     "end_time": "2024-08-22T13:44:36.895721Z",
     "start_time": "2024-08-22T13:44:32.041104Z"
    }
   },
   "source": [
    "import random\n",
    "\n",
    "salary_list = [random.randint(50000, 100000) for _ in range(10_000_000)]\n",
    "salary_list"
   ],
   "outputs": [
    {
     "data": {
      "text/plain": [
       "[89814,\n",
       " 78162,\n",
       " 90502,\n",
       " 96602,\n",
       " 50555,\n",
       " 66988,\n",
       " 62033,\n",
       " 76456,\n",
       " 76352,\n",
       " 51357,\n",
       " 62015,\n",
       " 93755,\n",
       " 99167,\n",
       " 57684,\n",
       " 70618,\n",
       " 53118,\n",
       " 59654,\n",
       " 63190,\n",
       " 58774,\n",
       " 50132,\n",
       " 51848,\n",
       " 83379,\n",
       " 52371,\n",
       " 62034,\n",
       " 74412,\n",
       " 63988,\n",
       " 94034,\n",
       " 51597,\n",
       " 74450,\n",
       " 94595,\n",
       " 58148,\n",
       " 81253,\n",
       " 56212,\n",
       " 92372,\n",
       " 66624,\n",
       " 88587,\n",
       " 53262,\n",
       " 86386,\n",
       " 93516,\n",
       " 81489,\n",
       " 71191,\n",
       " 65019,\n",
       " 68791,\n",
       " 77866,\n",
       " 97686,\n",
       " 76932,\n",
       " 69357,\n",
       " 96783,\n",
       " 95186,\n",
       " 77780,\n",
       " 58588,\n",
       " 72755,\n",
       " 53897,\n",
       " 89845,\n",
       " 61038,\n",
       " 87248,\n",
       " 64498,\n",
       " 86269,\n",
       " 57848,\n",
       " 64749,\n",
       " 93472,\n",
       " 97686,\n",
       " 81468,\n",
       " 64175,\n",
       " 81810,\n",
       " 61544,\n",
       " 51140,\n",
       " 53558,\n",
       " 88367,\n",
       " 72750,\n",
       " 92412,\n",
       " 62772,\n",
       " 72614,\n",
       " 63928,\n",
       " 54349,\n",
       " 94670,\n",
       " 57546,\n",
       " 54534,\n",
       " 59286,\n",
       " 87472,\n",
       " 78883,\n",
       " 54878,\n",
       " 56655,\n",
       " 82150,\n",
       " 73767,\n",
       " 92043,\n",
       " 75535,\n",
       " 91920,\n",
       " 67986,\n",
       " 82811,\n",
       " 86533,\n",
       " 85029,\n",
       " 59061,\n",
       " 68971,\n",
       " 95242,\n",
       " 60179,\n",
       " 68731,\n",
       " 86523,\n",
       " 69898,\n",
       " 84892,\n",
       " 78151,\n",
       " 54381,\n",
       " 82071,\n",
       " 98249,\n",
       " 74685,\n",
       " 60697,\n",
       " 52968,\n",
       " 64283,\n",
       " 83030,\n",
       " 97784,\n",
       " 65670,\n",
       " 93475,\n",
       " 84061,\n",
       " 77445,\n",
       " 91548,\n",
       " 52023,\n",
       " 89126,\n",
       " 50014,\n",
       " 95367,\n",
       " 65721,\n",
       " 97378,\n",
       " 60226,\n",
       " 91040,\n",
       " 71677,\n",
       " 74136,\n",
       " 54078,\n",
       " 99571,\n",
       " 60894,\n",
       " 71016,\n",
       " 95512,\n",
       " 87220,\n",
       " 76871,\n",
       " 71873,\n",
       " 94785,\n",
       " 79666,\n",
       " 53697,\n",
       " 96166,\n",
       " 53382,\n",
       " 66814,\n",
       " 51636,\n",
       " 78765,\n",
       " 86343,\n",
       " 64032,\n",
       " 95526,\n",
       " 82723,\n",
       " 74683,\n",
       " 75502,\n",
       " 51066,\n",
       " 81458,\n",
       " 82371,\n",
       " 65734,\n",
       " 75021,\n",
       " 98877,\n",
       " 56651,\n",
       " 63566,\n",
       " 96794,\n",
       " 99248,\n",
       " 98029,\n",
       " 97585,\n",
       " 69852,\n",
       " 55258,\n",
       " 88962,\n",
       " 88879,\n",
       " 60287,\n",
       " 66107,\n",
       " 80135,\n",
       " 83317,\n",
       " 55318,\n",
       " 66726,\n",
       " 98097,\n",
       " 52442,\n",
       " 85209,\n",
       " 54741,\n",
       " 76617,\n",
       " 58857,\n",
       " 82942,\n",
       " 76029,\n",
       " 89269,\n",
       " 78099,\n",
       " 61082,\n",
       " 51528,\n",
       " 94681,\n",
       " 92478,\n",
       " 68433,\n",
       " 82707,\n",
       " 79768,\n",
       " 99784,\n",
       " 74713,\n",
       " 95727,\n",
       " 61606,\n",
       " 95087,\n",
       " 74705,\n",
       " 69620,\n",
       " 53583,\n",
       " 69217,\n",
       " 52462,\n",
       " 58033,\n",
       " 80529,\n",
       " 86802,\n",
       " 71360,\n",
       " 74839,\n",
       " 62488,\n",
       " 88550,\n",
       " 80848,\n",
       " 94536,\n",
       " 99345,\n",
       " 51319,\n",
       " 98615,\n",
       " 59272,\n",
       " 72696,\n",
       " 65503,\n",
       " 72894,\n",
       " 67899,\n",
       " 76893,\n",
       " 78567,\n",
       " 99960,\n",
       " 96778,\n",
       " 72784,\n",
       " 63469,\n",
       " 52228,\n",
       " 99516,\n",
       " 57097,\n",
       " 80655,\n",
       " 70193,\n",
       " 86757,\n",
       " 55443,\n",
       " 83337,\n",
       " 85751,\n",
       " 50315,\n",
       " 97842,\n",
       " 68538,\n",
       " 69318,\n",
       " 80215,\n",
       " 58224,\n",
       " 79619,\n",
       " 82956,\n",
       " 72296,\n",
       " 99801,\n",
       " 94854,\n",
       " 85043,\n",
       " 95112,\n",
       " 68269,\n",
       " 90053,\n",
       " 50556,\n",
       " 76824,\n",
       " 96409,\n",
       " 79845,\n",
       " 97662,\n",
       " 66807,\n",
       " 60649,\n",
       " 83714,\n",
       " 50425,\n",
       " 85939,\n",
       " 78658,\n",
       " 91482,\n",
       " 86780,\n",
       " 86368,\n",
       " 74047,\n",
       " 76684,\n",
       " 98096,\n",
       " 51938,\n",
       " 71019,\n",
       " 79830,\n",
       " 92013,\n",
       " 78729,\n",
       " 86891,\n",
       " 68072,\n",
       " 96538,\n",
       " 61742,\n",
       " 69279,\n",
       " 53226,\n",
       " 75216,\n",
       " 68036,\n",
       " 92308,\n",
       " 56544,\n",
       " 85599,\n",
       " 80196,\n",
       " 69853,\n",
       " 60338,\n",
       " 57549,\n",
       " 87889,\n",
       " 78450,\n",
       " 70228,\n",
       " 83936,\n",
       " 88740,\n",
       " 83807,\n",
       " 52373,\n",
       " 57257,\n",
       " 93224,\n",
       " 62376,\n",
       " 52193,\n",
       " 61664,\n",
       " 78945,\n",
       " 69730,\n",
       " 90752,\n",
       " 98816,\n",
       " 78173,\n",
       " 58787,\n",
       " 64556,\n",
       " 92147,\n",
       " 55780,\n",
       " 99771,\n",
       " 85455,\n",
       " 98699,\n",
       " 51696,\n",
       " 92332,\n",
       " 60607,\n",
       " 82943,\n",
       " 85332,\n",
       " 58490,\n",
       " 55053,\n",
       " 59113,\n",
       " 92669,\n",
       " 52144,\n",
       " 91215,\n",
       " 93038,\n",
       " 51776,\n",
       " 80079,\n",
       " 68147,\n",
       " 90206,\n",
       " 65293,\n",
       " 89152,\n",
       " 81621,\n",
       " 98505,\n",
       " 95600,\n",
       " 60934,\n",
       " 59264,\n",
       " 70661,\n",
       " 94220,\n",
       " 94178,\n",
       " 84476,\n",
       " 50536,\n",
       " 78336,\n",
       " 94957,\n",
       " 56649,\n",
       " 78671,\n",
       " 53281,\n",
       " 78745,\n",
       " 82101,\n",
       " 74627,\n",
       " 93946,\n",
       " 71388,\n",
       " 88548,\n",
       " 91033,\n",
       " 61635,\n",
       " 97743,\n",
       " 98868,\n",
       " 50330,\n",
       " 60178,\n",
       " 87677,\n",
       " 91998,\n",
       " 89197,\n",
       " 69106,\n",
       " 85795,\n",
       " 85906,\n",
       " 59261,\n",
       " 62079,\n",
       " 81587,\n",
       " 89088,\n",
       " 57590,\n",
       " 71349,\n",
       " 93305,\n",
       " 53415,\n",
       " 53762,\n",
       " 98353,\n",
       " 98671,\n",
       " 85837,\n",
       " 89445,\n",
       " 87389,\n",
       " 94910,\n",
       " 87269,\n",
       " 85378,\n",
       " 86051,\n",
       " 67503,\n",
       " 93403,\n",
       " 63731,\n",
       " 95747,\n",
       " 51336,\n",
       " 94712,\n",
       " 92950,\n",
       " 74527,\n",
       " 88258,\n",
       " 60158,\n",
       " 78068,\n",
       " 68387,\n",
       " 80379,\n",
       " 86377,\n",
       " 69898,\n",
       " 93675,\n",
       " 69615,\n",
       " 70010,\n",
       " 58810,\n",
       " 53349,\n",
       " 86287,\n",
       " 50582,\n",
       " 85040,\n",
       " 59846,\n",
       " 77622,\n",
       " 56128,\n",
       " 66732,\n",
       " 91716,\n",
       " 53264,\n",
       " 66642,\n",
       " 92772,\n",
       " 52634,\n",
       " 87706,\n",
       " 75888,\n",
       " 67972,\n",
       " 61710,\n",
       " 74229,\n",
       " 67178,\n",
       " 58479,\n",
       " 68691,\n",
       " 78843,\n",
       " 57399,\n",
       " 64066,\n",
       " 60915,\n",
       " 98921,\n",
       " 80457,\n",
       " 82524,\n",
       " 81401,\n",
       " 61073,\n",
       " 50957,\n",
       " 82070,\n",
       " 66814,\n",
       " 75490,\n",
       " 62426,\n",
       " 70544,\n",
       " 74369,\n",
       " 88960,\n",
       " 64177,\n",
       " 79059,\n",
       " 55356,\n",
       " 67981,\n",
       " 80255,\n",
       " 59126,\n",
       " 60045,\n",
       " 65070,\n",
       " 83477,\n",
       " 97541,\n",
       " 90713,\n",
       " 86956,\n",
       " 50776,\n",
       " 59070,\n",
       " 65170,\n",
       " 74214,\n",
       " 75401,\n",
       " 55986,\n",
       " 92424,\n",
       " 55772,\n",
       " 93923,\n",
       " 63625,\n",
       " 71129,\n",
       " 68541,\n",
       " 91764,\n",
       " 51221,\n",
       " 71155,\n",
       " 75537,\n",
       " 98800,\n",
       " 94057,\n",
       " 99669,\n",
       " 57103,\n",
       " 81271,\n",
       " 87014,\n",
       " 77894,\n",
       " 58542,\n",
       " 77330,\n",
       " 56660,\n",
       " 61549,\n",
       " 94870,\n",
       " 69057,\n",
       " 96421,\n",
       " 99944,\n",
       " 75008,\n",
       " 83002,\n",
       " 72954,\n",
       " 92118,\n",
       " 73980,\n",
       " 85048,\n",
       " 74828,\n",
       " 96224,\n",
       " 82220,\n",
       " 68772,\n",
       " 73720,\n",
       " 72668,\n",
       " 71405,\n",
       " 88618,\n",
       " 68466,\n",
       " 84662,\n",
       " 55106,\n",
       " 69723,\n",
       " 78323,\n",
       " 78664,\n",
       " 60302,\n",
       " 50730,\n",
       " 61409,\n",
       " 76509,\n",
       " 99843,\n",
       " 89465,\n",
       " 95899,\n",
       " 56191,\n",
       " 53542,\n",
       " 71333,\n",
       " 59648,\n",
       " 78119,\n",
       " 66487,\n",
       " 55291,\n",
       " 83546,\n",
       " 52804,\n",
       " 90296,\n",
       " 62481,\n",
       " 61655,\n",
       " 70980,\n",
       " 50858,\n",
       " 81129,\n",
       " 94762,\n",
       " 99012,\n",
       " 53436,\n",
       " 77757,\n",
       " 51676,\n",
       " 81474,\n",
       " 89875,\n",
       " 57338,\n",
       " 96499,\n",
       " 75007,\n",
       " 58702,\n",
       " 85535,\n",
       " 54887,\n",
       " 81551,\n",
       " 73087,\n",
       " 97323,\n",
       " 89842,\n",
       " 86416,\n",
       " 52744,\n",
       " 87038,\n",
       " 98546,\n",
       " 59394,\n",
       " 93841,\n",
       " 80825,\n",
       " 51910,\n",
       " 84402,\n",
       " 76468,\n",
       " 92577,\n",
       " 76040,\n",
       " 63134,\n",
       " 75984,\n",
       " 83531,\n",
       " 61412,\n",
       " 64030,\n",
       " 88748,\n",
       " 63442,\n",
       " 87363,\n",
       " 77789,\n",
       " 60770,\n",
       " 64536,\n",
       " 95901,\n",
       " 53938,\n",
       " 94521,\n",
       " 96928,\n",
       " 78198,\n",
       " 74738,\n",
       " 62603,\n",
       " 74448,\n",
       " 96484,\n",
       " 86354,\n",
       " 98138,\n",
       " 91432,\n",
       " 82441,\n",
       " 51168,\n",
       " 62631,\n",
       " 84283,\n",
       " 89586,\n",
       " 57033,\n",
       " 58020,\n",
       " 94417,\n",
       " 93196,\n",
       " 98864,\n",
       " 56971,\n",
       " 68245,\n",
       " 79442,\n",
       " 84022,\n",
       " 92969,\n",
       " 65757,\n",
       " 90661,\n",
       " 84845,\n",
       " 52516,\n",
       " 57993,\n",
       " 70160,\n",
       " 87190,\n",
       " 75452,\n",
       " 91032,\n",
       " 79113,\n",
       " 55259,\n",
       " 69442,\n",
       " 63343,\n",
       " 85428,\n",
       " 51770,\n",
       " 52342,\n",
       " 88606,\n",
       " 69756,\n",
       " 73374,\n",
       " 57062,\n",
       " 90301,\n",
       " 52314,\n",
       " 90334,\n",
       " 68421,\n",
       " 93309,\n",
       " 58215,\n",
       " 72582,\n",
       " 56482,\n",
       " 64775,\n",
       " 79342,\n",
       " 99562,\n",
       " 52943,\n",
       " 57891,\n",
       " 97861,\n",
       " 95202,\n",
       " 90790,\n",
       " 53882,\n",
       " 70697,\n",
       " 86931,\n",
       " 60216,\n",
       " 68546,\n",
       " 97257,\n",
       " 83339,\n",
       " 87727,\n",
       " 77801,\n",
       " 88413,\n",
       " 60177,\n",
       " 62100,\n",
       " 80978,\n",
       " 98396,\n",
       " 72555,\n",
       " 81069,\n",
       " 55312,\n",
       " 79422,\n",
       " 82202,\n",
       " 85271,\n",
       " 77329,\n",
       " 56110,\n",
       " 99071,\n",
       " 76857,\n",
       " 63942,\n",
       " 78516,\n",
       " 64442,\n",
       " 89911,\n",
       " 58276,\n",
       " 55091,\n",
       " 98074,\n",
       " 91803,\n",
       " 92572,\n",
       " 86013,\n",
       " 81378,\n",
       " 99254,\n",
       " 62721,\n",
       " 58717,\n",
       " 56879,\n",
       " 72395,\n",
       " 50818,\n",
       " 76278,\n",
       " 88501,\n",
       " 61472,\n",
       " 65313,\n",
       " 89172,\n",
       " 56523,\n",
       " 77317,\n",
       " 56263,\n",
       " 53715,\n",
       " 67058,\n",
       " 67189,\n",
       " 98853,\n",
       " 62529,\n",
       " 50375,\n",
       " 50284,\n",
       " 61469,\n",
       " 91495,\n",
       " 90187,\n",
       " 66373,\n",
       " 63916,\n",
       " 94874,\n",
       " 71364,\n",
       " 73085,\n",
       " 51492,\n",
       " 80851,\n",
       " 81080,\n",
       " 67048,\n",
       " 60884,\n",
       " 50668,\n",
       " 69489,\n",
       " 86257,\n",
       " 91283,\n",
       " 50758,\n",
       " 81971,\n",
       " 61041,\n",
       " 97874,\n",
       " 82324,\n",
       " 51550,\n",
       " 89925,\n",
       " 92013,\n",
       " 89336,\n",
       " 60794,\n",
       " 61837,\n",
       " 63766,\n",
       " 59520,\n",
       " 50236,\n",
       " 75699,\n",
       " 51955,\n",
       " 58200,\n",
       " 88194,\n",
       " 84793,\n",
       " 71783,\n",
       " 84037,\n",
       " 58363,\n",
       " 61286,\n",
       " 66347,\n",
       " 76526,\n",
       " 71452,\n",
       " 87650,\n",
       " 92933,\n",
       " 51355,\n",
       " 71531,\n",
       " 94153,\n",
       " 94104,\n",
       " 87886,\n",
       " 63783,\n",
       " 88966,\n",
       " 63376,\n",
       " 99512,\n",
       " 62365,\n",
       " 95145,\n",
       " 71140,\n",
       " 66939,\n",
       " 86131,\n",
       " 90507,\n",
       " 86783,\n",
       " 65101,\n",
       " 51580,\n",
       " 59904,\n",
       " 53023,\n",
       " 94530,\n",
       " 77211,\n",
       " 72509,\n",
       " 94299,\n",
       " 63633,\n",
       " 67034,\n",
       " 77559,\n",
       " 95325,\n",
       " 94109,\n",
       " 74430,\n",
       " 57720,\n",
       " 66157,\n",
       " 68927,\n",
       " 62405,\n",
       " 96456,\n",
       " 60233,\n",
       " 74949,\n",
       " 63401,\n",
       " 65403,\n",
       " 59920,\n",
       " 88466,\n",
       " 69781,\n",
       " 99729,\n",
       " 73123,\n",
       " 71855,\n",
       " 71320,\n",
       " 85722,\n",
       " 62610,\n",
       " 67675,\n",
       " 82099,\n",
       " 91844,\n",
       " 65567,\n",
       " 83700,\n",
       " 57110,\n",
       " 76529,\n",
       " 52872,\n",
       " 86425,\n",
       " 80774,\n",
       " 77309,\n",
       " 65111,\n",
       " 53380,\n",
       " 85659,\n",
       " 51609,\n",
       " 94386,\n",
       " 75841,\n",
       " 80878,\n",
       " 65414,\n",
       " 69020,\n",
       " 53733,\n",
       " 73631,\n",
       " 90861,\n",
       " 65894,\n",
       " 63795,\n",
       " 51916,\n",
       " 66435,\n",
       " 54521,\n",
       " 67992,\n",
       " 83570,\n",
       " 89619,\n",
       " 77552,\n",
       " 57933,\n",
       " 69530,\n",
       " 52032,\n",
       " 94399,\n",
       " 67910,\n",
       " 59420,\n",
       " 90494,\n",
       " 62541,\n",
       " 51808,\n",
       " 81377,\n",
       " 71752,\n",
       " 86327,\n",
       " 74109,\n",
       " 51179,\n",
       " 98799,\n",
       " 65684,\n",
       " 70632,\n",
       " 83589,\n",
       " 87650,\n",
       " 66322,\n",
       " 71243,\n",
       " 76788,\n",
       " 63462,\n",
       " 95296,\n",
       " 65705,\n",
       " 69735,\n",
       " 79081,\n",
       " 70470,\n",
       " 90792,\n",
       " 74340,\n",
       " 96035,\n",
       " 79224,\n",
       " 56007,\n",
       " 74780,\n",
       " 97455,\n",
       " 80461,\n",
       " 65732,\n",
       " 50922,\n",
       " 85966,\n",
       " 75174,\n",
       " 97604,\n",
       " 82892,\n",
       " 51103,\n",
       " 98601,\n",
       " 88882,\n",
       " 96876,\n",
       " 67249,\n",
       " 50867,\n",
       " 96032,\n",
       " 79838,\n",
       " 68077,\n",
       " 75722,\n",
       " 87913,\n",
       " 75049,\n",
       " 95505,\n",
       " 53011,\n",
       " 69941,\n",
       " 60285,\n",
       " 80093,\n",
       " 69563,\n",
       " 75552,\n",
       " 59630,\n",
       " 81231,\n",
       " 86100,\n",
       " 77160,\n",
       " 85761,\n",
       " 84500,\n",
       " 79585,\n",
       " 68459,\n",
       " 83546,\n",
       " 95438,\n",
       " 73157,\n",
       " 59577,\n",
       " 64202,\n",
       " 90403,\n",
       " 58139,\n",
       " 76634,\n",
       " 71505,\n",
       " 90128,\n",
       " 61851,\n",
       " 90577,\n",
       " 56284,\n",
       " 70195,\n",
       " 86458,\n",
       " 56467,\n",
       " 89973,\n",
       " 53906,\n",
       " 72943,\n",
       " 62864,\n",
       " 88220,\n",
       " 57644,\n",
       " 93061,\n",
       " 68008,\n",
       " 68646,\n",
       " 56750,\n",
       " 84094,\n",
       " 79069,\n",
       " 76014,\n",
       " 55301,\n",
       " 55963,\n",
       " 70105,\n",
       " 78403,\n",
       " 95886,\n",
       " 98657,\n",
       " 81848,\n",
       " 91124,\n",
       " 97415,\n",
       " 67500,\n",
       " 64251,\n",
       " 99343,\n",
       " 82342,\n",
       " 89133,\n",
       " 82111,\n",
       " 82974,\n",
       " 58483,\n",
       " 95814,\n",
       " 62302,\n",
       " 93083,\n",
       " 85473,\n",
       " 95729,\n",
       " 96765,\n",
       " 67366,\n",
       " 59313,\n",
       " 96722,\n",
       " 92913,\n",
       " 81736,\n",
       " 72249,\n",
       " 92732,\n",
       " 76170,\n",
       " 80856,\n",
       " 72661,\n",
       " 59807,\n",
       " 69039,\n",
       " 77799,\n",
       " 62422,\n",
       " 97695,\n",
       " 66244,\n",
       " 62422,\n",
       " 78171,\n",
       " 78343,\n",
       " 85510,\n",
       " 84995,\n",
       " 57176,\n",
       " 84504,\n",
       " 75733,\n",
       " 68391,\n",
       " 86602,\n",
       " 60969,\n",
       " 76635,\n",
       " 63549,\n",
       " 90393,\n",
       " 80136,\n",
       " 90059,\n",
       " 67138,\n",
       " 98705,\n",
       " 92125,\n",
       " 57748,\n",
       " 51467,\n",
       " 76172,\n",
       " 55163,\n",
       " 56278,\n",
       " 69355,\n",
       " 84910,\n",
       " 92020,\n",
       " 65803,\n",
       " 93506,\n",
       " 58945,\n",
       " 83716,\n",
       " 89844,\n",
       " 71034,\n",
       " 89258,\n",
       " 98207,\n",
       " 65100,\n",
       " 81483,\n",
       " 87582,\n",
       " 61744,\n",
       " 80467,\n",
       " 54349,\n",
       " 86292,\n",
       " 95230,\n",
       " 71559,\n",
       " 63056,\n",
       " 83953,\n",
       " 81536,\n",
       " 97716,\n",
       " 76856,\n",
       " 99918,\n",
       " 74370,\n",
       " 92424,\n",
       " 84556,\n",
       " 68672,\n",
       " 62151,\n",
       " 85721,\n",
       " 60393,\n",
       " 78999,\n",
       " 62657,\n",
       " 74915,\n",
       " 89659,\n",
       " 73147,\n",
       " 56867,\n",
       " 65702,\n",
       " ...]"
      ]
     },
     "execution_count": 2,
     "metadata": {},
     "output_type": "execute_result"
    }
   ],
   "execution_count": 2
  },
  {
   "metadata": {
    "ExecuteTime": {
     "end_time": "2024-08-22T13:44:38.954121Z",
     "start_time": "2024-08-22T13:44:36.921891Z"
    }
   },
   "cell_type": "code",
   "source": [
    "import statistics\n",
    "statistics.mean(salary_list)"
   ],
   "id": "4d7258933b1b6c96",
   "outputs": [
    {
     "data": {
      "text/plain": [
       "74993.9533102"
      ]
     },
     "execution_count": 3,
     "metadata": {},
     "output_type": "execute_result"
    }
   ],
   "execution_count": 3
  },
  {
   "metadata": {
    "ExecuteTime": {
     "end_time": "2024-08-22T13:44:40.127818Z",
     "start_time": "2024-08-22T13:44:39.076451Z"
    }
   },
   "cell_type": "code",
   "source": [
    "import numpy as np\n",
    "np.mean(salary_list)"
   ],
   "id": "c26612198afa2aba",
   "outputs": [
    {
     "data": {
      "text/plain": [
       "74993.9533102"
      ]
     },
     "execution_count": 4,
     "metadata": {},
     "output_type": "execute_result"
    }
   ],
   "execution_count": 4
  },
  {
   "metadata": {
    "ExecuteTime": {
     "end_time": "2024-08-22T13:44:40.162815Z",
     "start_time": "2024-08-22T13:44:40.157741Z"
    }
   },
   "cell_type": "code",
   "source": [
    "my_array = np.array([1, 2, 3, 4, 5])\n",
    "my_array"
   ],
   "id": "da9d014c608dd709",
   "outputs": [
    {
     "data": {
      "text/plain": [
       "array([1, 2, 3, 4, 5])"
      ]
     },
     "execution_count": 5,
     "metadata": {},
     "output_type": "execute_result"
    }
   ],
   "execution_count": 5
  },
  {
   "metadata": {
    "ExecuteTime": {
     "end_time": "2024-08-22T13:44:40.209725Z",
     "start_time": "2024-08-22T13:44:40.204956Z"
    }
   },
   "cell_type": "code",
   "source": "my_array.mean()",
   "id": "3a6449b74e816814",
   "outputs": [
    {
     "data": {
      "text/plain": [
       "3.0"
      ]
     },
     "execution_count": 6,
     "metadata": {},
     "output_type": "execute_result"
    }
   ],
   "execution_count": 6
  },
  {
   "metadata": {
    "ExecuteTime": {
     "end_time": "2024-08-22T13:44:40.262957Z",
     "start_time": "2024-08-22T13:44:40.259079Z"
    }
   },
   "cell_type": "code",
   "source": [
    "job_titles = np.array([\"Data Analyst\", \"Data Scientist\", \"Data Engineer\", \"Machine Learning Engineer\", \"AI Engineer\"])\n",
    "\n",
    "base_salaries = np.array([60000, 80000, 75000, 90000, np.nan])\n",
    "\n",
    "bonus_rate = np.array([.05, .1, .08, .12, np.nan])"
   ],
   "id": "1bb1a274130e93cd",
   "outputs": [],
   "execution_count": 7
  },
  {
   "metadata": {
    "ExecuteTime": {
     "end_time": "2024-08-22T13:44:40.292993Z",
     "start_time": "2024-08-22T13:44:40.287116Z"
    }
   },
   "cell_type": "code",
   "source": [
    "total_salaries = base_salaries * (1 + bonus_rate)\n",
    "total_salaries"
   ],
   "id": "e6216b09fbf8e00",
   "outputs": [
    {
     "data": {
      "text/plain": [
       "array([ 63000.,  88000.,  81000., 100800.,     nan])"
      ]
     },
     "execution_count": 8,
     "metadata": {},
     "output_type": "execute_result"
    }
   ],
   "execution_count": 8
  },
  {
   "metadata": {
    "ExecuteTime": {
     "end_time": "2024-08-22T13:44:40.345232Z",
     "start_time": "2024-08-22T13:44:40.339714Z"
    }
   },
   "cell_type": "code",
   "source": "np.nanmean(total_salaries)",
   "id": "b5311d7d7e9d92ea",
   "outputs": [
    {
     "data": {
      "text/plain": [
       "83200.0"
      ]
     },
     "execution_count": 9,
     "metadata": {},
     "output_type": "execute_result"
    }
   ],
   "execution_count": 9
  },
  {
   "metadata": {
    "ExecuteTime": {
     "end_time": "2024-08-22T13:44:40.390929Z",
     "start_time": "2024-08-22T13:44:40.385863Z"
    }
   },
   "cell_type": "code",
   "source": [
    "# An array representing the number of years fo experience required for three different data science job listing\n",
    "years_of_experience = np.array([1,2,3,4,5])\n",
    "\n",
    "#Adding 1 year to the experience requirements for each job posting\n",
    "years_of_experience_plus_one = years_of_experience + 1\n",
    "years_of_experience_plus_one"
   ],
   "id": "82377ca9d7bfff2e",
   "outputs": [
    {
     "data": {
      "text/plain": [
       "array([2, 3, 4, 5, 6])"
      ]
     },
     "execution_count": 10,
     "metadata": {},
     "output_type": "execute_result"
    }
   ],
   "execution_count": 10
  },
  {
   "metadata": {
    "ExecuteTime": {
     "end_time": "2024-08-22T13:44:40.450366Z",
     "start_time": "2024-08-22T13:44:40.444703Z"
    }
   },
   "cell_type": "code",
   "source": [
    "# Subtracting 1 year of experience of each job listing\n",
    "years_of_experience_minus_one = years_of_experience - 1\n",
    "years_of_experience_minus_one"
   ],
   "id": "4ca87604257842c9",
   "outputs": [
    {
     "data": {
      "text/plain": [
       "array([0, 1, 2, 3, 4])"
      ]
     },
     "execution_count": 11,
     "metadata": {},
     "output_type": "execute_result"
    }
   ],
   "execution_count": 11
  },
  {
   "metadata": {
    "ExecuteTime": {
     "end_time": "2024-08-22T13:44:40.492779Z",
     "start_time": "2024-08-22T13:44:40.488184Z"
    }
   },
   "cell_type": "code",
   "source": [
    "# Doubling the experience for each job listing\n",
    "years_of_experience_double = years_of_experience * 2\n",
    "years_of_experience_double"
   ],
   "id": "c2600db4dfd95ec9",
   "outputs": [
    {
     "data": {
      "text/plain": [
       "array([ 2,  4,  6,  8, 10])"
      ]
     },
     "execution_count": 12,
     "metadata": {},
     "output_type": "execute_result"
    }
   ],
   "execution_count": 12
  },
  {
   "metadata": {
    "ExecuteTime": {
     "end_time": "2024-08-22T13:44:40.549006Z",
     "start_time": "2024-08-22T13:44:40.544724Z"
    }
   },
   "cell_type": "code",
   "source": [
    "# Slicing\n",
    "years_of_experience[1:3]"
   ],
   "id": "8f10e58f7bfd725a",
   "outputs": [
    {
     "data": {
      "text/plain": [
       "array([2, 3])"
      ]
     },
     "execution_count": 13,
     "metadata": {},
     "output_type": "execute_result"
    }
   ],
   "execution_count": 13
  },
  {
   "metadata": {
    "ExecuteTime": {
     "end_time": "2024-08-22T13:44:40.595987Z",
     "start_time": "2024-08-22T13:44:40.590098Z"
    }
   },
   "cell_type": "code",
   "source": [
    "more_than_two = years_of_experience[years_of_experience > 2]\n",
    "more_than_two"
   ],
   "id": "f95bb0b43e0a0245",
   "outputs": [
    {
     "data": {
      "text/plain": [
       "array([3, 4, 5])"
      ]
     },
     "execution_count": 14,
     "metadata": {},
     "output_type": "execute_result"
    }
   ],
   "execution_count": 14
  },
  {
   "metadata": {},
   "cell_type": "markdown",
   "source": "Statistics Operations with Numpy",
   "id": "5166ea6ed0eeb162"
  },
  {
   "metadata": {
    "ExecuteTime": {
     "end_time": "2024-08-22T13:44:41.077377Z",
     "start_time": "2024-08-22T13:44:40.649071Z"
    }
   },
   "cell_type": "code",
   "source": [
    "# Mean\n",
    "salary_array = np.array(salary_list)\n",
    "average_salary = np.mean(salary_array)\n",
    "average_salary"
   ],
   "id": "61b39bdc8269c263",
   "outputs": [
    {
     "data": {
      "text/plain": [
       "74993.9533102"
      ]
     },
     "execution_count": 15,
     "metadata": {},
     "output_type": "execute_result"
    }
   ],
   "execution_count": 15
  },
  {
   "metadata": {
    "ExecuteTime": {
     "end_time": "2024-08-22T13:44:41.225878Z",
     "start_time": "2024-08-22T13:44:41.107124Z"
    }
   },
   "cell_type": "code",
   "source": [
    "# Median\n",
    "median_salary = np.median(salary_array)\n",
    "median_salary"
   ],
   "id": "5a8b96f9f127c189",
   "outputs": [
    {
     "data": {
      "text/plain": [
       "74996.0"
      ]
     },
     "execution_count": 16,
     "metadata": {},
     "output_type": "execute_result"
    }
   ],
   "execution_count": 16
  },
  {
   "metadata": {
    "ExecuteTime": {
     "end_time": "2024-08-22T13:44:41.311794Z",
     "start_time": "2024-08-22T13:44:41.240163Z"
    }
   },
   "cell_type": "code",
   "source": [
    "# Calculate the standard deviation of the array\n",
    "salary_std = np.std(salary_array, ddof=1)\n",
    "salary_std"
   ],
   "id": "b51f76384f4fd95e",
   "outputs": [
    {
     "data": {
      "text/plain": [
       "14437.293057943012"
      ]
     },
     "execution_count": 17,
     "metadata": {},
     "output_type": "execute_result"
    }
   ],
   "execution_count": 17
  },
  {
   "metadata": {
    "ExecuteTime": {
     "end_time": "2024-08-22T13:44:41.760494Z",
     "start_time": "2024-08-22T13:44:41.342849Z"
    }
   },
   "cell_type": "code",
   "source": [
    "#Minimum element in the salary_array\n",
    "minimum_salary = np.min(salary_list)\n",
    "minimum_salary"
   ],
   "id": "73513c4a51a4aac8",
   "outputs": [
    {
     "data": {
      "text/plain": [
       "50000"
      ]
     },
     "execution_count": 18,
     "metadata": {},
     "output_type": "execute_result"
    }
   ],
   "execution_count": 18
  },
  {
   "metadata": {
    "ExecuteTime": {
     "end_time": "2024-08-22T13:44:41.788066Z",
     "start_time": "2024-08-22T13:44:41.785023Z"
    }
   },
   "cell_type": "code",
   "source": "# Maximum element in the salary_array",
   "id": "64aca6c1ecd9ce50",
   "outputs": [],
   "execution_count": 19
  },
  {
   "metadata": {
    "ExecuteTime": {
     "end_time": "2024-08-22T13:44:41.813066Z",
     "start_time": "2024-08-22T13:44:41.804100Z"
    }
   },
   "cell_type": "code",
   "source": [
    "max_salary = np.max(salary_array)\n",
    "max_salary"
   ],
   "id": "90fbf2ed848a91e0",
   "outputs": [
    {
     "data": {
      "text/plain": [
       "100000"
      ]
     },
     "execution_count": 20,
     "metadata": {},
     "output_type": "execute_result"
    }
   ],
   "execution_count": 20
  },
  {
   "metadata": {},
   "cell_type": "markdown",
   "source": "More practice of Numpy from \"Intro to Python for Computer Science and Data Science\" by Paul Deitel and Harvey Deitel",
   "id": "2295116ba53e8fac"
  },
  {
   "metadata": {
    "ExecuteTime": {
     "end_time": "2024-08-22T13:44:41.916329Z",
     "start_time": "2024-08-22T13:44:41.910616Z"
    }
   },
   "cell_type": "code",
   "source": [
    "# Iterating through a multidimensional array's element\n",
    "integers = np.array([[1,2,3], [4,5,6], [7, 8, 9]])\n",
    "\n",
    "for row in integers:\n",
    "    for column in row:\n",
    "        print(column, end=\" \")\n",
    "        print()\n",
    "\n"
   ],
   "id": "2f9312e53429bb0",
   "outputs": [
    {
     "name": "stdout",
     "output_type": "stream",
     "text": [
      "1 \n",
      "2 \n",
      "3 \n",
      "4 \n",
      "5 \n",
      "6 \n",
      "7 \n",
      "8 \n",
      "9 \n"
     ]
    }
   ],
   "execution_count": 21
  },
  {
   "metadata": {
    "ExecuteTime": {
     "end_time": "2024-08-22T13:45:30.971517Z",
     "start_time": "2024-08-22T13:45:30.967043Z"
    }
   },
   "cell_type": "code",
   "source": [
    "# Iterating through a multidimensional array as if it was one dimension using flat attribute\n",
    "for i in integers.flat:\n",
    "    print(i, end=\" \")"
   ],
   "id": "162f425efa4300c7",
   "outputs": [
    {
     "name": "stdout",
     "output_type": "stream",
     "text": [
      "1 2 3 4 5 6 7 8 9 "
     ]
    }
   ],
   "execution_count": 22
  },
  {
   "metadata": {
    "ExecuteTime": {
     "end_time": "2024-08-22T13:47:43.503177Z",
     "start_time": "2024-08-22T13:47:43.497663Z"
    }
   },
   "cell_type": "code",
   "source": [
    "# Creating arrays from ranges\n",
    "arr1 = np.arange(10)\n",
    "print(arr1)\n",
    "\n",
    "arr2 = np.arange(5,9)\n",
    "print(arr2)\n",
    "\n",
    "arr3 = np.arange(10, 0, -2)\n",
    "print(arr3)"
   ],
   "id": "2b2b10aeef3e364d",
   "outputs": [
    {
     "name": "stdout",
     "output_type": "stream",
     "text": [
      "[0 1 2 3 4 5 6 7 8 9]\n",
      "[5 6 7 8]\n",
      "[10  8  6  4  2]\n"
     ]
    }
   ],
   "execution_count": 25
  },
  {
   "metadata": {
    "ExecuteTime": {
     "end_time": "2024-08-22T13:48:47.758449Z",
     "start_time": "2024-08-22T13:48:47.752456Z"
    }
   },
   "cell_type": "code",
   "source": [
    "# Creating floating-point ranges using linspace\n",
    "float_arr = np.linspace(0.0, 1.0, num=5)\n",
    "print(float_arr)"
   ],
   "id": "205700fb8699db83",
   "outputs": [
    {
     "name": "stdout",
     "output_type": "stream",
     "text": [
      "[0.   0.25 0.5  0.75 1.  ]\n"
     ]
    }
   ],
   "execution_count": 26
  },
  {
   "metadata": {
    "ExecuteTime": {
     "end_time": "2024-08-22T13:49:47.022485Z",
     "start_time": "2024-08-22T13:49:47.016979Z"
    }
   },
   "cell_type": "code",
   "source": [
    "# Reshaping an array\n",
    "arr_4d = np.arange(1,21).reshape (4,5) # Reshaping in a 4 row, 5 column array\n",
    "print(arr_4d)"
   ],
   "id": "34f1c60d69ece09a",
   "outputs": [
    {
     "name": "stdout",
     "output_type": "stream",
     "text": [
      "[[ 1  2  3  4  5]\n",
      " [ 6  7  8  9 10]\n",
      " [11 12 13 14 15]\n",
      " [16 17 18 19 20]]\n"
     ]
    }
   ],
   "execution_count": 28
  },
  {
   "metadata": {},
   "cell_type": "markdown",
   "source": [
    "Shallow copies vs Deep copies\n",
    "- Shallow copies creates a new object with a pointer to the original object. By modifying the shallow copy, you would also change the original object.\n",
    "- Deep copies create a new object that is different from the original object. Any changes or modification done to the copy does not affect the original copy"
   ],
   "id": "7073c3c043909c90"
  },
  {
   "metadata": {
    "ExecuteTime": {
     "end_time": "2024-08-22T14:00:56.248992Z",
     "start_time": "2024-08-22T14:00:56.243254Z"
    }
   },
   "cell_type": "code",
   "source": [
    "# Examples of shallow copies\n",
    "numbers = np.arange(1,6)\n",
    "print(numbers)\n",
    "\n",
    "# View method return a new array object with a view of the original array\n",
    "numbers2 = numbers.view()\n",
    "print(numbers2)\n",
    "\n",
    "# Checking their IDs. They different objects, so they are supposed to have different IDs\n",
    "print(id(numbers))\n",
    "print(id(numbers2))\n",
    "\n",
    "# Checking what happens if you modify the objects inside each array \n",
    "numbers[1] *= 10\n",
    "print(numbers)\n",
    "print(numbers2)\n",
    "\n",
    "numbers2[3] -= 10\n",
    "print(numbers)\n",
    "print(numbers2)\n",
    "# By modifying any object within either array, it changes the other array as well"
   ],
   "id": "aa3a774195fcd353",
   "outputs": [
    {
     "name": "stdout",
     "output_type": "stream",
     "text": [
      "[1 2 3 4 5]\n",
      "[1 2 3 4 5]\n",
      "2465839532144\n",
      "2465839542896\n",
      "[ 1 20  3  4  5]\n",
      "[ 1 20  3  4  5]\n",
      "[ 1 20  3 -6  5]\n",
      "[ 1 20  3 -6  5]\n"
     ]
    }
   ],
   "execution_count": 32
  },
  {
   "metadata": {
    "ExecuteTime": {
     "end_time": "2024-08-22T14:04:40.142985Z",
     "start_time": "2024-08-22T14:04:40.137174Z"
    }
   },
   "cell_type": "code",
   "source": [
    "# Examples of deep copies using method copy()\n",
    "numbers = np.arange(1,6)\n",
    "numbers2 = numbers.copy()\n",
    "\n",
    "print(numbers)\n",
    "print(numbers2)\n",
    "\n",
    "# Checking their IDs\n",
    "print(id(numbers))\n",
    "print(id(numbers2))\n",
    "\n",
    "# Checking what happens if you modify one of the arrays\n",
    "numbers[3] *= 5\n",
    "print(numbers)\n",
    "print(numbers2)\n",
    "print()\n",
    "\n",
    "numbers2[1] += 10\n",
    "print(numbers)\n",
    "print(numbers2)"
   ],
   "id": "f9ac8baa87cf28ea",
   "outputs": [
    {
     "name": "stdout",
     "output_type": "stream",
     "text": [
      "[1 2 3 4 5]\n",
      "[1 2 3 4 5]\n",
      "2465839542800\n",
      "2465839541744\n",
      "[ 1  2  3 20  5]\n",
      "[1 2 3 4 5]\n",
      "\n",
      "[ 1  2  3 20  5]\n",
      "[ 1 12  3  4  5]\n"
     ]
    }
   ],
   "execution_count": 39
  },
  {
   "metadata": {},
   "cell_type": "code",
   "outputs": [],
   "execution_count": null,
   "source": "",
   "id": "b67f025c2a4491fd"
  }
 ],
 "metadata": {
  "kernelspec": {
   "display_name": "Python 3",
   "language": "python",
   "name": "python3"
  },
  "language_info": {
   "codemirror_mode": {
    "name": "ipython",
    "version": 2
   },
   "file_extension": ".py",
   "mimetype": "text/x-python",
   "name": "python",
   "nbconvert_exporter": "python",
   "pygments_lexer": "ipython2",
   "version": "2.7.6"
  }
 },
 "nbformat": 4,
 "nbformat_minor": 5
}
