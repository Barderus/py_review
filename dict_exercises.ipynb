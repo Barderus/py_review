{
 "cells": [
  {
   "metadata": {},
   "cell_type": "markdown",
   "source": [
    "# Elements exercise\n",
    "Create a dictionary to store this information, indexed by the symbol. Then write a function which allows the user to specify an element (via its symbol) and a temperature, and which reports whether the element is solid, liquid or gas at that point.\n"
   ],
   "id": "117c465100b054bc"
  },
  {
   "metadata": {},
   "cell_type": "markdown",
   "source": [
    "|  Element  | Symbol | Atomic Number | Melting Point (K) | Boiling Point (K) |\n",
    "|:---------:|:------:|:-------------:|:-----------------:|:-----------------:|\n",
    "| Hydrogen  |   H    |       1       |        14         |        20         |\n",
    "|  Helium   |   He   |       2       |         1         |         4         |\n",
    "|  Lithium  |   Li   |       3       |        453        |       1603        |\n",
    "| Beryllium |   Be   |       4       |       1560        |       2742        |\n",
    "|   Boron   |   B    |       5       |       2349        |       4200        |\n",
    "|  Carbon   |   C    |       6       |       3915        |       3915        |\n",
    "| Nitrogen  |   N    |       7       |        63         |        77         |\n",
    "|  Oxygen   |   O    |       8       |        54         |        90         |\n",
    "| Fluorine  |   F    |       9       |        53         |        85         |\n",
    "|   Neon    |   Ne   |      10       |        25         |        27         |\n"
   ],
   "id": "4b750c1f47d0250b"
  },
  {
   "metadata": {},
   "cell_type": "code",
   "source": [
    "elements_dict = {\n",
    "    \"H\":[\"Hydrogen\", 1, 14, 20], \n",
    "    \"He\":[\"Helium\", 2, 1, 4],\n",
    "    \"Li\":[\"Lithium\", 3, 453, 1603],\n",
    "    \"Be\":[\"Beryllium\", 4, 1560, 2742],\n",
    "    \"B\":[\"Boron\", 5, 2349, 4200],\n",
    "    \"C\":[\"Carbon\", 6, 3915, 3915],\n",
    "    \"N\":[\"Nitrogen\", 7, 63, 77],\n",
    "    \"O\":[\"Oxygen\", 8, 54, 90],\n",
    "    \"F\":[\"Fluorine\", 9, 53, 85],\n",
    "    \"Ne\":[\"Neon\", 10, 25, 27]\n",
    "}\n",
    "\n",
    "user_choice = input(\"Enter the element symbol you would like to see (From Hydrogen to Neon): \").upper()\n",
    "if user_choice in elements_dict:\n",
    "        details = elements_dict[user_choice]\n",
    "        print(f\"Element: {details[0]}\")\n",
    "        print(f\"Symbol: {user_choice}\")\n",
    "        print(f\"Melting Point (K): {details[2]}\")\n",
    "        print(f\"Boiling Point (K): {details[3]}\")\n",
    "else:\n",
    "    print(\"Sorry, you must enter a valid choice. A symbol from Hydrogen to Neon.\")"
   ],
   "id": "14a9c997834cee10",
   "outputs": [],
   "execution_count": null
  },
  {
   "metadata": {},
   "cell_type": "markdown",
   "source": [
    "# Mortgage Payment: \n",
    "Suppose you take out a 500,000 mortgage to buy a house. You make a repayment of $2,000 each month. However, each month the bank charges interest at a rate of 0.3% of the outstanding balance. How many months will it take you to pay off the debt? How much does it cost you?"
   ],
   "id": "57288656c4bca54b"
  },
  {
   "metadata": {
    "ExecuteTime": {
     "end_time": "2024-08-10T00:17:41.732924Z",
     "start_time": "2024-08-10T00:17:41.728169Z"
    }
   },
   "cell_type": "code",
   "source": [
    "mortgage = 500000\n",
    "payment = 2000\n",
    "interest_rate = 0.003\n",
    "months = 0\n",
    "payment_total = 0\n",
    "\n",
    "while mortgage > 0:\n",
    "    months +=1\n",
    "    mortgage -= payment\n",
    "    interest = mortgage * interest_rate\n",
    "    mortgage += interest\n",
    "    payment_total += payment\n",
    "print(f\"Number of months until paid off: {months} months.\")\n",
    "print(f\"Amount spent to pay off the mortgage: ${payment_total:,.2f}\")"
   ],
   "id": "69eba9d0d5374d91",
   "outputs": [
    {
     "name": "stdout",
     "output_type": "stream",
     "text": [
      "Number of months until paid off: 690 months.\n",
      "Amount spent to pay off the mortgage: $1,380,000.00\n"
     ]
    }
   ],
   "execution_count": 44
  },
  {
   "metadata": {},
   "cell_type": "markdown",
   "source": [
    "Different banks are offering different interest rates, with special introductory rates for the first two years of the mortgage:\n",
    "\n",
    "|     Bank Name     | Year 1 & 2 | Year 3 onwards | \n",
    "|:-----------------:|:----------:|:--------------:|\n",
    "|        BMO        |   2.3%     |       4.1%     |  \n",
    "|  Bank of America  |   0.1%     |       5%       |  \n",
    "|      US Bank      |   3.5%     |       3.8%     |    \n",
    "|    Wells Fargo    |   3.7%     |       3.7%     | \n",
    "\n",
    "Use a dictionary to store this information, and modify your function so that the user can specify which bank provides their mortgage. You can assume that the monthly interest rate is simply one-twelfth of these annual rates."
   ],
   "id": "40e0b30dded4b28c"
  },
  {
   "metadata": {
    "ExecuteTime": {
     "end_time": "2024-08-10T00:17:55.481302Z",
     "start_time": "2024-08-10T00:17:54.346361Z"
    }
   },
   "cell_type": "code",
   "source": [
    "bank_info = {\n",
    "    \"BMO\":[2.3, 4.1],\n",
    "    \"Bank of America\": [0.1, 5.0],\n",
    "    \"US Bank\": [3.5, 3.8],\n",
    "    \"Wells Fargo\": [3.7, 3.7]\n",
    "}   \n",
    "# Remember that only 1/12 of that is added to each payment\n",
    "mortgage = 500000\n",
    "payment = 2000\n",
    "months = 1\n",
    "payment_total = 0\n",
    "\n",
    "bank = \"\"\n",
    "\n",
    "while True:\n",
    "    # Prompt the user for input and convert it to an integer\n",
    "    try:\n",
    "        bank_choice = int(input(\"Which bank did you get your mortgage from? \\n1. BMO\\n2. Bank of America \\n3. US Bank \\n4. Wells Fargo\\n\"))\n",
    "        \n",
    "        if bank_choice < 1 or bank_choice > 4:\n",
    "            print(\"Wrong input. You must enter a value between 1 and 4.\")\n",
    "        else:\n",
    "            # Assign the correct bank based on the user's choice\n",
    "            if bank_choice == 1:\n",
    "                bank = \"BMO\"\n",
    "            elif bank_choice == 2:\n",
    "                bank = \"Bank of America\"\n",
    "            elif bank_choice == 3:\n",
    "                bank = \"US Bank\"\n",
    "            else:\n",
    "                bank = \"Wells Fargo\"\n",
    "            break  # Exit the loop once a valid choice is madeL\n",
    "    except ValueError:\n",
    "        print(\"Invalid input. Please enter a number between 1 and 4.\")\n",
    "\n",
    "print(f\"You selected bank: {bank}\")\n",
    "\n",
    "bank_interests = bank_info[bank]\n",
    "\n",
    "while mortgage > 0:\n",
    "    months +=1\n",
    "    mortgage -= payment\n",
    "    if months <= 12:\n",
    "        interest = mortgage * (bank_interests[0] / 1200)\n",
    "    else:\n",
    "        interest = mortgage * (bank_interests[1] / 1200)\n",
    "    mortgage += interest\n",
    "    payment_total += payment\n",
    "    \n",
    "    # Check if mortgage is paid off\n",
    "    if mortgage < 0:\n",
    "        mortgage = 0\n",
    "print(f\"Number of months until paid off: {months} months.\")\n",
    "print(f\"Amount spent to pay off the mortgage: ${payment_total:,.2f}\")"
   ],
   "id": "7521a5a62f38e2bf",
   "outputs": [
    {
     "name": "stdout",
     "output_type": "stream",
     "text": [
      "You selected bank: Wells Fargo\n",
      "Number of months until paid off: 477 months.\n",
      "Amount spent to pay off the mortgage: $952,000.00\n"
     ]
    }
   ],
   "execution_count": 45
  },
  {
   "metadata": {},
   "cell_type": "code",
   "outputs": [],
   "execution_count": null,
   "source": "",
   "id": "14d062cc12d75b8d"
  }
 ],
 "metadata": {
  "kernelspec": {
   "display_name": "Python 3",
   "language": "python",
   "name": "python3"
  },
  "language_info": {
   "codemirror_mode": {
    "name": "ipython",
    "version": 2
   },
   "file_extension": ".py",
   "mimetype": "text/x-python",
   "name": "python",
   "nbconvert_exporter": "python",
   "pygments_lexer": "ipython2",
   "version": "2.7.6"
  }
 },
 "nbformat": 4,
 "nbformat_minor": 5
}
