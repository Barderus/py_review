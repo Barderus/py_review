{
 "cells": [
  {
   "metadata": {},
   "cell_type": "markdown",
   "source": "Operators",
   "id": "1eeaa53c64a2f4a0"
  },
  {
   "metadata": {
    "ExecuteTime": {
     "end_time": "2024-08-13T15:54:38.830581Z",
     "start_time": "2024-08-13T15:54:38.817740Z"
    }
   },
   "cell_type": "code",
   "source": [
    "job_skills = [\"Python\", \"Java\", \"C++\", \"Javascript\"]\n",
    "\"python\" in job_skills"
   ],
   "id": "initial_id",
   "outputs": [
    {
     "data": {
      "text/plain": [
       "False"
      ]
     },
     "execution_count": 1,
     "metadata": {},
     "output_type": "execute_result"
    }
   ],
   "execution_count": 1
  },
  {
   "metadata": {
    "ExecuteTime": {
     "end_time": "2024-08-13T15:55:11.208098Z",
     "start_time": "2024-08-13T15:55:11.202944Z"
    }
   },
   "cell_type": "code",
   "source": "\"python\" not in job_skills",
   "id": "7d4ec677eaa739df",
   "outputs": [
    {
     "data": {
      "text/plain": [
       "True"
      ]
     },
     "execution_count": 2,
     "metadata": {},
     "output_type": "execute_result"
    }
   ],
   "execution_count": 2
  },
  {
   "metadata": {
    "ExecuteTime": {
     "end_time": "2024-08-13T15:55:46.271616Z",
     "start_time": "2024-08-13T15:55:46.265906Z"
    }
   },
   "cell_type": "code",
   "source": [
    "if \"SQL\" not in job_skills:\n",
    "    job_skills.append(\"SQL\")\n",
    "    \n",
    "job_skills"
   ],
   "id": "885a9d76312de51",
   "outputs": [
    {
     "data": {
      "text/plain": [
       "['Python', 'Java', 'C++', 'Javascript', 'SQL']"
      ]
     },
     "execution_count": 5,
     "metadata": {},
     "output_type": "execute_result"
    }
   ],
   "execution_count": 5
  }
 ],
 "metadata": {
  "kernelspec": {
   "display_name": "Python 3",
   "language": "python",
   "name": "python3"
  },
  "language_info": {
   "codemirror_mode": {
    "name": "ipython",
    "version": 2
   },
   "file_extension": ".py",
   "mimetype": "text/x-python",
   "name": "python",
   "nbconvert_exporter": "python",
   "pygments_lexer": "ipython2",
   "version": "2.7.6"
  }
 },
 "nbformat": 4,
 "nbformat_minor": 5
}
