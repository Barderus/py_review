{
 "cells": [
  {
   "cell_type": "code",
   "execution_count": null,
   "id": "initial_id",
   "metadata": {
    "collapsed": true
   },
   "source": [
    ""
   ],
   "outputs": []
  },
  {
   "metadata": {},
   "cell_type": "markdown",
   "source": "Tuples. It's immutable. You cannot add or remove items.",
   "id": "dc6970b8ebdf1212"
  },
  {
   "metadata": {
    "ExecuteTime": {
     "end_time": "2024-08-09T21:41:07.518866Z",
     "start_time": "2024-08-09T21:41:07.510885Z"
    }
   },
   "cell_type": "code",
   "source": "help(tuple)",
   "id": "b3a9bba5400ad4a4",
   "execution_count": 5,
   "outputs": []
  },
  {
   "metadata": {
    "ExecuteTime": {
     "end_time": "2024-08-09T21:39:41.532369Z",
     "start_time": "2024-08-09T21:39:41.526371Z"
    }
   },
   "cell_type": "code",
   "source": [
    "lukes_skill = (\"python\", \"sql\", \"statistics\", \"tableau\")\n",
    "lukes_skill"
   ],
   "id": "24f73c97ddc2609b",
   "execution_count": 2,
   "outputs": []
  },
  {
   "metadata": {
    "ExecuteTime": {
     "end_time": "2024-08-09T21:39:54.094888Z",
     "start_time": "2024-08-09T21:39:54.090161Z"
    }
   },
   "cell_type": "code",
   "source": "lukes_skill[0:2]",
   "id": "fea0357d702f139",
   "execution_count": 4,
   "outputs": []
  },
  {
   "metadata": {
    "ExecuteTime": {
     "end_time": "2024-08-09T21:42:16.186122Z",
     "start_time": "2024-08-09T21:42:16.182315Z"
    }
   },
   "cell_type": "code",
   "source": "new_skill = (\"excel\", \"power bi\")",
   "id": "5ac2006e0928b44e",
   "execution_count": 10,
   "outputs": []
  },
  {
   "metadata": {
    "ExecuteTime": {
     "end_time": "2024-08-09T21:42:18.406166Z",
     "start_time": "2024-08-09T21:42:18.401584Z"
    }
   },
   "cell_type": "code",
   "source": [
    "skills = lukes_skill + new_skill\n",
    "skills"
   ],
   "id": "eda86d8ea995362f",
   "execution_count": 11,
   "outputs": []
  },
  {
   "metadata": {},
   "cell_type": "code",
   "execution_count": null,
   "source": "",
   "id": "be8174943858ad1",
   "outputs": []
  }
 ],
 "metadata": {
  "kernelspec": {
   "display_name": "Python 3",
   "language": "python",
   "name": "python3"
  },
  "language_info": {
   "codemirror_mode": {
    "name": "ipython",
    "version": 2
   },
   "file_extension": ".py",
   "mimetype": "text/x-python",
   "name": "python",
   "nbconvert_exporter": "python",
   "pygments_lexer": "ipython2",
   "version": "2.7.6"
  }
 },
 "nbformat": 4,
 "nbformat_minor": 5
}
