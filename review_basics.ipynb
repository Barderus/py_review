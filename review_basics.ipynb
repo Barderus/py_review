{
 "cells": [
  {
   "metadata": {},
   "cell_type": "markdown",
   "source": "Calculate someone's salary",
   "id": "b7937c8afb45d119"
  },
  {
   "metadata": {
    "ExecuteTime": {
     "end_time": "2024-08-09T20:51:56.286320Z",
     "start_time": "2024-08-09T20:51:56.278691Z"
    }
   },
   "cell_type": "code",
   "source": [
    "base_salary = 100000\n",
    "bonus_rate = .10\n",
    "\n",
    "total_salary = base_salary * (1 + bonus_rate)"
   ],
   "id": "3cf16c2b4a439f35",
   "outputs": [],
   "execution_count": 1
  },
  {
   "metadata": {
    "ExecuteTime": {
     "end_time": "2024-08-09T20:51:56.308181Z",
     "start_time": "2024-08-09T20:51:56.301956Z"
    }
   },
   "cell_type": "code",
   "source": "total_salary",
   "id": "480dda9b73a04528",
   "outputs": [
    {
     "data": {
      "text/plain": [
       "110000.00000000001"
      ]
     },
     "execution_count": 2,
     "metadata": {},
     "output_type": "execute_result"
    }
   ],
   "execution_count": 2
  },
  {
   "metadata": {},
   "cell_type": "markdown",
   "source": "Use of Variables\n",
   "id": "9caf2e96d6a6bff4"
  },
  {
   "metadata": {
    "ExecuteTime": {
     "end_time": "2024-08-09T20:51:56.317115Z",
     "start_time": "2024-08-09T20:51:56.313199Z"
    }
   },
   "cell_type": "code",
   "source": [
    "company_name = \"DataWize Inc.\"\n",
    "job_id = 101\n",
    "job_title = \"Data Analyst\"\n",
    "job_salary = 125000\n",
    "job_location = \"Chicago, IL\""
   ],
   "id": "c354e120c358ad98",
   "outputs": [],
   "execution_count": 3
  },
  {
   "metadata": {
    "ExecuteTime": {
     "end_time": "2024-08-09T20:51:56.335688Z",
     "start_time": "2024-08-09T20:51:56.330676Z"
    }
   },
   "cell_type": "code",
   "source": [
    "print(\"Data Job Description\")\n",
    "print(\"+++++++++++++++++++++++++++\")\n",
    "print(f\"Job ID: \\t\\t{job_id}\")\n",
    "print(f\"Job Title:\\t\\t{job_title}\")\n",
    "print(f\"Job Salary: \\t{job_salary}\")\n",
    "print(f\"Job location:\\t{job_location}\")"
   ],
   "id": "258befdf22f66f49",
   "outputs": [
    {
     "name": "stdout",
     "output_type": "stream",
     "text": [
      "Data Job Description\n",
      "+++++++++++++++++++++++++++\n",
      "Job ID: \t\t101\n",
      "Job Title:\t\tData Analyst\n",
      "Job Salary: \t125000\n",
      "Job location:\tChicago, IL\n"
     ]
    }
   ],
   "execution_count": 4
  },
  {
   "metadata": {},
   "cell_type": "markdown",
   "source": "Strings and methods",
   "id": "2e3c09a06bd5c267"
  },
  {
   "metadata": {
    "ExecuteTime": {
     "end_time": "2024-08-09T20:51:56.344083Z",
     "start_time": "2024-08-09T20:51:56.336706Z"
    }
   },
   "cell_type": "code",
   "source": [
    "#Uppercase\n",
    "skill = \"Python\"\n",
    "skill.upper()\n"
   ],
   "id": "1c5b6871532877b4",
   "outputs": [
    {
     "data": {
      "text/plain": [
       "'PYTHON'"
      ]
     },
     "execution_count": 5,
     "metadata": {},
     "output_type": "execute_result"
    }
   ],
   "execution_count": 5
  },
  {
   "metadata": {
    "ExecuteTime": {
     "end_time": "2024-08-09T20:51:56.370308Z",
     "start_time": "2024-08-09T20:51:56.365526Z"
    }
   },
   "cell_type": "code",
   "source": "skill.lower()",
   "id": "e93db0d5060da410",
   "outputs": [
    {
     "data": {
      "text/plain": [
       "'python'"
      ]
     },
     "execution_count": 6,
     "metadata": {},
     "output_type": "execute_result"
    }
   ],
   "execution_count": 6
  },
  {
   "metadata": {
    "ExecuteTime": {
     "end_time": "2024-08-09T20:51:56.386248Z",
     "start_time": "2024-08-09T20:51:56.381202Z"
    }
   },
   "cell_type": "code",
   "source": [
    "# Replace\n",
    "skill.replace(\"P\", \"J\")\n",
    "\n",
    "# Replace the two as for os\n",
    "job_title = job_title.replace(\"a\", \"o\", 2)\n",
    "job_title"
   ],
   "id": "c1ce84f75fe819b4",
   "outputs": [
    {
     "data": {
      "text/plain": [
       "'Doto Analyst'"
      ]
     },
     "execution_count": 7,
     "metadata": {},
     "output_type": "execute_result"
    }
   ],
   "execution_count": 7
  },
  {
   "metadata": {
    "ExecuteTime": {
     "end_time": "2024-08-09T20:51:56.394452Z",
     "start_time": "2024-08-09T20:51:56.387396Z"
    }
   },
   "cell_type": "code",
   "source": "job_title.split(sep=\" \", maxsplit=1)",
   "id": "6ff11a8a22b754b3",
   "outputs": [
    {
     "data": {
      "text/plain": [
       "['Doto', 'Analyst']"
      ]
     },
     "execution_count": 8,
     "metadata": {},
     "output_type": "execute_result"
    }
   ],
   "execution_count": 8
  },
  {
   "metadata": {
    "ExecuteTime": {
     "end_time": "2024-08-09T20:51:56.403870Z",
     "start_time": "2024-08-09T20:51:56.396484Z"
    }
   },
   "cell_type": "code",
   "source": [
    "# Length of a string\n",
    "len(job_title)"
   ],
   "id": "e537aeef729dc1f2",
   "outputs": [
    {
     "data": {
      "text/plain": [
       "12"
      ]
     },
     "execution_count": 9,
     "metadata": {},
     "output_type": "execute_result"
    }
   ],
   "execution_count": 9
  },
  {
   "metadata": {},
   "cell_type": "markdown",
   "source": "Conditional",
   "id": "e8c1259ffafdd015"
  },
  {
   "metadata": {
    "ExecuteTime": {
     "end_time": "2024-08-09T20:51:56.412779Z",
     "start_time": "2024-08-09T20:51:56.404881Z"
    }
   },
   "cell_type": "code",
   "source": [
    "job_skill = \"SQL\"\n",
    "applicant_skill = \"Java\"\n",
    "years_experience = 3\n",
    "\n",
    "if job_skill == applicant_skill:\n",
    "    print(\"Skill match!\")\n",
    "elif years_experience >= 5:\n",
    "    print(\"Enough experience; no SQL\")\n",
    "elif applicant_skill == \"Python\":\n",
    "    pass\n",
    "else:\n",
    "    print(\"No skill and no experience\")"
   ],
   "id": "e317163d1ed29c2a",
   "outputs": [
    {
     "name": "stdout",
     "output_type": "stream",
     "text": [
      "No skill and no experience\n"
     ]
    }
   ],
   "execution_count": 10
  }
 ],
 "metadata": {
  "kernelspec": {
   "display_name": "Python 3",
   "language": "python",
   "name": "python3"
  },
  "language_info": {
   "codemirror_mode": {
    "name": "ipython",
    "version": 2
   },
   "file_extension": ".py",
   "mimetype": "text/x-python",
   "name": "python",
   "nbconvert_exporter": "python",
   "pygments_lexer": "ipython2",
   "version": "2.7.6"
  }
 },
 "nbformat": 4,
 "nbformat_minor": 5
}
