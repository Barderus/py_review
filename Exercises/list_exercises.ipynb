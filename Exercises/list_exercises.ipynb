{
 "cells": [
  {
   "metadata": {},
   "cell_type": "markdown",
   "source": "Access the second job title in the list of job titles for data science roles and print it. The variable job_titles is set to ['Data Scientist', 'Data Analyst', 'Machine Learning Engineer'].",
   "id": "f6208d2f2f22a1a1"
  },
  {
   "metadata": {
    "ExecuteTime": {
     "end_time": "2024-08-19T12:39:22.085968Z",
     "start_time": "2024-08-19T12:39:22.072330Z"
    }
   },
   "cell_type": "code",
   "source": [
    "job_titles = [\"Data Scientist\", \"Data Analyst\", \"Machine Learning Engineer\"]\n",
    "\n",
    "second_job = job_titles[1]\n",
    "print(second_job)\n"
   ],
   "id": "d697a49768302fd8",
   "outputs": [
    {
     "name": "stdout",
     "output_type": "stream",
     "text": [
      "Data Analyst\n"
     ]
    }
   ],
   "execution_count": 1
  },
  {
   "metadata": {},
   "cell_type": "markdown",
   "source": "Change the third job title in the list of job titles for data science roles to 'AI Specialist' and print the updated list. The variable job_titles is set to ['Data Scientist', 'Data Analyst', 'Machine Learning Engineer'].",
   "id": "c2a397b84c76874b"
  },
  {
   "metadata": {
    "ExecuteTime": {
     "end_time": "2024-08-19T12:40:54.192188Z",
     "start_time": "2024-08-19T12:40:54.185936Z"
    }
   },
   "cell_type": "code",
   "source": [
    "job_titles = [\"Data Scientist\", \"Data Analyst\", \"Machine Learning Engineer\"]\n",
    "\n",
    "job_titles[2] = \"AI Specialist\"\n",
    "print(job_titles)"
   ],
   "id": "ea7ed29020cb032e",
   "outputs": [
    {
     "name": "stdout",
     "output_type": "stream",
     "text": [
      "['Data Scientist', 'Data Analyst', 'AI Specialist']\n"
     ]
    }
   ],
   "execution_count": 2
  },
  {
   "metadata": {},
   "cell_type": "markdown",
   "source": "Slice the list of job titles for data science roles to get the first two job titles and print the result. The list is ['Data Scientist', 'Data Analyst', 'Machine Learning Engineer', 'Data Engineer'].",
   "id": "292446f0f203ed60"
  },
  {
   "metadata": {
    "ExecuteTime": {
     "end_time": "2024-08-19T12:42:40.455796Z",
     "start_time": "2024-08-19T12:42:40.448533Z"
    }
   },
   "cell_type": "code",
   "source": [
    "job_titles = [\"Data Scientist\", \"Data Analyst\", \"Machine Learning Engineer\", \"Data Engineer\"]\n",
    "\n",
    "print(job_titles[:2])\n"
   ],
   "id": "62fcadea93a65772",
   "outputs": [
    {
     "name": "stdout",
     "output_type": "stream",
     "text": [
      "['Data Scientist', 'Data Analyst']\n"
     ]
    }
   ],
   "execution_count": 5
  },
  {
   "metadata": {},
   "cell_type": "markdown",
   "source": "Add a new job title 'Data Engineer' to the end of the list of job titles for data science roles and print the updated list. The variable job_titles is set to ['Data Scientist', 'Data Analyst', 'Machine Learning Engineer'].",
   "id": "cd965123f471d73d"
  },
  {
   "metadata": {
    "ExecuteTime": {
     "end_time": "2024-08-19T12:43:38.440868Z",
     "start_time": "2024-08-19T12:43:38.433346Z"
    }
   },
   "cell_type": "code",
   "source": [
    "job_titles = [\"Data Scientist\", \"Data Analyst\", \"Machine Learning Engineer\"]\n",
    "\n",
    "job_titles.append(\"Data Engineer\")\n",
    "print(job_titles)"
   ],
   "id": "19a62d5ae50da386",
   "outputs": [
    {
     "name": "stdout",
     "output_type": "stream",
     "text": [
      "['Data Scientist', 'Data Analyst', 'Machine Learning Engineer', 'Data Engineer']\n"
     ]
    }
   ],
   "execution_count": 7
  },
  {
   "metadata": {},
   "cell_type": "markdown",
   "source": "Insert a new job title 'Business Analyst' at the second position in the list of job titles for data science roles and print the updated list. The variable job_titles is set to ['Data Scientist', 'Data Analyst', 'Machine Learning Engineer'].",
   "id": "7a8a3815ba9e480b"
  },
  {
   "metadata": {
    "ExecuteTime": {
     "end_time": "2024-08-19T12:45:44.618998Z",
     "start_time": "2024-08-19T12:45:44.611792Z"
    }
   },
   "cell_type": "code",
   "source": [
    "job_titles = [\"Data Scientist\", \"Data Analyst\", \"Machine Learning Engineer\"]\n",
    "\n",
    "job_titles.insert(1, \"Business Analyst\")\n",
    "print(job_titles)"
   ],
   "id": "80ce5084a7bedbd4",
   "outputs": [
    {
     "name": "stdout",
     "output_type": "stream",
     "text": [
      "['Data Scientist', 'Business Analyst', 'Data Analyst', 'Machine Learning Engineer']\n"
     ]
    }
   ],
   "execution_count": 9
  }
 ],
 "metadata": {
  "kernelspec": {
   "display_name": "Python 3",
   "language": "python",
   "name": "python3"
  },
  "language_info": {
   "codemirror_mode": {
    "name": "ipython",
    "version": 2
   },
   "file_extension": ".py",
   "mimetype": "text/x-python",
   "name": "python",
   "nbconvert_exporter": "python",
   "pygments_lexer": "ipython2",
   "version": "2.7.6"
  }
 },
 "nbformat": 4,
 "nbformat_minor": 5
}
