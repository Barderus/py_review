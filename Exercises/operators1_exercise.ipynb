{
 "cells": [
  {
   "metadata": {},
   "cell_type": "markdown",
   "source": "Calculate the total annual salary for a data scientist given the monthly salary. The variable monthly_salary is set to 8000.",
   "id": "8f68ac9c83726ae4"
  },
  {
   "metadata": {
    "ExecuteTime": {
     "end_time": "2024-08-19T04:01:45.254020Z",
     "start_time": "2024-08-19T04:01:45.246589Z"
    }
   },
   "cell_type": "code",
   "source": [
    "monthly_salary = 8000\n",
    "annual_salary = monthly_salary * 12\n",
    "print(f\"Annual Salary: {annual_salary}\")"
   ],
   "id": "a74071bfab6d1129",
   "outputs": [
    {
     "name": "stdout",
     "output_type": "stream",
     "text": [
      "Annual Salary: 96000\n"
     ]
    }
   ],
   "execution_count": 1
  },
  {
   "metadata": {},
   "cell_type": "markdown",
   "source": "Determine if the average salary of a data analyst is greater than that of a data scientist. The variables avg_salary_analyst and avg_salary_scientist are set to 70000 and 85000 respectively.",
   "id": "c7896d41d7834b1"
  },
  {
   "metadata": {
    "ExecuteTime": {
     "end_time": "2024-08-19T04:07:29.110251Z",
     "start_time": "2024-08-19T04:07:29.105852Z"
    }
   },
   "cell_type": "code",
   "source": [
    "avg_salary_analyst = 70000\n",
    "avg_salary_scientist = 85000\n",
    "\n",
    "if avg_salary_analyst > avg_salary_scientist:\n",
    "    print(f\"The average salary of Data Analyst is bigger than Data Scientist's \")\n",
    "else:\n",
    "    print(f\"The average salary of Data Analyst is smaller than Data Scientist's \")"
   ],
   "id": "77bca056e2c167ed",
   "outputs": [
    {
     "name": "stdout",
     "output_type": "stream",
     "text": [
      "The average salary of Data Analyst is smaller than Data Scientist's \n"
     ]
    }
   ],
   "execution_count": 2
  },
  {
   "metadata": {},
   "cell_type": "markdown",
   "source": "Calculate the remainder when the total number of job applications (variable total_appliations is set to 123) is divided by the number of job openings (variable job_openings is set to 67).",
   "id": "2e7d5afdc3ffb369"
  },
  {
   "metadata": {
    "ExecuteTime": {
     "end_time": "2024-08-19T04:10:37.264902Z",
     "start_time": "2024-08-19T04:10:37.261595Z"
    }
   },
   "cell_type": "code",
   "source": [
    "total_applications = 123\n",
    "job_openings = 67\n",
    "remainder = total_applications % job_openings\n",
    "\n",
    "print(remainder)"
   ],
   "id": "7c49156ea4a0eaee",
   "outputs": [
    {
     "name": "stdout",
     "output_type": "stream",
     "text": [
      "56\n"
     ]
    }
   ],
   "execution_count": 3
  },
  {
   "metadata": {
    "ExecuteTime": {
     "end_time": "2024-08-19T04:12:56.325072Z",
     "start_time": "2024-08-19T04:12:56.320580Z"
    }
   },
   "cell_type": "code",
   "source": [
    "job_posting = 20\n",
    "job_posting += 5\n",
    "print(job_posting)"
   ],
   "id": "a091a5ddd402fd3c",
   "outputs": [
    {
     "name": "stdout",
     "output_type": "stream",
     "text": [
      "25\n"
     ]
    }
   ],
   "execution_count": 4
  },
  {
   "metadata": {},
   "cell_type": "markdown",
   "source": "Calculate the average salary from the minimum and maximum salaries. The variables min_salary and max_salary are set to 50000 and 120000 respectively.",
   "id": "e9845c8ba0d6b262"
  },
  {
   "metadata": {
    "ExecuteTime": {
     "end_time": "2024-08-19T04:14:38.629753Z",
     "start_time": "2024-08-19T04:14:38.625635Z"
    }
   },
   "cell_type": "code",
   "source": [
    "min_salary = 50000\n",
    "max_salary = 120000\n",
    "\n",
    "average_salary = (min_salary + max_salary) / 2\n",
    "print(average_salary)"
   ],
   "id": "57a43f91e0d026b9",
   "outputs": [
    {
     "name": "stdout",
     "output_type": "stream",
     "text": [
      "85000.0\n"
     ]
    }
   ],
   "execution_count": 5
  },
  {
   "metadata": {},
   "cell_type": "code",
   "outputs": [],
   "execution_count": null,
   "source": "",
   "id": "aab962989d0cb01"
  }
 ],
 "metadata": {
  "kernelspec": {
   "display_name": "Python 3",
   "language": "python",
   "name": "python3"
  },
  "language_info": {
   "codemirror_mode": {
    "name": "ipython",
    "version": 2
   },
   "file_extension": ".py",
   "mimetype": "text/x-python",
   "name": "python",
   "nbconvert_exporter": "python",
   "pygments_lexer": "ipython2",
   "version": "2.7.6"
  }
 },
 "nbformat": 4,
 "nbformat_minor": 5
}
