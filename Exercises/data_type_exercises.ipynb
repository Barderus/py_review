{
 "cells": [
  {
   "metadata": {},
   "cell_type": "markdown",
   "source": "Check the data type of the variable job_title which is set to 'Data Scientist' (Note: 'Data Scientist' is in quotes).",
   "id": "57d65113403d71df"
  },
  {
   "metadata": {
    "ExecuteTime": {
     "end_time": "2024-08-19T01:31:29.276295Z",
     "start_time": "2024-08-19T01:31:29.271344Z"
    }
   },
   "cell_type": "code",
   "source": [
    "job_title = \"Data Scientist\"\n",
    "print(type(job_title))"
   ],
   "id": "487b24459478f3fc",
   "outputs": [
    {
     "name": "stdout",
     "output_type": "stream",
     "text": [
      "<class 'str'>\n"
     ]
    }
   ],
   "execution_count": 3
  },
  {
   "metadata": {},
   "cell_type": "markdown",
   "source": [
    "Create a variable salary with the value 85000.50 and check its data type.\n",
    "\n"
   ],
   "id": "971171e73e1f1036"
  },
  {
   "metadata": {
    "ExecuteTime": {
     "end_time": "2024-08-19T01:31:31.538572Z",
     "start_time": "2024-08-19T01:31:31.533942Z"
    }
   },
   "cell_type": "code",
   "source": [
    "salary = 85000.50\n",
    "print(type(salary))"
   ],
   "id": "82b25478b9ee11d7",
   "outputs": [
    {
     "name": "stdout",
     "output_type": "stream",
     "text": [
      "<class 'float'>\n"
     ]
    }
   ],
   "execution_count": 4
  },
  {
   "metadata": {},
   "cell_type": "markdown",
   "source": "Convert the float of 120000.75, assigned to the variable salary_rate, to an integer; Print its type after conversion to verify it is an integer.",
   "id": "774f6aae89ce7f13"
  },
  {
   "metadata": {
    "ExecuteTime": {
     "end_time": "2024-08-19T01:34:03.827224Z",
     "start_time": "2024-08-19T01:34:03.823461Z"
    }
   },
   "cell_type": "code",
   "source": [
    "salary_rate = 120000.75\n",
    "salary_rate = int(salary_rate)\n",
    "print(type(salary_rate))"
   ],
   "id": "2f0603a0ff8fd644",
   "outputs": [
    {
     "name": "stdout",
     "output_type": "stream",
     "text": [
      "<class 'int'>\n"
     ]
    }
   ],
   "execution_count": 6
  },
  {
   "metadata": {},
   "cell_type": "markdown",
   "source": "Check if the variable company_name is of the type str. company_name is set to 'DataWiz Inc.'.",
   "id": "cb5bb2ada5d6f0b0"
  },
  {
   "metadata": {
    "ExecuteTime": {
     "end_time": "2024-08-19T03:31:40.545749Z",
     "start_time": "2024-08-19T03:31:40.535557Z"
    }
   },
   "cell_type": "code",
   "source": [
    "company_name = \"DataWiz Inc.\"\n",
    "print(isinstance(company_name, str))"
   ],
   "id": "e213b517d84eb07c",
   "outputs": [
    {
     "name": "stdout",
     "output_type": "stream",
     "text": [
      "True\n"
     ]
    }
   ],
   "execution_count": 1
  },
  {
   "metadata": {},
   "cell_type": "code",
   "outputs": [],
   "execution_count": null,
   "source": "",
   "id": "b73266d62208d3b0"
  }
 ],
 "metadata": {
  "kernelspec": {
   "display_name": "Python 3",
   "language": "python",
   "name": "python3"
  },
  "language_info": {
   "codemirror_mode": {
    "name": "ipython",
    "version": 2
   },
   "file_extension": ".py",
   "mimetype": "text/x-python",
   "name": "python",
   "nbconvert_exporter": "python",
   "pygments_lexer": "ipython2",
   "version": "2.7.6"
  }
 },
 "nbformat": 4,
 "nbformat_minor": 5
}
