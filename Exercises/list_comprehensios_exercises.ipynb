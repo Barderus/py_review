{
 "cells": [
  {
   "metadata": {},
   "cell_type": "markdown",
   "source": "Create a list comprehension that converts a list of salaries from USD to EUR using a conversion rate of 0.85. With the list of salaries being: salaries_usd = [100000, 120000, 80000, 90000].",
   "id": "1058dad3f9be3d0c"
  },
  {
   "metadata": {
    "ExecuteTime": {
     "end_time": "2024-08-20T01:00:00.086221Z",
     "start_time": "2024-08-20T01:00:00.081445Z"
    }
   },
   "cell_type": "code",
   "source": [
    "salaries_usd = [100000, 120000, 80000, 90000]\n",
    "conversion_rate = 0.85\n",
    "\n",
    "converter_list = [(x * conversion_rate) for x in salaries_usd]\n",
    "print(converter_list)"
   ],
   "id": "ae9f679c8059dcec",
   "outputs": [
    {
     "name": "stdout",
     "output_type": "stream",
     "text": [
      "[85000.0, 102000.0, 68000.0, 76500.0]\n"
     ]
    }
   ],
   "execution_count": 4
  },
  {
   "metadata": {},
   "cell_type": "markdown",
   "source": "Create a list of data science job titles that require more than 2 years of experience from the given dictionary. With job_experience set to {'Data Scientist': 3, 'Data Analyst': 1, 'Machine Learning Specialist': 4, 'Data Engineer': 2}.",
   "id": "74f37518d3743ef3"
  },
  {
   "metadata": {
    "ExecuteTime": {
     "end_time": "2024-08-20T01:06:43.503574Z",
     "start_time": "2024-08-20T01:06:43.498739Z"
    }
   },
   "cell_type": "code",
   "source": [
    "job_experience = {\"Data Scientist\":3, \"Data Analyst\":1, \"Machine Learning Specialist\":4, \"Data Engineer\":2}\n",
    "\n",
    "filtered_list = [x for x in job_experience if job_experience[x] > 2]\n",
    "print(filtered_list)"
   ],
   "id": "db265a472c5911fc",
   "outputs": [
    {
     "name": "stdout",
     "output_type": "stream",
     "text": [
      "['Data Scientist', 'Machine Learning Specialist']\n"
     ]
    }
   ],
   "execution_count": 14
  },
  {
   "metadata": {},
   "cell_type": "markdown",
   "source": "Create a list comprehension that extracts job titles with salaries greater than 90,000 from a given list of dictionaries containing job titles and salaries. The dictionary is job_salary_dicts named and it is set to [{'job_title': 'Data Scientist', 'salary': 100000}, {'job_title': 'Data Analyst', 'salary': 120000}, {'job_title': 'Data Engineer', 'salary': 80000}, {'job_title': 'Machine Learning Engineer', 'salary': 90000}].",
   "id": "4bc4d11a769a32c2"
  },
  {
   "metadata": {
    "ExecuteTime": {
     "end_time": "2024-08-20T01:11:54.845753Z",
     "start_time": "2024-08-20T01:11:54.841416Z"
    }
   },
   "cell_type": "code",
   "source": [
    "job_salary_dict = [\n",
    "    {\n",
    "        \"job_title\": \"Data Scientist\", \"salary\": 100000\n",
    "    },\n",
    "    {\n",
    "        \"job_title\": \"Data Analyst\", \"salary\": 120000   \n",
    "    },\n",
    "    {\n",
    "        \"job_title\": \"Data Engineer\", \"salary\": 80000\n",
    "    },\n",
    "    {\n",
    "        \"job_title\": \"Machine Learning Engineer\", \"salary\": 90000\n",
    "    }\n",
    "]\n",
    "\n",
    "filtered_list = [x[\"job_title\"] for x in job_salary_dict if x[\"salary\"] > 90000]\n",
    "print(filtered_list)"
   ],
   "id": "245157a05f8431bd",
   "outputs": [
    {
     "name": "stdout",
     "output_type": "stream",
     "text": [
      "['Data Scientist', 'Data Analyst']\n"
     ]
    }
   ],
   "execution_count": 18
  },
  {
   "metadata": {},
   "cell_type": "code",
   "outputs": [],
   "execution_count": null,
   "source": "",
   "id": "38ac18cb8abe9eed"
  }
 ],
 "metadata": {
  "kernelspec": {
   "display_name": "Python 3",
   "language": "python",
   "name": "python3"
  },
  "language_info": {
   "codemirror_mode": {
    "name": "ipython",
    "version": 2
   },
   "file_extension": ".py",
   "mimetype": "text/x-python",
   "name": "python",
   "nbconvert_exporter": "python",
   "pygments_lexer": "ipython2",
   "version": "2.7.6"
  }
 },
 "nbformat": 4,
 "nbformat_minor": 5
}
