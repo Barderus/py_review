{
 "cells": [
  {
   "metadata": {},
   "cell_type": "markdown",
   "source": "Create a variable called job_count to store the number 42. Print job_count.\n",
   "id": "ab7970c563e1cae7"
  },
  {
   "metadata": {
    "ExecuteTime": {
     "end_time": "2024-08-19T01:08:16.307134Z",
     "start_time": "2024-08-19T01:08:16.303671Z"
    }
   },
   "cell_type": "code",
   "source": [
    "job_count = 42\n",
    "print(job_count)"
   ],
   "id": "8d201b016a30da16",
   "outputs": [
    {
     "name": "stdout",
     "output_type": "stream",
     "text": [
      "42\n"
     ]
    }
   ],
   "execution_count": 2
  },
  {
   "metadata": {},
   "cell_type": "markdown",
   "source": "reate variables to store the job title, company name, and whether the job is remote for a Data Engineer position. Set the job title to 'Data Engineer', the company name to 'DataWorks', and the remote status to True. Print all the variables.",
   "id": "cb62c6f06d482fe0"
  },
  {
   "metadata": {
    "ExecuteTime": {
     "end_time": "2024-08-19T01:09:47.587376Z",
     "start_time": "2024-08-19T01:09:47.583606Z"
    }
   },
   "cell_type": "code",
   "source": [
    "job_title = \"Data Engineer\"\n",
    "job_company = \"DataWorks\"\n",
    "remote = True\n",
    "print(f\"Job title: {job_title}\\nJob company: {job_company}\\nRemote: {remote}\")"
   ],
   "id": "39967f198a8e3344",
   "outputs": [
    {
     "name": "stdout",
     "output_type": "stream",
     "text": [
      "Job title: Data Engineer\n",
      "Job company: DataWorks\n",
      "Remote: True\n"
     ]
    }
   ],
   "execution_count": 3
  },
  {
   "metadata": {},
   "cell_type": "markdown",
   "source": "Calculate the total compensation for a Data Scientist by adding two variables of base_slary and bonus. The base salary is 120000 and the bonus is 20000. Store the result in a variable named total_compensation. Print total_compensation once calculated.",
   "id": "2df90adf482da2ba"
  },
  {
   "metadata": {
    "ExecuteTime": {
     "end_time": "2024-08-19T01:11:01.495792Z",
     "start_time": "2024-08-19T01:11:01.491265Z"
    }
   },
   "cell_type": "code",
   "source": [
    "base_salary = 120000\n",
    "bonus = 20000\n",
    "total_compensation = base_salary + bonus\n",
    "print(total_compensation)\n"
   ],
   "id": "5e4c068719ecfd2e",
   "outputs": [
    {
     "name": "stdout",
     "output_type": "stream",
     "text": [
      "140000\n"
     ]
    }
   ],
   "execution_count": 4
  },
  {
   "metadata": {},
   "cell_type": "markdown",
   "source": "Calculate the monthly salary of a Data Analyst job by dividing the annual salary of $72K by 12 and then printing the monthly salary. Assign appropriate variable names for each.",
   "id": "6e71f145e9240871"
  },
  {
   "metadata": {
    "ExecuteTime": {
     "end_time": "2024-08-19T01:13:24.592078Z",
     "start_time": "2024-08-19T01:13:24.587476Z"
    }
   },
   "cell_type": "code",
   "source": [
    "annual_salary = 72000\n",
    "months = 12\n",
    "monthly_salary = annual_salary / months\n",
    "print(f\"Monthly salary: ${monthly_salary:,.0f}\")"
   ],
   "id": "c36dc54138ab5aca",
   "outputs": [
    {
     "name": "stdout",
     "output_type": "stream",
     "text": [
      "Monthly salary: $6,000\n"
     ]
    }
   ],
   "execution_count": 9
  },
  {
   "metadata": {},
   "cell_type": "markdown",
   "source": [
    "Create variables to store the job title, company name, and salary for a Data Scientist position at AI Solutions for $110K. Then, calculate the total compensation by adding a 10% bonus to the salary and print the total compensation, along with the job and company name.\n",
    "\n"
   ],
   "id": "b222700b9a044db7"
  },
  {
   "metadata": {
    "ExecuteTime": {
     "end_time": "2024-08-19T01:16:25.403737Z",
     "start_time": "2024-08-19T01:16:25.398430Z"
    }
   },
   "cell_type": "code",
   "source": [
    "job_title = \"Data Scientist\"\n",
    "company_name = \"AI Solutions\"\n",
    "salary = 100000\n",
    "bonus = 0.1\n",
    "\n",
    "total_compensation = (salary * bonus) + salary\n",
    "print(f\"The total compensation for {job_title} at {company_name} is ${total_compensation:,.0f}\")"
   ],
   "id": "71937901b8df2655",
   "outputs": [
    {
     "name": "stdout",
     "output_type": "stream",
     "text": [
      "The total compensation for Data Scientist at AI Solutions is $110,000\n"
     ]
    }
   ],
   "execution_count": 11
  },
  {
   "metadata": {},
   "cell_type": "markdown",
   "source": "",
   "id": "a23f3cb754dcefe1"
  }
 ],
 "metadata": {
  "kernelspec": {
   "display_name": "Python 3",
   "language": "python",
   "name": "python3"
  },
  "language_info": {
   "codemirror_mode": {
    "name": "ipython",
    "version": 2
   },
   "file_extension": ".py",
   "mimetype": "text/x-python",
   "name": "python",
   "nbconvert_exporter": "python",
   "pygments_lexer": "ipython2",
   "version": "2.7.6"
  }
 },
 "nbformat": 4,
 "nbformat_minor": 5
}
