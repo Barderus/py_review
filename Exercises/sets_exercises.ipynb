{
 "cells": [
  {
   "metadata": {},
   "cell_type": "markdown",
   "source": "Add a new job title 'AI Specialist' to the set of unique job titles and print the updated set. The initial set of unique_job_titles is {'Data Scientist', 'Data Analyst', 'Machine Learning Engineer'}.",
   "id": "e1a07ae2aae4e450"
  },
  {
   "metadata": {
    "ExecuteTime": {
     "end_time": "2024-08-19T22:53:57.546067Z",
     "start_time": "2024-08-19T22:53:57.538142Z"
    }
   },
   "cell_type": "code",
   "source": [
    "unique_job_titles = {\"Data Scientist\", \"Data Analyst\", \"Machine Learning Engineer\"}\n",
    "unique_job_titles.add(\"AI Specialist\")\n",
    "\n",
    "print(unique_job_titles)"
   ],
   "id": "584fc58958d9bfb6",
   "outputs": [
    {
     "name": "stdout",
     "output_type": "stream",
     "text": [
      "{'AI Specialist', 'Data Scientist', 'Data Analyst', 'Machine Learning Engineer'}\n"
     ]
    }
   ],
   "execution_count": 1
  },
  {
   "metadata": {},
   "cell_type": "markdown",
   "source": "Remove the job title 'Data Analyst' from the set of unique job titles and print the updated set. The initial set of unique_job_titles is {'Data Scientist', 'Data Analyst', 'Machine Learning Engineer'}.",
   "id": "38e4feaf9fdf55b4"
  },
  {
   "metadata": {
    "ExecuteTime": {
     "end_time": "2024-08-19T22:55:28.007265Z",
     "start_time": "2024-08-19T22:55:28.002148Z"
    }
   },
   "cell_type": "code",
   "source": [
    "unique_job_titles = {\"Data Scientist\", \"Data Analyst\", \"Machine Learning Engineer\"}\n",
    "unique_job_titles.remove(\"Data Analyst\")\n",
    "\n",
    "print(unique_job_titles)"
   ],
   "id": "ddfad0f639ccc2ed",
   "outputs": [
    {
     "name": "stdout",
     "output_type": "stream",
     "text": [
      "{'Data Scientist', 'Machine Learning Engineer'}\n"
     ]
    }
   ],
   "execution_count": 2
  },
  {
   "metadata": {},
   "cell_type": "markdown",
   "source": "Create a set of job locations named job_locations from a list of job locations for data science roles and print the set. The list is ['New York', 'San Francisco', 'New York', 'Austin', 'San Francisco'].",
   "id": "3769079df409b9ac"
  },
  {
   "metadata": {
    "ExecuteTime": {
     "end_time": "2024-08-19T22:58:04.808271Z",
     "start_time": "2024-08-19T22:58:04.804275Z"
    }
   },
   "cell_type": "code",
   "source": [
    "job_location = [\"New York\", \"San Francisco\", \"New York\", \"Austin\", \"San Francisco\"]\n",
    "job_location_set = set(job_location)\n",
    "\n",
    "print(job_location_set)"
   ],
   "id": "7699aa9046cadec8",
   "outputs": [
    {
     "name": "stdout",
     "output_type": "stream",
     "text": [
      "{'San Francisco', 'Austin', 'New York'}\n"
     ]
    }
   ],
   "execution_count": 3
  },
  {
   "metadata": {},
   "cell_type": "markdown",
   "source": "Find the union of two sets of job skills and print the result. The first set is {'Python', 'SQL', 'Tableau'} and the second set is {'R', 'SQL', 'Machine Learning'}.",
   "id": "9197f195e6baba11"
  },
  {
   "metadata": {
    "ExecuteTime": {
     "end_time": "2024-08-19T23:01:22.912415Z",
     "start_time": "2024-08-19T23:01:22.908416Z"
    }
   },
   "cell_type": "code",
   "source": [
    "skill_set1 = {\"Python\", \"SQL\", \"Tableau\"}\n",
    "skill_set2 = {\"R\", \"SQL\", \"Machine Learning\"}\n",
    "\n",
    "union_set = skill_set1.union(skill_set2)\n",
    "print(union_set)"
   ],
   "id": "55a1f36999353049",
   "outputs": [
    {
     "name": "stdout",
     "output_type": "stream",
     "text": [
      "{'Python', 'SQL', 'R', 'Machine Learning', 'Tableau'}\n"
     ]
    }
   ],
   "execution_count": 4
  },
  {
   "metadata": {},
   "cell_type": "markdown",
   "source": "Access the second job role from the tuple job_roles and print it. The job_roles variable is set to ('Data Scientist', 'Data Analyst', 'Machine Learning Engineer').",
   "id": "c7bb7803a225cc33"
  },
  {
   "metadata": {
    "ExecuteTime": {
     "end_time": "2024-08-19T23:02:40.661575Z",
     "start_time": "2024-08-19T23:02:40.656693Z"
    }
   },
   "cell_type": "code",
   "source": [
    "job_roles = (\"Data Scientist\", \"Data Analyst\", \"Machine Learning Engineer\")\n",
    "\n",
    "print(job_roles[1])"
   ],
   "id": "68b64641d2ae508a",
   "outputs": [
    {
     "name": "stdout",
     "output_type": "stream",
     "text": [
      "Data Analyst\n"
     ]
    }
   ],
   "execution_count": 5
  },
  {
   "metadata": {},
   "cell_type": "markdown",
   "source": "Create a new tuple extended_job_roles by adding the job role 'AI Specialist' to the existing tuple job_roles. Print the new tuple. The job_roles is set to job_roles = ('Data Scientist', 'Data Analyst', 'Machine Learning Engineer').",
   "id": "c1e9b95759a8a6a1"
  },
  {
   "metadata": {
    "ExecuteTime": {
     "end_time": "2024-08-19T23:07:26.055924Z",
     "start_time": "2024-08-19T23:07:26.050905Z"
    }
   },
   "cell_type": "code",
   "source": [
    "job_roles = (\"Data Scientist\", \"Data Analyst\", \"Machine Learning Engineer\")\n",
    "\n",
    "extended_job_roles = job_roles + (\"AI Specialist\", )\n",
    "\n",
    "print(extended_job_roles)\n"
   ],
   "id": "61b1810bd01f6b5f",
   "outputs": [
    {
     "name": "stdout",
     "output_type": "stream",
     "text": [
      "('Data Scientist', 'Data Analyst', 'Machine Learning Engineer', 'AI Specialist')\n"
     ]
    }
   ],
   "execution_count": 7
  },
  {
   "metadata": {},
   "cell_type": "markdown",
   "source": "Remove the job role 'Data Analyst' from the tuple job_roles by converting it to a list and then back to a tuple. Print the updated tuple. The tuple job_roles is set to ('Data Scientist', 'Data Analyst', 'Machine Learning Engineer').",
   "id": "b483f75d0821013e"
  },
  {
   "metadata": {
    "ExecuteTime": {
     "end_time": "2024-08-20T00:26:37.403320Z",
     "start_time": "2024-08-20T00:26:37.398297Z"
    }
   },
   "cell_type": "code",
   "source": [
    "job_roles = (\"Data Scientist\", \"Data Analyst\", \"Machine Learning Engineer\")\n",
    "\n",
    "job_roles_list = list(job_roles)\n",
    "job_roles_list.remove(\"Data Analyst\")\n",
    "job_roles = set(job_roles_list)\n",
    "\n",
    "print(job_roles)\n"
   ],
   "id": "9dc1734d91f71958",
   "outputs": [
    {
     "name": "stdout",
     "output_type": "stream",
     "text": [
      "{'Data Scientist', 'Machine Learning Engineer'}\n"
     ]
    }
   ],
   "execution_count": 8
  },
  {
   "metadata": {},
   "cell_type": "markdown",
   "source": "Unpack the tuple job_postings into three variables data_scientist_postings, data_analyst_postings, and ml_engineer_postings. Print each variable. The variable job_postings is set to (120, 80, 50).",
   "id": "e0a8dec88ecfe2d4"
  },
  {
   "metadata": {
    "ExecuteTime": {
     "end_time": "2024-08-20T00:28:17.442774Z",
     "start_time": "2024-08-20T00:28:17.437671Z"
    }
   },
   "cell_type": "code",
   "source": [
    "job_postings = (120, 80, 50)\n",
    "\n",
    "data_scientist_postings, data_analyst_postings, machine_learning_postings = job_postings\n",
    "\n",
    "print(data_scientist_postings)\n",
    "print(data_analyst_postings)\n",
    "print(machine_learning_postings)"
   ],
   "id": "74d0fad475731f11",
   "outputs": [
    {
     "name": "stdout",
     "output_type": "stream",
     "text": [
      "120\n",
      "80\n",
      "50\n"
     ]
    }
   ],
   "execution_count": 9
  },
  {
   "metadata": {},
   "cell_type": "markdown",
   "source": "Extract and print the number of postings for 'Machine Learning Engineer' from the nested tuple job_details. The job_details is set to (('Data Scientist', 120), ('Data Analyst', 80), ('Machine Learning Engineer', 50)).",
   "id": "76bd6259bf68bd5c"
  },
  {
   "metadata": {
    "ExecuteTime": {
     "end_time": "2024-08-20T00:30:42.076010Z",
     "start_time": "2024-08-20T00:30:42.071140Z"
    }
   },
   "cell_type": "code",
   "source": [
    "job_details = ((\"Data Scientist\", 120), (\"Data Analyst\", 80), (\"Machine Learning Engineer\", 50))\n",
    "\n",
    "print(job_details[2][1])\n"
   ],
   "id": "17954d8b286a7c",
   "outputs": [
    {
     "name": "stdout",
     "output_type": "stream",
     "text": [
      "50\n"
     ]
    }
   ],
   "execution_count": 12
  }
 ],
 "metadata": {
  "kernelspec": {
   "display_name": "Python 3",
   "language": "python",
   "name": "python3"
  },
  "language_info": {
   "codemirror_mode": {
    "name": "ipython",
    "version": 2
   },
   "file_extension": ".py",
   "mimetype": "text/x-python",
   "name": "python",
   "nbconvert_exporter": "python",
   "pygments_lexer": "ipython2",
   "version": "2.7.6"
  }
 },
 "nbformat": 4,
 "nbformat_minor": 5
}
