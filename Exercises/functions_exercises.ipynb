{
 "cells": [
  {
   "metadata": {},
   "cell_type": "markdown",
   "source": [
    "Create a function job_title_contains that takes a job title and a keyword as arguments, and returns True if the job title contains the keyword, otherwise returns False. \n",
    "\n",
    "To confirm the function works, set the job_title to 'Data Scientist' and the keyword to 'Data'."
   ],
   "id": "71622c054c71ba0f"
  },
  {
   "metadata": {
    "ExecuteTime": {
     "end_time": "2024-08-20T13:38:24.139109Z",
     "start_time": "2024-08-20T13:38:24.131593Z"
    }
   },
   "cell_type": "code",
   "source": [
    "def job_title_contains(job_title, keyword):\n",
    "    return keyword in job_title\n",
    "\n",
    "job_title = \"Data Scientist\"\n",
    "keyword = \"Data\"\n",
    "\n",
    "job_title_contains(job_title, keyword)"
   ],
   "id": "2487648873e05205",
   "outputs": [
    {
     "data": {
      "text/plain": [
       "True"
      ]
     },
     "execution_count": 2,
     "metadata": {},
     "output_type": "execute_result"
    }
   ],
   "execution_count": 2
  },
  {
   "metadata": {},
   "cell_type": "markdown",
   "source": "Create a function average_salary that takes a list of salaries and returns the average salary. With the salaries set as [95000, 120000, 105000, 90000, 130000].",
   "id": "8f3ff2d44fca7ba"
  },
  {
   "metadata": {
    "ExecuteTime": {
     "end_time": "2024-08-20T13:41:46.923065Z",
     "start_time": "2024-08-20T13:41:46.917167Z"
    }
   },
   "cell_type": "code",
   "source": [
    "def average_salary(list_salaries):\n",
    "    return sum(list_salaries) / len(list_salaries)\n",
    "\n",
    "salaries = [95000, 120000, 105000, 90000, 130000]\n",
    "\n",
    "average_salary(salaries)"
   ],
   "id": "b149beb686b89d30",
   "outputs": [
    {
     "data": {
      "text/plain": [
       "108000.0"
      ]
     },
     "execution_count": 3,
     "metadata": {},
     "output_type": "execute_result"
    }
   ],
   "execution_count": 3
  },
  {
   "metadata": {},
   "cell_type": "markdown",
   "source": "Create a function salary_statistics that takes a list of salaries and returns a dictionary with the minimum, maximum, and average salary. The list of salaries is set to [95000, 120000, 105000, 90000, 130000].",
   "id": "f943d2bd0c45ad3b"
  },
  {
   "metadata": {
    "ExecuteTime": {
     "end_time": "2024-08-20T13:46:07.454499Z",
     "start_time": "2024-08-20T13:46:07.447883Z"
    }
   },
   "cell_type": "code",
   "source": [
    "def salary_statistics(list_salaries):\n",
    "    stats_dict = {\"Minimum\":min(list_salaries), \"Maximum\":max(list_salaries), \"Average\":average_salary(list_salaries)}\n",
    "    return stats_dict\n",
    "    \n",
    "\n",
    "salaries = [95000, 120000, 105000, 90000, 130000]\n",
    "salary_statistics(salaries)\n",
    "\n",
    "\"\"\"\n",
    "    Or:\n",
    "def salary_statistics(salaries):\n",
    "    return {\n",
    "        'min': min(salaries),\n",
    "        'max': max(salaries),\n",
    "        'average': sum(salaries) / len(salaries)\n",
    "    }\n",
    "\"\"\""
   ],
   "id": "344e25ad106fd9d7",
   "outputs": [
    {
     "data": {
      "text/plain": [
       "{'Minimum': 90000, 'Maximum': 130000, 'Average': 108000.0}"
      ]
     },
     "execution_count": 5,
     "metadata": {},
     "output_type": "execute_result"
    }
   ],
   "execution_count": 5
  },
  {
   "metadata": {},
   "cell_type": "markdown",
   "source": "Create a function job_posting_summary that takes a list of job postings, where each posting is a dictionary with keys 'title', 'location', and 'salary', and returns a summary dictionary with the total number of postings, the average salary, and a list of unique locations. The job_postings is set to [{'title': 'Data Scientist', 'location': 'New York', 'salary': 95000}, {'title': 'Data Analyst', 'location': 'San Francisco', 'salary': 85000}, {'title': 'Machine Learning Engineer', 'location': 'New York', 'salary': 115000}].",
   "id": "e24510d21ccd7987"
  },
  {
   "metadata": {
    "ExecuteTime": {
     "end_time": "2024-08-20T14:13:50.147108Z",
     "start_time": "2024-08-20T14:13:50.139766Z"
    }
   },
   "cell_type": "code",
   "source": [
    "def job_posting_summary(list_jobs):\n",
    "    \"\"\"\n",
    "    :param list_jobs: \n",
    "    :return: A dictionary with:\n",
    "             Total number of postings\n",
    "             Average salary\n",
    "             List of unique locations\n",
    "    \"\"\"\n",
    "    postings = len(list_jobs)\n",
    "    ttl_salary = sum(x[\"salary\"] for x in list_jobs)\n",
    "    avg_salary = ttl_salary / postings\n",
    "    locations = list(set(x[\"location\"] for x in list_jobs))\n",
    "\n",
    "    \n",
    "    summary_dict = {\n",
    "         \"Total number of postings\": postings,\n",
    "         \"Average salary\": avg_salary,\n",
    "         \"List of unique locations\": locations\n",
    "    }\n",
    "    return summary_dict\n",
    "\n",
    "job_postings = [\n",
    "    {\"title\": \"Data Scientist\", \"location\": \"New York\", \"salary\": 95000},\n",
    "    {\"title\": \"Data Analyst\", \"location\": \"San Francisco\", \"salary\": 85000},\n",
    "    {\"title\": \"Machine Learning Engineer\", \"location\": \"New York\", \"salary\": 115000}\n",
    "]\n",
    "\n",
    "job_posting_summary(job_postings)"
   ],
   "id": "e3c072c865baf604",
   "outputs": [
    {
     "data": {
      "text/plain": [
       "{'Total number of postings': 3,\n",
       " 'Average salary': 98333.33333333333,\n",
       " 'List of unique locations': ['New York', 'San Francisco']}"
      ]
     },
     "execution_count": 15,
     "metadata": {},
     "output_type": "execute_result"
    }
   ],
   "execution_count": 15
  },
  {
   "metadata": {},
   "cell_type": "markdown",
   "source": "Lambda Functions",
   "id": "87b7ab0bbf436909"
  },
  {
   "metadata": {},
   "cell_type": "markdown",
   "source": "Create a lambda function to calculate the average salary from a list of salaries. With salaries set as [95000, 120000, 105000, 90000, 130000].",
   "id": "a659c22e2ffd87c"
  },
  {
   "metadata": {},
   "cell_type": "markdown",
   "source": "Lambda expression: lambda <input>: <expression>",
   "id": "a8971cb610039954"
  },
  {
   "metadata": {
    "ExecuteTime": {
     "end_time": "2024-08-20T14:18:16.519011Z",
     "start_time": "2024-08-20T14:18:16.514164Z"
    }
   },
   "cell_type": "code",
   "source": [
    "salaries = [95000, 120000, 105000, 90000, 130000]\n",
    "\n",
    "avg_salary = lambda avg: sum(salaries)/len(salaries)\n",
    "print(avg_salary(salaries))"
   ],
   "id": "554bb01d9f072c3",
   "outputs": [
    {
     "name": "stdout",
     "output_type": "stream",
     "text": [
      "108000.0\n"
     ]
    }
   ],
   "execution_count": 19
  },
  {
   "metadata": {},
   "cell_type": "markdown",
   "source": "Create a lambda function to check if a job title contains the word 'Data' and use it to filter a list of job titles. With job_titles set to ['Data Scientist', 'Data Engineer', 'Machine Learning Engineer', 'Data Analyst'].Create a lambda function to check if a job title contains the word 'Data' and use it to filter a list of job titles. With job_titles set to ['Data Scientist', 'Data Engineer', 'Machine Learning Engineer', 'Data Analyst'].",
   "id": "e26d9f6c7b1f83cd"
  },
  {
   "metadata": {
    "ExecuteTime": {
     "end_time": "2024-08-20T14:32:05.154363Z",
     "start_time": "2024-08-20T14:32:05.149438Z"
    }
   },
   "cell_type": "code",
   "source": [
    "job_titles = [\"Data Scientist\", \"Data Engineer\", \"Machine Learning Engineer\", \"Data Analyst\"]\n",
    "\n",
    "contains = lambda title: \"Data\" in title\n",
    "filtered_titles = list(filter(contains, job_titles))\n",
    "print(filtered_titles)"
   ],
   "id": "5336b9e829c78419",
   "outputs": [
    {
     "name": "stdout",
     "output_type": "stream",
     "text": [
      "['Data Scientist', 'Data Engineer', 'Data Analyst']\n"
     ]
    }
   ],
   "execution_count": 27
  },
  {
   "metadata": {},
   "cell_type": "markdown",
   "source": "Create a lambda function to filter remote job postings that require Python skills from a list of job postings. The list for the variable job_postings is shown below.",
   "id": "87dfb1f6e8dfe95c"
  },
  {
   "metadata": {
    "ExecuteTime": {
     "end_time": "2024-08-20T14:37:00.116579Z",
     "start_time": "2024-08-20T14:37:00.110568Z"
    }
   },
   "cell_type": "code",
   "source": [
    "job_postings = [\n",
    "    {\"title\":\"Data Scientist\", \"skills\":[\"Python\", \"SQL\"], \"remote\": True},\n",
    "    {\"title\":\"Data Analyst\", \"skills\":[\"Excel\", \"SQL\"], \"remote\": False},\n",
    "    {\"title\":\"Machine Learning Engineer\", \"skills\":[\"Python\", \"Tensorflow\"], \"remote\": True},\n",
    "    {\"title\":\"Software Developer\", \"skills\":[\"Java\", \"C++\"], \"remote\": True}\n",
    "]\n",
    "\n",
    "contains_python = lambda posting: \"Python\" in posting[\"skills\"] and posting[\"remote\"]\n",
    "filtered_skills = list(filter(contains_python, job_postings))\n",
    "print(filtered_skills)"
   ],
   "id": "c6d432df01e9e32a",
   "outputs": [
    {
     "name": "stdout",
     "output_type": "stream",
     "text": [
      "[{'title': 'Data Scientist', 'skills': ['Python', 'SQL'], 'remote': True}, {'title': 'Machine Learning Engineer', 'skills': ['Python', 'Tensorflow'], 'remote': True}]\n"
     ]
    }
   ],
   "execution_count": 31
  },
  {
   "metadata": {},
   "cell_type": "code",
   "outputs": [],
   "execution_count": null,
   "source": "",
   "id": "a9725953ae32d199"
  }
 ],
 "metadata": {
  "kernelspec": {
   "display_name": "Python 3",
   "language": "python",
   "name": "python3"
  },
  "language_info": {
   "codemirror_mode": {
    "name": "ipython",
    "version": 2
   },
   "file_extension": ".py",
   "mimetype": "text/x-python",
   "name": "python",
   "nbconvert_exporter": "python",
   "pygments_lexer": "ipython2",
   "version": "2.7.6"
  }
 },
 "nbformat": 4,
 "nbformat_minor": 5
}
