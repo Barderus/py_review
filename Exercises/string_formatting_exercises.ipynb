{
 "cells": [
  {
   "metadata": {},
   "cell_type": "markdown",
   "source": "Concatenate the string 'Job Title: ' with the variable job_title which is set to 'Data Scientist'.",
   "id": "1fa331dff593de43"
  },
  {
   "metadata": {
    "ExecuteTime": {
     "end_time": "2024-08-19T03:44:59.651974Z",
     "start_time": "2024-08-19T03:44:59.644375Z"
    }
   },
   "cell_type": "code",
   "source": [
    "job_title = \"Data Scientist\"\n",
    "print(f\"Job title: {job_title}\")"
   ],
   "id": "21429bdff8e8a120",
   "outputs": [
    {
     "name": "stdout",
     "output_type": "stream",
     "text": [
      "Job title: Data Scientist\n"
     ]
    }
   ],
   "execution_count": 1
  },
  {
   "metadata": {},
   "cell_type": "markdown",
   "source": "Format a string to include the variables position and company using f-strings. The variables are set to 'Data Scientist' and 'DataWiz Inc.' respectively. The final string should state: 'Data Scientist at DataWiz'.",
   "id": "af55f7afa0447d8c"
  },
  {
   "metadata": {
    "ExecuteTime": {
     "end_time": "2024-08-19T03:47:51.756629Z",
     "start_time": "2024-08-19T03:47:51.752062Z"
    }
   },
   "cell_type": "code",
   "source": [
    "position = \"Data Scientist\"\n",
    "company = \"DataWiz Inc.\"\n",
    "\n",
    "print(f\"{position} at {company}\")"
   ],
   "id": "1cb2c3bbb2613f12",
   "outputs": [
    {
     "name": "stdout",
     "output_type": "stream",
     "text": [
      "Data Scientist at DataWiz Inc.\n"
     ]
    }
   ],
   "execution_count": 2
  },
  {
   "metadata": {},
   "cell_type": "markdown",
   "source": "Use the str.format() method to format the string to include the variables role and skill. The variables are set to 'Data Analyst' and 'Python' respectively. The final string should state: 'Role: Data Analyst, Skill: Python'",
   "id": "fe2b475f8dca561c"
  },
  {
   "metadata": {
    "ExecuteTime": {
     "end_time": "2024-08-19T03:52:56.627310Z",
     "start_time": "2024-08-19T03:52:56.622893Z"
    }
   },
   "cell_type": "code",
   "source": [
    "role = \"Data Analyst\"\n",
    "skill = \"Python\"\n",
    "print(\"Role: {}, Skill: {}\".format(role, skill))"
   ],
   "id": "ecf7e9dca87100b6",
   "outputs": [
    {
     "name": "stdout",
     "output_type": "stream",
     "text": [
      "Role: Data Analyst, Skill: Python\n"
     ]
    }
   ],
   "execution_count": 4
  },
  {
   "metadata": {
    "ExecuteTime": {
     "end_time": "2024-08-19T03:54:40.645805Z",
     "start_time": "2024-08-19T03:54:40.641288Z"
    }
   },
   "cell_type": "code",
   "source": [
    "role = \"Data Engineer\"\n",
    "skill = \"SQL\"\n",
    "print(\"Role: %s, Skill: %s\" % (role, skill))"
   ],
   "id": "da627b466de2e679",
   "outputs": [
    {
     "name": "stdout",
     "output_type": "stream",
     "text": [
      "Role: Data Engineer, Skill: SQL\n"
     ]
    }
   ],
   "execution_count": 5
  },
  {
   "metadata": {},
   "cell_type": "code",
   "outputs": [],
   "execution_count": null,
   "source": "",
   "id": "e16dbb09da09af0f"
  }
 ],
 "metadata": {
  "kernelspec": {
   "display_name": "Python 3",
   "language": "python",
   "name": "python3"
  },
  "language_info": {
   "codemirror_mode": {
    "name": "ipython",
    "version": 2
   },
   "file_extension": ".py",
   "mimetype": "text/x-python",
   "name": "python",
   "nbconvert_exporter": "python",
   "pygments_lexer": "ipython2",
   "version": "2.7.6"
  }
 },
 "nbformat": 4,
 "nbformat_minor": 5
}
