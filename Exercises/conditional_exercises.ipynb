{
 "cells": [
  {
   "metadata": {},
   "cell_type": "markdown",
   "source": [
    "Output someone's skill level based on the number of years someone has been using Python. Use the following criteria:\n",
    "\n",
    "Less than 2 years is 'Beginner'\n",
    "2 or more years is 'Intermediate'\n",
    "Set the variable python_experience to 3 and test this variable in the if statement."
   ],
   "id": "d0623d9cff4b51f"
  },
  {
   "metadata": {
    "ExecuteTime": {
     "end_time": "2024-08-19T04:21:57.582326Z",
     "start_time": "2024-08-19T04:21:57.574864Z"
    }
   },
   "cell_type": "code",
   "source": [
    "python_experience = 3\n",
    "\n",
    "if python_experience < 2:\n",
    "    print(\"Beginner\")\n",
    "else:\n",
    "    print(\"Intermediate\")"
   ],
   "id": "eabff59470c0e937",
   "outputs": [
    {
     "name": "stdout",
     "output_type": "stream",
     "text": [
      "Intermediate\n"
     ]
    }
   ],
   "execution_count": 1
  },
  {
   "metadata": {},
   "cell_type": "markdown",
   "source": [
    "Output someone's skill level based on the number of data science tools they know. Use the following criteria:\n",
    "\n",
    "0-1 tools is 'Beginner'\n",
    "2-4 tools is 'Intermediate'\n",
    "More than 4 tools is 'Advanced'\n",
    "The variable tools_known is set to 3 to test with the if statement."
   ],
   "id": "4190a68d6a9570d9"
  },
  {
   "metadata": {
    "ExecuteTime": {
     "end_time": "2024-08-19T04:24:47.413250Z",
     "start_time": "2024-08-19T04:24:47.408537Z"
    }
   },
   "cell_type": "code",
   "source": [
    "tools_known = 3\n",
    "\n",
    "if tools_known <= 1:\n",
    "    print(\"Beginner\")\n",
    "elif tools_known <= 4:\n",
    "    print(\"Intermediate\")\n",
    "else:\n",
    "    print(\"Advanced\")"
   ],
   "id": "6c68a2c3a332cf9b",
   "outputs": [
    {
     "name": "stdout",
     "output_type": "stream",
     "text": [
      "Intermediate\n"
     ]
    }
   ],
   "execution_count": 2
  },
  {
   "metadata": {},
   "cell_type": "markdown",
   "source": [
    "Determine the job title based on years of job experience and years of SQL experience. The variable job_experience is set to 4 and sql_experience is set to 2. Use the following criteria:\n",
    "\n",
    "Less than 2 years of job experience is 'Junior Analyst'.\n",
    "2 to 5 years of job experience and 1 year of SQL experience is 'Intermediate Analyst'.\n",
    "2 to 5 years of job experience and 2 or more years of SQL experience is 'Senior Analyst'.\n",
    "More than 5 years of job experience and 3 or more years of SQL experience is 'Lead Analyst'.\n",
    "More than 5 years of job experience and less than 3 years of SQL experience is 'Data Analyst'."
   ],
   "id": "570821b38423d075"
  },
  {
   "metadata": {
    "ExecuteTime": {
     "end_time": "2024-08-19T04:41:26.989899Z",
     "start_time": "2024-08-19T04:41:26.985008Z"
    }
   },
   "cell_type": "code",
   "source": [
    "job_experience = 4\n",
    "sql_experience = 2\n",
    "\n",
    "if job_experience > 5 and sql_experience >= 3:\n",
    "    print(\"Lead analyst\")\n",
    "elif job_experience > 5 and sql_experience < 3:\n",
    "    print(\"Data Analyst\")\n",
    "elif  job_experience >2 and sql_experience >= 2:\n",
    "    print(\"Senior Analyst\")\n",
    "elif  job_experience >= 2 and sql_experience == 1:\n",
    "    print(\"Intermediate Analyst\")\n",
    "else:\n",
    "    print(\"Junior Analyst\")"
   ],
   "id": "5405ce3a91e20c73",
   "outputs": [
    {
     "name": "stdout",
     "output_type": "stream",
     "text": [
      "Senior Analyst\n"
     ]
    }
   ],
   "execution_count": 10
  },
  {
   "metadata": {},
   "cell_type": "code",
   "outputs": [],
   "execution_count": null,
   "source": "",
   "id": "6aefbe8260365d3c"
  }
 ],
 "metadata": {
  "kernelspec": {
   "display_name": "Python 3",
   "language": "python",
   "name": "python3"
  },
  "language_info": {
   "codemirror_mode": {
    "name": "ipython",
    "version": 2
   },
   "file_extension": ".py",
   "mimetype": "text/x-python",
   "name": "python",
   "nbconvert_exporter": "python",
   "pygments_lexer": "ipython2",
   "version": "2.7.6"
  }
 },
 "nbformat": 4,
 "nbformat_minor": 5
}
