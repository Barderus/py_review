{
 "cells": [
  {
   "cell_type": "markdown",
   "id": "8f68ac9c83726ae4",
   "metadata": {},
   "source": [
    "Calculate the total annual salary for a data scientist given the monthly salary. The variable monthly_salary is set to 8000."
   ]
  },
  {
   "cell_type": "code",
   "execution_count": 1,
   "id": "a74071bfab6d1129",
   "metadata": {
    "ExecuteTime": {
     "end_time": "2024-08-19T04:01:45.254020Z",
     "start_time": "2024-08-19T04:01:45.246589Z"
    }
   },
   "outputs": [
    {
     "name": "stdout",
     "output_type": "stream",
     "text": [
      "Annual Salary: 96000\n"
     ]
    }
   ],
   "source": [
    "monthly_salary = 8000\n",
    "annual_salary = monthly_salary * 12\n",
    "print(f\"Annual Salary: {annual_salary}\")"
   ]
  },
  {
   "cell_type": "markdown",
   "id": "c7896d41d7834b1",
   "metadata": {},
   "source": [
    "Determine if the average salary of a data analyst is greater than that of a data scientist. The variables avg_salary_analyst and avg_salary_scientist are set to 70000 and 85000 respectively."
   ]
  },
  {
   "cell_type": "code",
   "execution_count": 2,
   "id": "77bca056e2c167ed",
   "metadata": {
    "ExecuteTime": {
     "end_time": "2024-08-19T04:07:29.110251Z",
     "start_time": "2024-08-19T04:07:29.105852Z"
    }
   },
   "outputs": [
    {
     "name": "stdout",
     "output_type": "stream",
     "text": [
      "The average salary of Data Analyst is smaller than Data Scientist's \n"
     ]
    }
   ],
   "source": [
    "avg_salary_analyst = 70000\n",
    "avg_salary_scientist = 85000\n",
    "\n",
    "if avg_salary_analyst > avg_salary_scientist:\n",
    "    print(f\"The average salary of Data Analyst is bigger than Data Scientist's \")\n",
    "else:\n",
    "    print(f\"The average salary of Data Analyst is smaller than Data Scientist's \")"
   ]
  },
  {
   "cell_type": "markdown",
   "id": "2e7d5afdc3ffb369",
   "metadata": {},
   "source": [
    "Calculate the remainder when the total number of job applications (variable total_applications is set to 123) is divided by the number of job openings (variable job_openings is set to 67)."
   ]
  },
  {
   "cell_type": "code",
   "execution_count": 3,
   "id": "7c49156ea4a0eaee",
   "metadata": {
    "ExecuteTime": {
     "end_time": "2024-08-19T04:10:37.264902Z",
     "start_time": "2024-08-19T04:10:37.261595Z"
    }
   },
   "outputs": [
    {
     "name": "stdout",
     "output_type": "stream",
     "text": [
      "56\n"
     ]
    }
   ],
   "source": [
    "total_applications = 123\n",
    "job_openings = 67\n",
    "remainder = total_applications % job_openings\n",
    "\n",
    "print(remainder)"
   ]
  },
  {
   "cell_type": "code",
   "execution_count": 4,
   "id": "a091a5ddd402fd3c",
   "metadata": {
    "ExecuteTime": {
     "end_time": "2024-08-19T04:12:56.325072Z",
     "start_time": "2024-08-19T04:12:56.320580Z"
    }
   },
   "outputs": [
    {
     "name": "stdout",
     "output_type": "stream",
     "text": [
      "25\n"
     ]
    }
   ],
   "source": [
    "job_posting = 20\n",
    "job_posting += 5\n",
    "print(job_posting)"
   ]
  },
  {
   "cell_type": "markdown",
   "id": "e9845c8ba0d6b262",
   "metadata": {},
   "source": [
    "Calculate the average salary from the minimum and maximum salaries. The variables min_salary and max_salary are set to 50000 and 120000 respectively."
   ]
  },
  {
   "cell_type": "code",
   "execution_count": 5,
   "id": "57a43f91e0d026b9",
   "metadata": {
    "ExecuteTime": {
     "end_time": "2024-08-19T04:14:38.629753Z",
     "start_time": "2024-08-19T04:14:38.625635Z"
    }
   },
   "outputs": [
    {
     "name": "stdout",
     "output_type": "stream",
     "text": [
      "85000.0\n"
     ]
    }
   ],
   "source": [
    "min_salary = 50000\n",
    "max_salary = 120000\n",
    "\n",
    "average_salary = (min_salary + max_salary) / 2\n",
    "print(average_salary)"
   ]
  },
  {
   "cell_type": "markdown",
   "id": "cfb2415bb17d0268",
   "metadata": {},
   "source": [
    "Operators part 2"
   ]
  },
  {
   "cell_type": "markdown",
   "id": "fe5770e37a36d68c",
   "metadata": {},
   "source": [
    "Determine if the job location 'New York' is in the list of job_locations ['New York', 'San Francisco', 'Austin'] and print the result."
   ]
  },
  {
   "cell_type": "code",
   "execution_count": null,
   "id": "6504a59ff3a39c46",
   "metadata": {},
   "outputs": [],
   "source": [
    "job_location = [\"New York\", \"San Francisco\", \"Austin\"]\n",
    "\n",
    "print(\"New York\" in job_location)"
   ]
  },
  {
   "cell_type": "markdown",
   "id": "a052737cdb196b62",
   "metadata": {},
   "source": [
    "Check if the job_title 'Data Analyst' is not in the job_description string 'Data Scientist at Tech Corp' and print the result.\n"
   ]
  },
  {
   "cell_type": "code",
   "execution_count": null,
   "id": "edec12bd3922e10",
   "metadata": {},
   "outputs": [],
   "source": [
    "job_title = \"Data Analyst\"\n",
    "job_description = \"Data Scientist at Tech Corp\"\n",
    "\n",
    "print(job_title not in job_description)"
   ]
  },
  {
   "cell_type": "markdown",
   "id": "801285093d5bda3f",
   "metadata": {},
   "source": [
    "Check if both 'Data Scientist' and 'Machine Learning Engineer' are in the list of job titles ['Data Scientist', 'Data Analyst', 'Machine Learning Engineer'] and print the result."
   ]
  },
  {
   "cell_type": "code",
   "execution_count": 2,
   "id": "ea8baa8a5a84951a",
   "metadata": {},
   "outputs": [
    {
     "name": "stdout",
     "output_type": "stream",
     "text": [
      "False\n"
     ]
    }
   ],
   "source": [
    "job_title = [\"Data Scientist\", \"Data Analyst\", \"Machine Learning Engineer\"]\n",
    "print(\"Data Scientist\" in job_title and \"Machine Learning Engineer\" in job_title)"
   ]
  },
  {
   "cell_type": "code",
   "execution_count": null,
   "id": "8d7a360f8f9c6764",
   "metadata": {},
   "outputs": [],
   "source": []
  }
 ],
 "metadata": {
  "kernelspec": {
   "display_name": "Python 3 (ipykernel)",
   "language": "python",
   "name": "python3"
  },
  "language_info": {
   "codemirror_mode": {
    "name": "ipython",
    "version": 3
   },
   "file_extension": ".py",
   "mimetype": "text/x-python",
   "name": "python",
   "nbconvert_exporter": "python",
   "pygments_lexer": "ipython3",
   "version": "3.11.9"
  }
 },
 "nbformat": 4,
 "nbformat_minor": 5
}
