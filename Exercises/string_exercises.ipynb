{
 "cells": [
  {
   "metadata": {},
   "cell_type": "markdown",
   "source": [
    "Convert the string job_title to uppercase. The variable is set to 'data scientist'.\n",
    "\n"
   ],
   "id": "e721aee1b7d1b96b"
  },
  {
   "metadata": {
    "ExecuteTime": {
     "end_time": "2024-08-19T03:34:36.972375Z",
     "start_time": "2024-08-19T03:34:36.968211Z"
    }
   },
   "cell_type": "code",
   "source": [
    "job_title = \"data scientist\"\n",
    "upper_job_title = job_title.upper()\n",
    "print(upper_job_title)"
   ],
   "id": "c525345f0cf98daa",
   "outputs": [
    {
     "name": "stdout",
     "output_type": "stream",
     "text": [
      "DATA SCIENTIST\n"
     ]
    }
   ],
   "execution_count": 3
  },
  {
   "metadata": {
    "ExecuteTime": {
     "end_time": "2024-08-19T03:35:52.790083Z",
     "start_time": "2024-08-19T03:35:52.786316Z"
    }
   },
   "cell_type": "code",
   "source": [
    "job_title = \"Data Analyst\"\n",
    "new_job_title = job_title.replace(\"Analyst\", \"Engineer\")\n",
    "print(new_job_title)"
   ],
   "id": "92cac42a254eb587",
   "outputs": [
    {
     "name": "stdout",
     "output_type": "stream",
     "text": [
      "Data Engineer\n"
     ]
    }
   ],
   "execution_count": 4
  },
  {
   "metadata": {},
   "cell_type": "markdown",
   "source": "Concatenate the strings seniority_level and job_title with a space in between. The variables are set to 'Senior' and 'Data Analyst' respectively.",
   "id": "96e78f1fa2e4b62c"
  },
  {
   "metadata": {
    "ExecuteTime": {
     "end_time": "2024-08-19T03:37:07.718618Z",
     "start_time": "2024-08-19T03:37:07.714294Z"
    }
   },
   "cell_type": "code",
   "source": [
    "seniority_level = \"Senior\"\n",
    "job_title = \"Data Analyst\"\n",
    "\n",
    "print(seniority_level, job_title)"
   ],
   "id": "66b0eb17cdf5d4b7",
   "outputs": [
    {
     "name": "stdout",
     "output_type": "stream",
     "text": [
      "Senior Data Analyst\n"
     ]
    }
   ],
   "execution_count": 5
  },
  {
   "metadata": {},
   "cell_type": "markdown",
   "source": "Check the length of a string job_title. The variable is set to 'Data Scientist'.",
   "id": "5b58e03f7407918c"
  },
  {
   "metadata": {
    "ExecuteTime": {
     "end_time": "2024-08-19T03:38:17.301013Z",
     "start_time": "2024-08-19T03:38:17.296933Z"
    }
   },
   "cell_type": "code",
   "source": [
    "job_title = \"Data Scientist\"\n",
    "print(len(job_title))"
   ],
   "id": "27757455a41ec3d5",
   "outputs": [
    {
     "name": "stdout",
     "output_type": "stream",
     "text": [
      "14\n"
     ]
    }
   ],
   "execution_count": 6
  },
  {
   "metadata": {},
   "cell_type": "markdown",
   "source": "Convert the string job_title to lowercase. The variable is set to 'DATA ENGINEER'.",
   "id": "635baaa16d6c1266"
  },
  {
   "metadata": {
    "ExecuteTime": {
     "end_time": "2024-08-19T03:40:35.198939Z",
     "start_time": "2024-08-19T03:40:35.195380Z"
    }
   },
   "cell_type": "code",
   "source": [
    "job_title = \"DATA ENGINEER\"\n",
    "lower_job_title = job_title.lower()\n",
    "print(lower_job_title)"
   ],
   "id": "7bc8ab5520080c62",
   "outputs": [
    {
     "name": "stdout",
     "output_type": "stream",
     "text": [
      "data engineer\n"
     ]
    }
   ],
   "execution_count": 7
  }
 ],
 "metadata": {
  "kernelspec": {
   "display_name": "Python 3",
   "language": "python",
   "name": "python3"
  },
  "language_info": {
   "codemirror_mode": {
    "name": "ipython",
    "version": 2
   },
   "file_extension": ".py",
   "mimetype": "text/x-python",
   "name": "python",
   "nbconvert_exporter": "python",
   "pygments_lexer": "ipython2",
   "version": "2.7.6"
  }
 },
 "nbformat": 4,
 "nbformat_minor": 5
}
