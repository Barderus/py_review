{
 "cells": [
  {
   "metadata": {},
   "cell_type": "markdown",
   "source": [
    "Create a class named JobPosting with attributes title, company, and location.\n",
    "Create an instance of an object (called job) of this class with the title 'Data Scientist', company 'Tech Innovations', and location 'New York'.\n",
    "Print the attributes of the object."
   ],
   "id": "9109f6b2f4366b14"
  },
  {
   "cell_type": "code",
   "id": "initial_id",
   "metadata": {
    "collapsed": true,
    "ExecuteTime": {
     "end_time": "2024-08-20T15:05:53.178545Z",
     "start_time": "2024-08-20T15:05:53.174030Z"
    }
   },
   "source": [
    "class JobPosting():\n",
    "    def __init__(self, title, company, location):\n",
    "        self.title = title\n",
    "        self.company = company\n",
    "        self.location = location\n",
    "        \n",
    "job = JobPosting(\"Data Scientist\", \"Tech Innovations\", \"New York\")\n",
    "print(job.title)\n",
    "print(job.company)\n",
    "print(job.location)"
   ],
   "outputs": [
    {
     "name": "stdout",
     "output_type": "stream",
     "text": [
      "Data Scientist\n",
      "Tech Innovations\n",
      "New York\n"
     ]
    }
   ],
   "execution_count": 4
  },
  {
   "metadata": {},
   "cell_type": "markdown",
   "source": [
    "Create a class named JobPosting with a method to_dict that converts the job posting details to a dictionary.\n",
    "Instantiate an object (called job) of this class with the title 'Data Scientist', company 'Tech Innovations', location 'New York', and salary as 120000.\n",
    "Convert its details to a dictionary using the to_dict method.\n",
    "Print the dictionary."
   ],
   "id": "1c7e2a95291ffbe7"
  },
  {
   "metadata": {
    "ExecuteTime": {
     "end_time": "2024-08-20T15:10:18.439414Z",
     "start_time": "2024-08-20T15:10:18.435221Z"
    }
   },
   "cell_type": "code",
   "source": [
    "class jobPosting():\n",
    "    def __init__(self, title, company, location, salary):\n",
    "        self.title = title\n",
    "        self.company = company\n",
    "        self.location = location\n",
    "        self.salary = salary\n",
    "    \n",
    "    def to_dict(self):\n",
    "        return {\"title\": self.title, \"company\": self.company, \"location\": self.location, \"salary\": self.salary}\n",
    "    \n",
    "job = jobPosting(\"Data Scientist\", \"Tech Innovations\", \"New York\", 120000)\n",
    "print(job.to_dict())"
   ],
   "id": "fcfb634d5c5aeaa3",
   "outputs": [
    {
     "name": "stdout",
     "output_type": "stream",
     "text": [
      "{'title': 'Data Scientist', 'company': 'Tech Innovations', 'location': 'New York', 'salary': 120000}\n"
     ]
    }
   ],
   "execution_count": 6
  },
  {
   "metadata": {},
   "cell_type": "markdown",
   "source": [
    "Create a class named JobPosting with a method compare_salary that compares the salary of two job postings and returns the title of the job with the higher salary.\n",
    "Instantiate two objects called job1 and job2 of this class and compare their salaries using the compare_salary method.\n",
    "The two objects are defined below in the code needed."
   ],
   "id": "cfb0de21bf8d5086"
  },
  {
   "metadata": {
    "ExecuteTime": {
     "end_time": "2024-08-20T15:17:48.416699Z",
     "start_time": "2024-08-20T15:17:48.410844Z"
    }
   },
   "cell_type": "code",
   "source": [
    "class jobPosting():\n",
    "    def __init__(self, title, company, location, salary):\n",
    "        self.title = title\n",
    "        self.company = company\n",
    "        self.location = location\n",
    "        self.salary = salary\n",
    "        \n",
    "        \n",
    "    def compare_salary(self, job2):\n",
    "        if self.salary == job2.salary:\n",
    "            return \"Salaries are the same\"\n",
    "        elif self.salary > job2.salary:\n",
    "            return f\"{self.title}'s salary is higher\"\n",
    "        else:\n",
    "            return f\"{job2.title}'s salary is higher\"\n",
    "    \n",
    "job1 = jobPosting(\"Data Scientist\", \"Tech Innovations\", \"New York\", 120000)\n",
    "job2 = jobPosting(\"Data Analyst\", \"Data Driven Co.\", \"San Francisco\", 1000000)\n",
    "\n",
    "print(job1.compare_salary(job2))"
   ],
   "id": "3b8991daf632537d",
   "outputs": [
    {
     "name": "stdout",
     "output_type": "stream",
     "text": [
      "Data Analyst's salary is lower\n"
     ]
    }
   ],
   "execution_count": 15
  },
  {
   "metadata": {},
   "cell_type": "code",
   "outputs": [],
   "execution_count": null,
   "source": "",
   "id": "aaf558d99015600"
  }
 ],
 "metadata": {
  "kernelspec": {
   "display_name": "Python 3",
   "language": "python",
   "name": "python3"
  },
  "language_info": {
   "codemirror_mode": {
    "name": "ipython",
    "version": 2
   },
   "file_extension": ".py",
   "mimetype": "text/x-python",
   "name": "python",
   "nbconvert_exporter": "python",
   "pygments_lexer": "ipython2",
   "version": "2.7.6"
  }
 },
 "nbformat": 4,
 "nbformat_minor": 5
}
