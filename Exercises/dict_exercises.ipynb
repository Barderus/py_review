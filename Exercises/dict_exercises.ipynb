{
 "cells": [
  {
   "metadata": {},
   "cell_type": "markdown",
   "source": "Access the value of the number of job postings for the key 'Data Analyst' from the dictionary job_postings and print it. The dictonary job_postings is set to {'Data Scientist': 120, 'Data Analyst': 80, 'Machine Learning Engineer': 50}.",
   "id": "2ee08b15c7fc6bc3"
  },
  {
   "metadata": {
    "ExecuteTime": {
     "end_time": "2024-08-19T12:48:02.064677Z",
     "start_time": "2024-08-19T12:48:02.045778Z"
    }
   },
   "cell_type": "code",
   "source": [
    "job_postings = {\"Data Scientist\": 120, \"Data Analyst\": 80, \"Machine Learning Engineer\": 50}\n",
    "\n",
    "print(job_postings[\"Data Analyst\"])\n"
   ],
   "id": "97af86ccaa5fa76e",
   "outputs": [
    {
     "name": "stdout",
     "output_type": "stream",
     "text": [
      "80\n"
     ]
    }
   ],
   "execution_count": 1
  },
  {
   "metadata": {},
   "cell_type": "markdown",
   "source": "Add a new job role under the key 'AI Specialist' with a value of 30 postings to the dictionary job_postings and print the updated dictionary. The dictionary job_postings is set to {'Data Scientist': 120, 'Data Analyst': 80, 'Machine Learning Engineer': 50}.",
   "id": "143f3b421e027f93"
  },
  {
   "metadata": {
    "ExecuteTime": {
     "end_time": "2024-08-19T12:51:48.190596Z",
     "start_time": "2024-08-19T12:51:48.183563Z"
    }
   },
   "cell_type": "code",
   "source": [
    "job_postings = {\"Data Scientist\": 120, \"Data Analyst\": 80, \"Machine Learning Engineer\": 50}\n",
    "\n",
    "job_postings[\"AI Specialist\"] = 30\n",
    "print(job_postings)\n",
    "\n",
    "# OR\n",
    "job_postings.update({\"AI Specialist\": 30})\n",
    "print(job_postings)"
   ],
   "id": "dc064199f80e2074",
   "outputs": [
    {
     "name": "stdout",
     "output_type": "stream",
     "text": [
      "{'Data Scientist': 120, 'Data Analyst': 80, 'Machine Learning Engineer': 50, 'AI Specialist': 30}\n",
      "{'Data Scientist': 120, 'Data Analyst': 80, 'Machine Learning Engineer': 50, 'AI Specialist': 30}\n"
     ]
    }
   ],
   "execution_count": 6
  },
  {
   "metadata": {},
   "cell_type": "markdown",
   "source": "Remove the job role 'Machine Learning Engineer' from the dictionary job_postings and print the updated dictionary. The dictonary job_postings is set to {'Data Scientist': 120, 'Data Analyst': 80, 'Machine Learning Engineer': 50}.",
   "id": "cf1e9d670c5fd75b"
  },
  {
   "metadata": {
    "ExecuteTime": {
     "end_time": "2024-08-19T12:53:41.134684Z",
     "start_time": "2024-08-19T12:53:41.126598Z"
    }
   },
   "cell_type": "code",
   "source": [
    "job_postings = {\"Data Scientist\": 120, \"Data Analyst\": 80, \"Machine Learning Engineer\": 50}\n",
    "\n",
    "job_postings.pop(\"Machine Learning Engineer\")\n",
    "print(job_postings)"
   ],
   "id": "a73afd62fc245035",
   "outputs": [
    {
     "name": "stdout",
     "output_type": "stream",
     "text": [
      "{'Data Scientist': 120, 'Data Analyst': 80}\n"
     ]
    }
   ],
   "execution_count": 7
  },
  {
   "metadata": {},
   "cell_type": "markdown",
   "source": "Merge two dictionaries job_postings1 and job_postings2 containing job roles and their postings. With job_postings1 set to {'Data Scientist': 120, 'Data Analyst': 80} and job_postings2 to {'Machine Learning Engineer': 50, 'AI Specialist': 30}. Print the merged dictionary.",
   "id": "53257830f4f99ae"
  },
  {
   "metadata": {
    "ExecuteTime": {
     "end_time": "2024-08-19T12:58:51.499866Z",
     "start_time": "2024-08-19T12:58:51.490504Z"
    }
   },
   "cell_type": "code",
   "source": [
    "job_postings1 = {\"Data Scientist\": 120, \"Data Analyst\": 80}\n",
    "job_postings2 = {\"Machine Learning Engineer\": 50, \"AI Specialist\": 30}\n",
    "\n",
    "job_postings1.update(job_postings2)\n",
    "print(job_postings1)"
   ],
   "id": "ab21a1aefd55505d",
   "outputs": [
    {
     "name": "stdout",
     "output_type": "stream",
     "text": [
      "{'Data Scientist': 120, 'Data Analyst': 80, 'Machine Learning Engineer': 50, 'AI Specialist': 30}\n"
     ]
    }
   ],
   "execution_count": 8
  },
  {
   "metadata": {},
   "cell_type": "markdown",
   "source": "Create a nested dictionary job_details where each key is a job role and the value is another dictionary containing 'postings' and 'average_salary'. The details for each are: 'Data Scientist' has 120 postings and an average salary of 120000; 'Data Analyst' has 80 postings and an average salary of 80000; Machine Learning Engineer has 50 postings and average salary of 110000. Print the nested dictionary.",
   "id": "ce7a1b3ee5e2699e"
  },
  {
   "metadata": {
    "ExecuteTime": {
     "end_time": "2024-08-19T22:52:12.837664Z",
     "start_time": "2024-08-19T22:52:12.832943Z"
    }
   },
   "cell_type": "code",
   "source": [
    "job_details = {\n",
    "    \"Data Scientist\":\n",
    "        { \"postings\": 120,\n",
    "          \"average_salary\": 120000\n",
    "        },\n",
    "    \"Data Analyst\":\n",
    "        {\n",
    "            \"postings\": 80,\n",
    "            \"average_salary\": 80000\n",
    "        },\n",
    "    \"Machine Learning Engineer\":\n",
    "        {\n",
    "          \"postings\": 50,\n",
    "          \"average_salary\": 110000\n",
    "        }\n",
    "}\n",
    "for key, value in job_details.items():\n",
    "    print(f\"{key}: {value}\")"
   ],
   "id": "42be4d4e7854d7a8",
   "outputs": [
    {
     "name": "stdout",
     "output_type": "stream",
     "text": [
      "Data Scientist: {'postings': 120, 'average_salary': 120000}\n",
      "Data Analyst: {'postings': 80, 'average_salary': 80000}\n",
      "Machine Learning Engineer: {'postings': 50, 'average_salary': 110000}\n"
     ]
    }
   ],
   "execution_count": 2
  }
 ],
 "metadata": {
  "kernelspec": {
   "display_name": "Python 3",
   "language": "python",
   "name": "python3"
  },
  "language_info": {
   "codemirror_mode": {
    "name": "ipython",
    "version": 2
   },
   "file_extension": ".py",
   "mimetype": "text/x-python",
   "name": "python",
   "nbconvert_exporter": "python",
   "pygments_lexer": "ipython2",
   "version": "2.7.6"
  }
 },
 "nbformat": 4,
 "nbformat_minor": 5
}
