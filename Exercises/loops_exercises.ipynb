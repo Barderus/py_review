{
 "cells": [
  {
   "metadata": {},
   "cell_type": "markdown",
   "source": "Print the job titles from the list job_titles using a for loop. The list job_titles is set to ['Data Scientist', 'Data Analyst', 'Machine Learning Engineer'].",
   "id": "82f46411c2a401aa"
  },
  {
   "metadata": {
    "ExecuteTime": {
     "end_time": "2024-08-20T00:44:53.728645Z",
     "start_time": "2024-08-20T00:44:53.721247Z"
    }
   },
   "cell_type": "code",
   "source": [
    "job_titles = [\"Data Scientist\", \"Data Analyst\", \"Machine Learning Engineer\"]\n",
    "\n",
    "for title in range(0, len(job_titles)):\n",
    "    print(job_titles[title])"
   ],
   "id": "decc0b95cc50100b",
   "outputs": [
    {
     "name": "stdout",
     "output_type": "stream",
     "text": [
      "Data Scientist\n",
      "Data Analyst\n",
      "Machine Learning Engineer\n"
     ]
    }
   ],
   "execution_count": 1
  },
  {
   "metadata": {},
   "cell_type": "markdown",
   "source": "Calculate the total number of job postings from a list using a while loop. The list of job postings is [5, 10, 15, 20, 25].",
   "id": "76074a30ba8995e1"
  },
  {
   "metadata": {
    "ExecuteTime": {
     "end_time": "2024-08-20T00:46:33.461203Z",
     "start_time": "2024-08-20T00:46:33.456686Z"
    }
   },
   "cell_type": "code",
   "source": [
    "job_postings = [5, 10, 15, 20, 25]\n",
    "total_postings = 0\n",
    "\n",
    "for posting in range(0, len(job_postings)):\n",
    "    total_postings += job_postings[posting]\n",
    "    \n",
    "print(total_postings)"
   ],
   "id": "2b2daeefc7aff54c",
   "outputs": [
    {
     "name": "stdout",
     "output_type": "stream",
     "text": [
      "75\n"
     ]
    }
   ],
   "execution_count": 2
  },
  {
   "metadata": {},
   "cell_type": "markdown",
   "source": "Print the job titles from the list job_titles along with their index using a for loop and the enumerate() function. The list job_titles is set to ['Data Scientist', 'Data Analyst', 'Machine Learning Engineer'].",
   "id": "c1771637e755b5c4"
  },
  {
   "metadata": {
    "ExecuteTime": {
     "end_time": "2024-08-20T00:48:58.229298Z",
     "start_time": "2024-08-20T00:48:58.224599Z"
    }
   },
   "cell_type": "code",
   "source": [
    "job_titles = [\"Data Scientist\", \"Data Analyst\", \"Machine Learning Engineer\"]\n",
    "\n",
    "for index, title in enumerate(job_titles):\n",
    "    print(f\"{index+1}. {title}\")"
   ],
   "id": "51cd93b19d2af72c",
   "outputs": [
    {
     "name": "stdout",
     "output_type": "stream",
     "text": [
      "1. Data Scientist\n",
      "2. Data Analyst\n",
      "3. Machine Learning Engineer\n"
     ]
    }
   ],
   "execution_count": 4
  },
  {
   "metadata": {},
   "cell_type": "markdown",
   "source": "Use a while loop to find the first job title that contains the word 'Engineer'. The list of job titles is ['Data Scientist', 'Data Analyst', 'Machine Learning Engineer', 'Software Engineer'].",
   "id": "8682c2b93a3d4651"
  },
  {
   "metadata": {
    "ExecuteTime": {
     "end_time": "2024-08-20T00:52:19.535713Z",
     "start_time": "2024-08-20T00:52:19.531882Z"
    }
   },
   "cell_type": "code",
   "source": [
    "job_titles = [\"Data Scientist\", \"Data Analyst\", \"Machine Learning Engineer\", \"Software Engineer\"]\n",
    "i = 0\n",
    "while True:\n",
    "    if \"Engineer\" in job_titles[i]:\n",
    "        print(job_titles[i])\n",
    "        break\n",
    "    else:\n",
    "        i += 1"
   ],
   "id": "81b605c28f803a97",
   "outputs": [
    {
     "name": "stdout",
     "output_type": "stream",
     "text": [
      "Machine Learning Engineer\n"
     ]
    }
   ],
   "execution_count": 6
  },
  {
   "metadata": {},
   "cell_type": "markdown",
   "source": "You have the following dictionary of positions_skills which is set to {'Data Scientist': ['Python', 'R'], 'Data Analyst': ['SQL', 'Excel'], 'Machine Learning Engineer': ['Python', 'TensorFlow']}. The keys are a data science position, and the values are a list of skills required for the position. Print a message for each individual skill required for these data science positions (e.g., \"The role of Data Scientist requires proficiency in Python\").",
   "id": "1d6c3d586f4ec1f2"
  },
  {
   "metadata": {
    "ExecuteTime": {
     "end_time": "2024-08-20T00:55:26.185123Z",
     "start_time": "2024-08-20T00:55:26.181089Z"
    }
   },
   "cell_type": "code",
   "source": [
    "position_skills = {\n",
    "    \"Data Scientist\": [\"Python\", \"R\"],\n",
    "    \"Data Analyst\": [\"SQL\", \"Excel\"],\n",
    "    \"Machine Learning Engineer\": [\"Python\", \"Tensorflow\"]\n",
    "}\n",
    "for key, value in position_skills.items():\n",
    "    print(f\"The role of {key} requires proficiency in {value}\")"
   ],
   "id": "90296e60a012eb8c",
   "outputs": [
    {
     "name": "stdout",
     "output_type": "stream",
     "text": [
      "The role of Data Scientist requires proficiency in ['Python', 'R']\n",
      "The role of Data Analyst requires proficiency in ['SQL', 'Excel']\n",
      "The role of Machine Learning Engineer requires proficiency in ['Python', 'Tensorflow']\n"
     ]
    }
   ],
   "execution_count": 7
  },
  {
   "metadata": {},
   "cell_type": "code",
   "outputs": [],
   "execution_count": null,
   "source": "",
   "id": "47661ba7db4d97a"
  }
 ],
 "metadata": {
  "kernelspec": {
   "display_name": "Python 3",
   "language": "python",
   "name": "python3"
  },
  "language_info": {
   "codemirror_mode": {
    "name": "ipython",
    "version": 2
   },
   "file_extension": ".py",
   "mimetype": "text/x-python",
   "name": "python",
   "nbconvert_exporter": "python",
   "pygments_lexer": "ipython2",
   "version": "2.7.6"
  }
 },
 "nbformat": 4,
 "nbformat_minor": 5
}
