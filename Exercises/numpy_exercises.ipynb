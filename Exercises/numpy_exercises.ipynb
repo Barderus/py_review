{
 "cells": [
  {
   "metadata": {},
   "cell_type": "markdown",
   "source": "Exercises to practice NumPy.",
   "id": "ed2dfad5bf140d81"
  },
  {
   "metadata": {},
   "cell_type": "markdown",
   "source": "Create a NumPy array representing the number of job applications received each day for a week (7 days). The array should be called applications and contain the following numbers: [10, 15, 7, 20, 25, 30, 5]. Print the array.",
   "id": "dd0d362546fb5402"
  },
  {
   "metadata": {
    "ExecuteTime": {
     "end_time": "2024-08-22T18:25:33.756320Z",
     "start_time": "2024-08-22T18:25:33.504206Z"
    }
   },
   "cell_type": "code",
   "source": "import numpy as np",
   "id": "2d088d9a2a1d0d3e",
   "outputs": [],
   "execution_count": 1
  },
  {
   "cell_type": "code",
   "id": "initial_id",
   "metadata": {
    "collapsed": true,
    "ExecuteTime": {
     "end_time": "2024-08-22T18:26:02.547599Z",
     "start_time": "2024-08-22T18:26:02.535506Z"
    }
   },
   "source": [
    "application_list = [10, 15, 7, 20, 25, 30, 5]\n",
    "application = np.array(application_list)\n",
    "\n",
    "print(application)"
   ],
   "outputs": [
    {
     "name": "stdout",
     "output_type": "stream",
     "text": [
      "<class 'numpy.ndarray'>\n",
      "[10 15  7 20 25 30  5]\n"
     ]
    }
   ],
   "execution_count": 4
  },
  {
   "metadata": {},
   "cell_type": "markdown",
   "source": "Create a NumPy array representing the number of job postings for different job titles called postings. The array contains [10, 15, 7, 20, 25, 30, 5]. Use slicing to get the number of postings for the first three job titles.",
   "id": "3a7c0285a4f1e0e4"
  },
  {
   "metadata": {
    "ExecuteTime": {
     "end_time": "2024-08-22T18:27:41.611380Z",
     "start_time": "2024-08-22T18:27:41.599708Z"
    }
   },
   "cell_type": "code",
   "source": [
    "# Slicing: [start:stop:step]\n",
    "postings_list = [10, 15, 7, 20, 25, 30, 5]\n",
    "postings = np.array(postings_list)\n",
    "\n",
    "print(postings[:3])"
   ],
   "id": "23df578ff1c85d1",
   "outputs": [
    {
     "name": "stdout",
     "output_type": "stream",
     "text": [
      "[10 15  7]\n"
     ]
    }
   ],
   "execution_count": 6
  },
  {
   "metadata": {},
   "cell_type": "markdown",
   "source": "Create a NumPy array representing the salaries called salaries offered for five different job positions. Calculate the highest and lowest salary using NumPy functions. The array salaries contains [70000, 85000, 60000, 95000, 80000].",
   "id": "c3e60b93132a17b1"
  },
  {
   "metadata": {
    "ExecuteTime": {
     "end_time": "2024-08-22T18:29:26.924756Z",
     "start_time": "2024-08-22T18:29:26.911770Z"
    }
   },
   "cell_type": "code",
   "source": [
    "salaries_list = [70000, 85000, 60000, 95000, 80000]\n",
    "\n",
    "salaries = np.array(salaries_list)\n",
    "\n",
    "print(f\"Highest salary: {np.max(salaries)}\")\n",
    "print(f\"Lowest salary: {np.min(salaries)}\")"
   ],
   "id": "3e02b71befd4dd72",
   "outputs": [
    {
     "name": "stdout",
     "output_type": "stream",
     "text": [
      "Highest salary: 95000\n",
      "Lowest salary: 60000\n"
     ]
    }
   ],
   "execution_count": 7
  }
 ],
 "metadata": {
  "kernelspec": {
   "display_name": "Python 3",
   "language": "python",
   "name": "python3"
  },
  "language_info": {
   "codemirror_mode": {
    "name": "ipython",
    "version": 2
   },
   "file_extension": ".py",
   "mimetype": "text/x-python",
   "name": "python",
   "nbconvert_exporter": "python",
   "pygments_lexer": "ipython2",
   "version": "2.7.6"
  }
 },
 "nbformat": 4,
 "nbformat_minor": 5
}
